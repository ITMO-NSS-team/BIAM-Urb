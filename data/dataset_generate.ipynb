{
  "nbformat": 4,
  "nbformat_minor": 0,
  "metadata": {
    "colab": {
      "provenance": []
    },
    "kernelspec": {
      "name": "python3",
      "display_name": "Python 3"
    },
    "language_info": {
      "name": "python"
    }
  },
  "cells": [
    {
      "cell_type": "markdown",
      "source": [
        "# Функции"
      ],
      "metadata": {
        "id": "pPhZ9gE6S4Gw"
      }
    },
    {
      "cell_type": "code",
      "source": [
        "def rule_project_type(t):\n",
        "  if t == 'Типовой':\n",
        "    return \"типовому\"\n",
        "  elif t == 'Индивидуальный':\n",
        "    return \"индивидуальному\"\n",
        "  return t\n",
        "\n",
        "def rule_round(t):\n",
        "  if np.isnan(t):\n",
        "    return 'null'\n",
        "  return round(t)\n",
        "\n",
        "def rule_binary(t):\n",
        "  return \"есть\" if t else \"отсутствует\"\n",
        "\n",
        "def rule_no(t):\n",
        "  return \"не \" if t else \"\"\n",
        "\n",
        "def rule_name(t):\n",
        "  return \"не \" if not t==\"Жилой дом\" else \"\"\n",
        "\n",
        "def rule_point(t):\n",
        "  return (t.x, t.y)\n",
        "\n",
        "rules = {\n",
        "        'project_type': rule_project_type,\n",
        "        'building_area': rule_round,\n",
        "        'living_area': rule_round,\n",
        "        'storeys_count': rule_round,\n",
        "        'resident_number': rule_round,\n",
        "        'population_balanced': rule_round,\n",
        "        'central_heating': rule_binary,\n",
        "        'central_hot_water': rule_binary,\n",
        "        'central_water': rule_binary,\n",
        "        'central_electricity': rule_binary,\n",
        "        'central_gas': rule_binary,\n",
        "        'refusechute': rule_binary,\n",
        "        'failure': rule_no,\n",
        "        'lift_count': rule_round,\n",
        "        'name': rule_name,\n",
        "        'building_year': rule_round,\n",
        "        'geometry': rule_point\n",
        "    }"
      ],
      "metadata": {
        "id": "8_Ul77cdqVz9"
      },
      "execution_count": null,
      "outputs": []
    },
    {
      "cell_type": "code",
      "source": [
        "def clean_data(data):\n",
        "  return data.dropna(subset=['address'])"
      ],
      "metadata": {
        "id": "qnBG1A6dMwhY"
      },
      "execution_count": null,
      "outputs": []
    },
    {
      "cell_type": "code",
      "source": [
        "import numpy as np\n",
        "\n",
        "def process_target(target_name, data_row, rules):\n",
        "  if data_row[target_name] is not None:\n",
        "    target_value = data_row[target_name]\n",
        "    if target_name in rules:\n",
        "      target_value = rules[target_name](target_value)\n",
        "  else:\n",
        "    target_value = 'null'\n",
        "  return target_value"
      ],
      "metadata": {
        "id": "I_fOHSDgx6pC"
      },
      "execution_count": null,
      "outputs": []
    },
    {
      "cell_type": "code",
      "source": [
        "from shapely.geometry import Point\n",
        "\n",
        "def process_true_target(target_name, data_row):\n",
        "  target_value = data_row[target_name]\n",
        "  if target_value is None:\n",
        "    return 'null'\n",
        "  if isinstance(target_value, float) and np.isnan(target_value):\n",
        "    return'null'\n",
        "  if isinstance(target_value, Point):\n",
        "    return (target_value.x, target_value.y)\n",
        "  return target_value"
      ],
      "metadata": {
        "id": "NJmtmeB7h-E9"
      },
      "execution_count": null,
      "outputs": []
    },
    {
      "cell_type": "code",
      "source": [
        "def generate_query_and_response(query_template, response_template, target_name, data_row, rules):\n",
        "  building_id = data_row['id']\n",
        "  address = data_row['address']\n",
        "  query = query_template.format(address=address)\n",
        "  target_value = process_target(target_name, data_row, rules)\n",
        "\n",
        "  if target_value == 'null':\n",
        "    response = f'Для дома по адресу \"{address}\" данная информация отсутствует'\n",
        "  else:\n",
        "    response = response_template.format(address=data_row['address'], target=target_value)\n",
        "  return building_id, query, response, process_true_target(target_name, data_row)"
      ],
      "metadata": {
        "id": "OAXkMJn5NGZl"
      },
      "execution_count": null,
      "outputs": []
    },
    {
      "cell_type": "markdown",
      "source": [
        "# Обзор датасетов"
      ],
      "metadata": {
        "id": "U-HSPcIqS-wA"
      }
    },
    {
      "cell_type": "code",
      "source": [
        "import pandas as pd\n",
        "\n",
        "# шаблоны вопросов\n",
        "\n",
        "templates = pd.read_csv('templates.tsv', sep='\\t')\n",
        "templates.head(5)"
      ],
      "metadata": {
        "colab": {
          "base_uri": "https://localhost:8080/",
          "height": 206
        },
        "id": "bHdGE9Jj9OSC",
        "outputId": "8acf6355-db3a-4c0d-f696-8f55a23dae18"
      },
      "execution_count": null,
      "outputs": [
        {
          "output_type": "execute_result",
          "data": {
            "text/plain": [
              "                                      query_template          target_name  \\\n",
              "0  Какой идентификатор физического объекта у дома...                   id   \n",
              "1  В каком районе находится дом по адресу \"{addre...  administrative_unit   \n",
              "2  В каком муниципальном образовании находится до...         municipality   \n",
              "3  Какой тип проекта застройки дома по адресу \"{a...         project_type   \n",
              "4  Какая площадь основания здания по адресу \"{add...        building_area   \n",
              "\n",
              "                                   response_template  \n",
              "0  Идентификатор дома по адресу \"{address}\" – {ta...  \n",
              "1  Дом по адресу \"{address}\" находится в районе \"...  \n",
              "2  Дом по адресу \"{address}\" находится в муниципа...  \n",
              "3  Дом по адресу \"{address}\" построен по {target}...  \n",
              "4  Площадь основания здания по адресу \"{address}\"...  "
            ],
            "text/html": [
              "\n",
              "  <div id=\"df-737503b4-c0a9-44f8-a230-8857b7e6413e\" class=\"colab-df-container\">\n",
              "    <div>\n",
              "<style scoped>\n",
              "    .dataframe tbody tr th:only-of-type {\n",
              "        vertical-align: middle;\n",
              "    }\n",
              "\n",
              "    .dataframe tbody tr th {\n",
              "        vertical-align: top;\n",
              "    }\n",
              "\n",
              "    .dataframe thead th {\n",
              "        text-align: right;\n",
              "    }\n",
              "</style>\n",
              "<table border=\"1\" class=\"dataframe\">\n",
              "  <thead>\n",
              "    <tr style=\"text-align: right;\">\n",
              "      <th></th>\n",
              "      <th>query_template</th>\n",
              "      <th>target_name</th>\n",
              "      <th>response_template</th>\n",
              "    </tr>\n",
              "  </thead>\n",
              "  <tbody>\n",
              "    <tr>\n",
              "      <th>0</th>\n",
              "      <td>Какой идентификатор физического объекта у дома...</td>\n",
              "      <td>id</td>\n",
              "      <td>Идентификатор дома по адресу \"{address}\" – {ta...</td>\n",
              "    </tr>\n",
              "    <tr>\n",
              "      <th>1</th>\n",
              "      <td>В каком районе находится дом по адресу \"{addre...</td>\n",
              "      <td>administrative_unit</td>\n",
              "      <td>Дом по адресу \"{address}\" находится в районе \"...</td>\n",
              "    </tr>\n",
              "    <tr>\n",
              "      <th>2</th>\n",
              "      <td>В каком муниципальном образовании находится до...</td>\n",
              "      <td>municipality</td>\n",
              "      <td>Дом по адресу \"{address}\" находится в муниципа...</td>\n",
              "    </tr>\n",
              "    <tr>\n",
              "      <th>3</th>\n",
              "      <td>Какой тип проекта застройки дома по адресу \"{a...</td>\n",
              "      <td>project_type</td>\n",
              "      <td>Дом по адресу \"{address}\" построен по {target}...</td>\n",
              "    </tr>\n",
              "    <tr>\n",
              "      <th>4</th>\n",
              "      <td>Какая площадь основания здания по адресу \"{add...</td>\n",
              "      <td>building_area</td>\n",
              "      <td>Площадь основания здания по адресу \"{address}\"...</td>\n",
              "    </tr>\n",
              "  </tbody>\n",
              "</table>\n",
              "</div>\n",
              "    <div class=\"colab-df-buttons\">\n",
              "\n",
              "  <div class=\"colab-df-container\">\n",
              "    <button class=\"colab-df-convert\" onclick=\"convertToInteractive('df-737503b4-c0a9-44f8-a230-8857b7e6413e')\"\n",
              "            title=\"Convert this dataframe to an interactive table.\"\n",
              "            style=\"display:none;\">\n",
              "\n",
              "  <svg xmlns=\"http://www.w3.org/2000/svg\" height=\"24px\" viewBox=\"0 -960 960 960\">\n",
              "    <path d=\"M120-120v-720h720v720H120Zm60-500h600v-160H180v160Zm220 220h160v-160H400v160Zm0 220h160v-160H400v160ZM180-400h160v-160H180v160Zm440 0h160v-160H620v160ZM180-180h160v-160H180v160Zm440 0h160v-160H620v160Z\"/>\n",
              "  </svg>\n",
              "    </button>\n",
              "\n",
              "  <style>\n",
              "    .colab-df-container {\n",
              "      display:flex;\n",
              "      gap: 12px;\n",
              "    }\n",
              "\n",
              "    .colab-df-convert {\n",
              "      background-color: #E8F0FE;\n",
              "      border: none;\n",
              "      border-radius: 50%;\n",
              "      cursor: pointer;\n",
              "      display: none;\n",
              "      fill: #1967D2;\n",
              "      height: 32px;\n",
              "      padding: 0 0 0 0;\n",
              "      width: 32px;\n",
              "    }\n",
              "\n",
              "    .colab-df-convert:hover {\n",
              "      background-color: #E2EBFA;\n",
              "      box-shadow: 0px 1px 2px rgba(60, 64, 67, 0.3), 0px 1px 3px 1px rgba(60, 64, 67, 0.15);\n",
              "      fill: #174EA6;\n",
              "    }\n",
              "\n",
              "    .colab-df-buttons div {\n",
              "      margin-bottom: 4px;\n",
              "    }\n",
              "\n",
              "    [theme=dark] .colab-df-convert {\n",
              "      background-color: #3B4455;\n",
              "      fill: #D2E3FC;\n",
              "    }\n",
              "\n",
              "    [theme=dark] .colab-df-convert:hover {\n",
              "      background-color: #434B5C;\n",
              "      box-shadow: 0px 1px 3px 1px rgba(0, 0, 0, 0.15);\n",
              "      filter: drop-shadow(0px 1px 2px rgba(0, 0, 0, 0.3));\n",
              "      fill: #FFFFFF;\n",
              "    }\n",
              "  </style>\n",
              "\n",
              "    <script>\n",
              "      const buttonEl =\n",
              "        document.querySelector('#df-737503b4-c0a9-44f8-a230-8857b7e6413e button.colab-df-convert');\n",
              "      buttonEl.style.display =\n",
              "        google.colab.kernel.accessAllowed ? 'block' : 'none';\n",
              "\n",
              "      async function convertToInteractive(key) {\n",
              "        const element = document.querySelector('#df-737503b4-c0a9-44f8-a230-8857b7e6413e');\n",
              "        const dataTable =\n",
              "          await google.colab.kernel.invokeFunction('convertToInteractive',\n",
              "                                                    [key], {});\n",
              "        if (!dataTable) return;\n",
              "\n",
              "        const docLinkHtml = 'Like what you see? Visit the ' +\n",
              "          '<a target=\"_blank\" href=https://colab.research.google.com/notebooks/data_table.ipynb>data table notebook</a>'\n",
              "          + ' to learn more about interactive tables.';\n",
              "        element.innerHTML = '';\n",
              "        dataTable['output_type'] = 'display_data';\n",
              "        await google.colab.output.renderOutput(dataTable, element);\n",
              "        const docLink = document.createElement('div');\n",
              "        docLink.innerHTML = docLinkHtml;\n",
              "        element.appendChild(docLink);\n",
              "      }\n",
              "    </script>\n",
              "  </div>\n",
              "\n",
              "\n",
              "<div id=\"df-b118f44f-2d5d-4aca-9088-c6eb87200f05\">\n",
              "  <button class=\"colab-df-quickchart\" onclick=\"quickchart('df-b118f44f-2d5d-4aca-9088-c6eb87200f05')\"\n",
              "            title=\"Suggest charts\"\n",
              "            style=\"display:none;\">\n",
              "\n",
              "<svg xmlns=\"http://www.w3.org/2000/svg\" height=\"24px\"viewBox=\"0 0 24 24\"\n",
              "     width=\"24px\">\n",
              "    <g>\n",
              "        <path d=\"M19 3H5c-1.1 0-2 .9-2 2v14c0 1.1.9 2 2 2h14c1.1 0 2-.9 2-2V5c0-1.1-.9-2-2-2zM9 17H7v-7h2v7zm4 0h-2V7h2v10zm4 0h-2v-4h2v4z\"/>\n",
              "    </g>\n",
              "</svg>\n",
              "  </button>\n",
              "\n",
              "<style>\n",
              "  .colab-df-quickchart {\n",
              "      --bg-color: #E8F0FE;\n",
              "      --fill-color: #1967D2;\n",
              "      --hover-bg-color: #E2EBFA;\n",
              "      --hover-fill-color: #174EA6;\n",
              "      --disabled-fill-color: #AAA;\n",
              "      --disabled-bg-color: #DDD;\n",
              "  }\n",
              "\n",
              "  [theme=dark] .colab-df-quickchart {\n",
              "      --bg-color: #3B4455;\n",
              "      --fill-color: #D2E3FC;\n",
              "      --hover-bg-color: #434B5C;\n",
              "      --hover-fill-color: #FFFFFF;\n",
              "      --disabled-bg-color: #3B4455;\n",
              "      --disabled-fill-color: #666;\n",
              "  }\n",
              "\n",
              "  .colab-df-quickchart {\n",
              "    background-color: var(--bg-color);\n",
              "    border: none;\n",
              "    border-radius: 50%;\n",
              "    cursor: pointer;\n",
              "    display: none;\n",
              "    fill: var(--fill-color);\n",
              "    height: 32px;\n",
              "    padding: 0;\n",
              "    width: 32px;\n",
              "  }\n",
              "\n",
              "  .colab-df-quickchart:hover {\n",
              "    background-color: var(--hover-bg-color);\n",
              "    box-shadow: 0 1px 2px rgba(60, 64, 67, 0.3), 0 1px 3px 1px rgba(60, 64, 67, 0.15);\n",
              "    fill: var(--button-hover-fill-color);\n",
              "  }\n",
              "\n",
              "  .colab-df-quickchart-complete:disabled,\n",
              "  .colab-df-quickchart-complete:disabled:hover {\n",
              "    background-color: var(--disabled-bg-color);\n",
              "    fill: var(--disabled-fill-color);\n",
              "    box-shadow: none;\n",
              "  }\n",
              "\n",
              "  .colab-df-spinner {\n",
              "    border: 2px solid var(--fill-color);\n",
              "    border-color: transparent;\n",
              "    border-bottom-color: var(--fill-color);\n",
              "    animation:\n",
              "      spin 1s steps(1) infinite;\n",
              "  }\n",
              "\n",
              "  @keyframes spin {\n",
              "    0% {\n",
              "      border-color: transparent;\n",
              "      border-bottom-color: var(--fill-color);\n",
              "      border-left-color: var(--fill-color);\n",
              "    }\n",
              "    20% {\n",
              "      border-color: transparent;\n",
              "      border-left-color: var(--fill-color);\n",
              "      border-top-color: var(--fill-color);\n",
              "    }\n",
              "    30% {\n",
              "      border-color: transparent;\n",
              "      border-left-color: var(--fill-color);\n",
              "      border-top-color: var(--fill-color);\n",
              "      border-right-color: var(--fill-color);\n",
              "    }\n",
              "    40% {\n",
              "      border-color: transparent;\n",
              "      border-right-color: var(--fill-color);\n",
              "      border-top-color: var(--fill-color);\n",
              "    }\n",
              "    60% {\n",
              "      border-color: transparent;\n",
              "      border-right-color: var(--fill-color);\n",
              "    }\n",
              "    80% {\n",
              "      border-color: transparent;\n",
              "      border-right-color: var(--fill-color);\n",
              "      border-bottom-color: var(--fill-color);\n",
              "    }\n",
              "    90% {\n",
              "      border-color: transparent;\n",
              "      border-bottom-color: var(--fill-color);\n",
              "    }\n",
              "  }\n",
              "</style>\n",
              "\n",
              "  <script>\n",
              "    async function quickchart(key) {\n",
              "      const quickchartButtonEl =\n",
              "        document.querySelector('#' + key + ' button');\n",
              "      quickchartButtonEl.disabled = true;  // To prevent multiple clicks.\n",
              "      quickchartButtonEl.classList.add('colab-df-spinner');\n",
              "      try {\n",
              "        const charts = await google.colab.kernel.invokeFunction(\n",
              "            'suggestCharts', [key], {});\n",
              "      } catch (error) {\n",
              "        console.error('Error during call to suggestCharts:', error);\n",
              "      }\n",
              "      quickchartButtonEl.classList.remove('colab-df-spinner');\n",
              "      quickchartButtonEl.classList.add('colab-df-quickchart-complete');\n",
              "    }\n",
              "    (() => {\n",
              "      let quickchartButtonEl =\n",
              "        document.querySelector('#df-b118f44f-2d5d-4aca-9088-c6eb87200f05 button');\n",
              "      quickchartButtonEl.style.display =\n",
              "        google.colab.kernel.accessAllowed ? 'block' : 'none';\n",
              "    })();\n",
              "  </script>\n",
              "</div>\n",
              "    </div>\n",
              "  </div>\n"
            ],
            "application/vnd.google.colaboratory.intrinsic+json": {
              "type": "dataframe",
              "variable_name": "templates",
              "summary": "{\n  \"name\": \"templates\",\n  \"rows\": 22,\n  \"fields\": [\n    {\n      \"column\": \"query_template\",\n      \"properties\": {\n        \"dtype\": \"string\",\n        \"num_unique_values\": 22,\n        \"samples\": [\n          \"\\u041a\\u0430\\u043a\\u043e\\u0439 \\u0438\\u0434\\u0435\\u043d\\u0442\\u0438\\u0444\\u0438\\u043a\\u0430\\u0442\\u043e\\u0440 \\u0444\\u0438\\u0437\\u0438\\u0447\\u0435\\u0441\\u043a\\u043e\\u0433\\u043e \\u043e\\u0431\\u044a\\u0435\\u043a\\u0442\\u0430 \\u0443 \\u0434\\u043e\\u043c\\u0430 \\u043f\\u043e \\u0430\\u0434\\u0440\\u0435\\u0441\\u0443 \\\"{address}\\\"?\",\n          \"\\u0415\\u0441\\u0442\\u044c \\u043b\\u0438 \\u0432 \\u0434\\u043e\\u043c\\u0435 \\u043f\\u043e \\u0430\\u0434\\u0440\\u0435\\u0441\\u0443 \\\"{address}\\\" \\u0446\\u0435\\u043d\\u0442\\u0440\\u0430\\u043b\\u044c\\u043d\\u044b\\u0439 \\u0433\\u0430\\u0437\\u043e\\u043f\\u0440\\u043e\\u0432\\u043e\\u0434 (\\u0433\\u0430\\u0437)?\",\n          \"\\u041a\\u0430\\u043a\\u043e\\u0432\\u043e \\u043c\\u043e\\u0434\\u0435\\u043b\\u0438\\u0440\\u043e\\u0432\\u0430\\u043d\\u043d\\u043e\\u0435 \\u0447\\u0438\\u0441\\u043b\\u043e \\u0436\\u0438\\u0442\\u0435\\u043b\\u0435\\u0439 (\\u043f\\u043e\\u0441\\u043b\\u0435 \\u0431\\u0430\\u043b\\u0430\\u043d\\u0441\\u0438\\u0440\\u043e\\u0432\\u043a\\u0438) \\u0432 \\u0434\\u043e\\u043c\\u0435 \\u043f\\u043e \\u0430\\u0434\\u0440\\u0435\\u0441\\u0443 \\\"{address}\\\"?\"\n        ],\n        \"semantic_type\": \"\",\n        \"description\": \"\"\n      }\n    },\n    {\n      \"column\": \"target_name\",\n      \"properties\": {\n        \"dtype\": \"string\",\n        \"num_unique_values\": 22,\n        \"samples\": [\n          \"id\",\n          \"central_gas\",\n          \"population_balanced\"\n        ],\n        \"semantic_type\": \"\",\n        \"description\": \"\"\n      }\n    },\n    {\n      \"column\": \"response_template\",\n      \"properties\": {\n        \"dtype\": \"string\",\n        \"num_unique_values\": 22,\n        \"samples\": [\n          \"\\u0418\\u0434\\u0435\\u043d\\u0442\\u0438\\u0444\\u0438\\u043a\\u0430\\u0442\\u043e\\u0440 \\u0434\\u043e\\u043c\\u0430 \\u043f\\u043e \\u0430\\u0434\\u0440\\u0435\\u0441\\u0443 \\\"{address}\\\" \\u2013 {target}.\",\n          \"\\u0412 \\u0434\\u043e\\u043c\\u0435 \\u043f\\u043e \\u0430\\u0434\\u0440\\u0435\\u0441\\u0443 \\\"{address}\\\" {target} \\u0446\\u0435\\u043d\\u0442\\u0440\\u0430\\u043b\\u044c\\u043d\\u044b\\u0439 \\u0433\\u0430\\u0437\\u043e\\u043f\\u0440\\u043e\\u0432\\u043e\\u0434.\",\n          \"\\u041c\\u043e\\u0434\\u0435\\u043b\\u0438\\u0440\\u043e\\u0432\\u0430\\u043d\\u043d\\u043e\\u0435 \\u0447\\u0438\\u0441\\u043b\\u043e \\u0436\\u0438\\u0442\\u0435\\u043b\\u0435\\u0439 (\\u043f\\u043e\\u0441\\u043b\\u0435 \\u0431\\u0430\\u043b\\u0430\\u043d\\u0441\\u0438\\u0440\\u043e\\u0432\\u043a\\u0438) \\u2013 {target} \\u0447\\u0435\\u043b\\u043e\\u0432\\u0435\\u043a.\"\n        ],\n        \"semantic_type\": \"\",\n        \"description\": \"\"\n      }\n    }\n  ]\n}"
            }
          },
          "metadata": {},
          "execution_count": 6
        }
      ]
    },
    {
      "cell_type": "code",
      "source": [
        "# загружаем и чистим данные от пустых адресов\n",
        "\n",
        "import geopandas as gpd\n",
        "\n",
        "filepath = 'spb_buildings.geojson'\n",
        "# filepath = '/content/buildings_part_0.geojson'\n",
        "data = gpd.read_file(filepath)\n",
        "print(len(data))\n",
        "\n",
        "cleaned_data = clean_data(data)\n",
        "print(len(cleaned_data))"
      ],
      "metadata": {
        "id": "wzq7Q28tLW0-",
        "colab": {
          "base_uri": "https://localhost:8080/"
        },
        "outputId": "b1c5143a-9907-4fdb-d590-758e62ad869c"
      },
      "execution_count": null,
      "outputs": [
        {
          "output_type": "stream",
          "name": "stdout",
          "text": [
            "89163\n",
            "78172\n"
          ]
        }
      ]
    },
    {
      "cell_type": "code",
      "source": [
        "data_row = cleaned_data.iloc[0]\n",
        "query_template, target_name, response_template = templates.iloc[-1]\n",
        "\n",
        "generate_query_and_response(query_template, response_template, target_name, data_row, rules)"
      ],
      "metadata": {
        "colab": {
          "base_uri": "https://localhost:8080/"
        },
        "id": "7-ggUPmJcj8O",
        "outputId": "992712ff-d232-46cc-a85d-a8264ef62a53"
      },
      "execution_count": null,
      "outputs": [
        {
          "output_type": "execute_result",
          "data": {
            "text/plain": [
              "(112224,\n",
              " 'Каковы геометрические координаты дома по адресу \"Санкт-Петербург, Новочеркасский проспект, 41, Заневский проспект, 14\"?',\n",
              " 'Геометрические координаты дома по адресу \"Санкт-Петербург, Новочеркасский проспект, 41, Заневский проспект, 14\" – (30.410393, 59.929312).',\n",
              " (30.410393, 59.929312))"
            ]
          },
          "metadata": {},
          "execution_count": 8
        }
      ]
    },
    {
      "cell_type": "code",
      "source": [
        "# проверяем, что для каждого шаблона генерируется правильный ответ\n",
        "\n",
        "data_row = data.iloc[0]\n",
        "for index, row in templates.iterrows():\n",
        "  query_template = row['query_template']\n",
        "  target = row['target_name']\n",
        "  response_template = row['response_template']\n",
        "  try:\n",
        "    print(generate_query_and_response(query_template, response_template, target, data_row, rules))\n",
        "  except KeyError:\n",
        "    print(f'Ошибка в запросе {target}')\n"
      ],
      "metadata": {
        "colab": {
          "base_uri": "https://localhost:8080/"
        },
        "id": "1emmmbJZVPpZ",
        "outputId": "91abd3b5-e818-48a0-81db-530083618b7d"
      },
      "execution_count": null,
      "outputs": [
        {
          "output_type": "stream",
          "name": "stdout",
          "text": [
            "(112224, 'Какой идентификатор физического объекта у дома по адресу \"Санкт-Петербург, Новочеркасский проспект, 41, Заневский проспект, 14\"?', 'Идентификатор дома по адресу \"Санкт-Петербург, Новочеркасский проспект, 41, Заневский проспект, 14\" – 112224.', 112224)\n",
            "(112224, 'В каком районе находится дом по адресу \"Санкт-Петербург, Новочеркасский проспект, 41, Заневский проспект, 14\"?', 'Дом по адресу \"Санкт-Петербург, Новочеркасский проспект, 41, Заневский проспект, 14\" находится в районе \"Красногвардейский\".', 'Красногвардейский')\n",
            "(112224, 'В каком муниципальном образовании находится дом по адресу \"Санкт-Петербург, Новочеркасский проспект, 41, Заневский проспект, 14\"?', 'Дом по адресу \"Санкт-Петербург, Новочеркасский проспект, 41, Заневский проспект, 14\" находится в муниципальном образовании Малая Охта.', 'Малая Охта')\n",
            "(112224, 'Какой тип проекта застройки дома по адресу \"Санкт-Петербург, Новочеркасский проспект, 41, Заневский проспект, 14\"?', 'Дом по адресу \"Санкт-Петербург, Новочеркасский проспект, 41, Заневский проспект, 14\" построен по индивидуальному проекту.', 'Индивидуальный')\n",
            "(112224, 'Какая площадь основания здания по адресу \"Санкт-Петербург, Новочеркасский проспект, 41, Заневский проспект, 14\"?', 'Площадь основания здания по адресу \"Санкт-Петербург, Новочеркасский проспект, 41, Заневский проспект, 14\" равна 2595 кв. м.', 2594.989990234375)\n",
            "(112224, 'Какова жилая площадь дома по адресу \"Санкт-Петербург, Новочеркасский проспект, 41, Заневский проспект, 14\"?', 'Жилкая площадь дома по адресу \"Санкт-Петербург, Новочеркасский проспект, 41, Заневский проспект, 14\" равна 10614 кв. м.', 10613.5)\n",
            "(112224, 'Сколько этажей в доме по адресу \"Санкт-Петербург, Новочеркасский проспект, 41, Заневский проспект, 14\"?', 'В доме по адресу \"Санкт-Петербург, Новочеркасский проспект, 41, Заневский проспект, 14\" 7 этажей', 7.0)\n",
            "(112224, 'Сколько человек проживает в доме по адресу \"Санкт-Петербург, Новочеркасский проспект, 41, Заневский проспект, 14\"?', 'В доме по адресу \"Санкт-Петербург, Новочеркасский проспект, 41, Заневский проспект, 14\" проживает 387 человек.', 387.0)\n",
            "(112224, 'Каково моделированное число жителей (после балансировки) в доме по адресу \"Санкт-Петербург, Новочеркасский проспект, 41, Заневский проспект, 14\"?', 'Моделированное число жителей (после балансировки) – 453 человек.', 453.0)\n",
            "(112224, 'Есть ли в доме по адресу \"Санкт-Петербург, Новочеркасский проспект, 41, Заневский проспект, 14\" центральное отопление?', 'В доме по адресу \"Санкт-Петербург, Новочеркасский проспект, 41, Заневский проспект, 14\" есть центральное отопление.', '1')\n",
            "(112224, 'Есть ли в доме по адресу \"Санкт-Петербург, Новочеркасский проспект, 41, Заневский проспект, 14\" центральное водоснабжение (горячая вода)?', 'В доме по адресу \"Санкт-Петербург, Новочеркасский проспект, 41, Заневский проспект, 14\" есть горячая вода.', '0')\n",
            "(112224, 'Есть ли в доме по адресу \"Санкт-Петербург, Новочеркасский проспект, 41, Заневский проспект, 14\" центральное водоснабжение (холодная вода)?', 'В доме по адресу \"Санкт-Петербург, Новочеркасский проспект, 41, Заневский проспект, 14\" есть холодная вода.', '1')\n",
            "(112224, 'Есть ли в доме по адресу \"Санкт-Петербург, Новочеркасский проспект, 41, Заневский проспект, 14\" централизованная электрификация (электричество)?', 'В доме по адресу \"Санкт-Петербург, Новочеркасский проспект, 41, Заневский проспект, 14\" есть централизованное электроснабжение.', '1')\n",
            "(112224, 'Есть ли в доме по адресу \"Санкт-Петербург, Новочеркасский проспект, 41, Заневский проспект, 14\" центральный газопровод (газ)?', 'В доме по адресу \"Санкт-Петербург, Новочеркасский проспект, 41, Заневский проспект, 14\" есть центральный газопровод.', '1')\n",
            "(112224, 'Есть ли в доме по адресу \"Санкт-Петербург, Новочеркасский проспект, 41, Заневский проспект, 14\" мусоропровод?', 'В доме по адресу \"Санкт-Петербург, Новочеркасский проспект, 41, Заневский проспект, 14\" есть мусоропровод.', '1')\n",
            "(112224, 'Как называется управляющая компания в доме по адресу \"Санкт-Петербург, Новочеркасский проспект, 41, Заневский проспект, 14\"?', 'Управляющая компания в доме по адресу \"Санкт-Петербург, Новочеркасский проспект, 41, Заневский проспект, 14\" называется \"ТСЖ \"Лира\"\".', 'ТСЖ \"Лира\"')\n",
            "(112224, 'Является ли дом по адресу \"Санкт-Петербург, Новочеркасский проспект, 41, Заневский проспект, 14\" аварийным?', 'Дом по адресу \"Санкт-Петербург, Новочеркасский проспект, 41, Заневский проспект, 14\" не является аварийным.', '0')\n",
            "(112224, 'Сколько лифтов в доме по адресу \"Санкт-Петербург, Новочеркасский проспект, 41, Заневский проспект, 14\"?', 'В доме по адресу \"Санкт-Петербург, Новочеркасский проспект, 41, Заневский проспект, 14\" 5 лифтов.', 5.0)\n",
            "(112224, 'В какие годы производился капремонт дома по адресу \"Санкт-Петербург, Новочеркасский проспект, 41, Заневский проспект, 14\"?', 'Капремонт в доме по адресу \"Санкт-Петербург, Новочеркасский проспект, 41, Заневский проспект, 14\" производился в следующие годы: 2002; 2003; 2004; 2006; 2008; 2010; 2013.', '2002; 2003; 2004; 2006; 2008; 2010; 2013')\n",
            "(112224, 'Является ли здание по адресу \"Санкт-Петербург, Новочеркасский проспект, 41, Заневский проспект, 14\" жилым?', 'Дом по адресу \"Санкт-Петербург, Новочеркасский проспект, 41, Заневский проспект, 14\" является жилым.', 'Жилой дом')\n",
            "(112224, 'Какой год постройки дома по адресу \"Санкт-Петербург, Новочеркасский проспект, 41, Заневский проспект, 14\"?', 'Дом по адресу \"Санкт-Петербург, Новочеркасский проспект, 41, Заневский проспект, 14\" был построен в 1957 году.', 1957.0)\n",
            "(112224, 'Каковы геометрические координаты дома по адресу \"Санкт-Петербург, Новочеркасский проспект, 41, Заневский проспект, 14\"?', 'Геометрические координаты дома по адресу \"Санкт-Петербург, Новочеркасский проспект, 41, Заневский проспект, 14\" – (30.410393, 59.929312).', (30.410393, 59.929312))\n"
          ]
        }
      ]
    },
    {
      "cell_type": "markdown",
      "source": [
        "# Генерируем датасет и разбиваем на батчи"
      ],
      "metadata": {
        "id": "rh8NYQqOTbfy"
      }
    },
    {
      "cell_type": "code",
      "source": [
        "import random\n",
        "\n",
        "def calculate_range(n_batch, batch_size=10):\n",
        "    start = n_batch * batch_size\n",
        "    end = start + batch_size\n",
        "    return start, end\n",
        "\n",
        "def generate_dataset(data, templates, rules, n_batch, batch_size=10):\n",
        "  # data_rows = random.sample(range(len(data)), n)\n",
        "  start, end = calculate_range(n_batch, batch_size)\n",
        "  data_rows = range(start, end)\n",
        "  dataset = {}\n",
        "  for data_id in data_rows:\n",
        "    data_row = data.iloc[data_id]\n",
        "    for index, row in templates.iterrows():\n",
        "      key = f'{data_id}_{index}'\n",
        "      query_template = row['query_template']\n",
        "      response_template = row['response_template']\n",
        "      target = row['target_name']\n",
        "      building_id, query, response, target_value = generate_query_and_response(query_template, response_template, target, data_row, rules)\n",
        "      dataset[key] = {\n",
        "          'building_id': building_id,\n",
        "          'query': query,\n",
        "          'response': response,\n",
        "          'target_value': target_value\n",
        "      }\n",
        "  return dataset"
      ],
      "metadata": {
        "id": "SgmsUJnB-JXH"
      },
      "execution_count": null,
      "outputs": []
    },
    {
      "cell_type": "code",
      "source": [
        "import json\n",
        "\n",
        "def numpy_to_python(o):\n",
        "    \"\"\" Конвертирует объекты NumPy в стандартные типы Python для сериализации в JSON. \"\"\"\n",
        "    if isinstance(o, np.float64):\n",
        "        return float(o)\n",
        "    elif isinstance(o, np.integer):\n",
        "        return int(o)\n",
        "    return o\n",
        "\n",
        "def save_to_json(dataset, n_batch):\n",
        "  with open(f'datasets/data_{n_batch}.json', 'w', encoding='utf-8') as f:\n",
        "    json.dump(dataset, f, ensure_ascii=False, indent=4, default=numpy_to_python)"
      ],
      "metadata": {
        "id": "NEFfmLSxRQLb"
      },
      "execution_count": null,
      "outputs": []
    },
    {
      "cell_type": "code",
      "source": [
        "import os\n",
        "\n",
        "os.mkdir('buildings')\n",
        "os.mkdir('datasets')"
      ],
      "metadata": {
        "id": "ZI6HZXOioLPe"
      },
      "execution_count": null,
      "outputs": []
    },
    {
      "cell_type": "code",
      "source": [
        "batch_size = 10   # количество домов в файле\n",
        "total_parts = len(cleaned_data) // batch_size\n",
        "for n in range(total_parts):\n",
        "  dataset = generate_dataset(cleaned_data, templates, rules, n_batch=n, batch_size=batch_size)\n",
        "  save_to_json(dataset, n)\n",
        "  start, end = calculate_range(n)\n",
        "  building_chunk = cleaned_data.iloc[start:end]\n",
        "  building_chunk.to_file(f\"buildings/buildings_part_{n}.geojson\", driver='GeoJSON')"
      ],
      "metadata": {
        "id": "6LIcirCcXwRG"
      },
      "execution_count": null,
      "outputs": []
    },
    {
      "cell_type": "code",
      "source": [
        "# пишем в zip\n",
        "\n",
        "import zipfile\n",
        "import os\n",
        "\n",
        "def zipdir(path, ziph):\n",
        "    for root, dirs, files in os.walk(path):\n",
        "        for file in files:\n",
        "            relative_path = os.path.relpath(os.path.join(root, file), os.path.join(path, '..'))\n",
        "            ziph.write(os.path.join(root, file), arcname=relative_path)\n",
        "\n",
        "def create_zip_archive(folder_paths, output_zip_file):\n",
        "    with zipfile.ZipFile(output_zip_file, 'w', zipfile.ZIP_DEFLATED) as zipf:\n",
        "        for folder_path in folder_paths:\n",
        "            zipdir(folder_path, zipf)\n",
        "    print(f\"Created zip archive '{output_zip_file}' containing the folders.\")\n",
        "\n",
        "folder_paths = ['buildings', 'datasets']  # Замените на свои пути к папкам\n",
        "output_zip_file = f'data_{batch_size}.zip'\n",
        "create_zip_archive(folder_paths, output_zip_file)\n"
      ],
      "metadata": {
        "colab": {
          "base_uri": "https://localhost:8080/"
        },
        "id": "5GX3W4eWbLLr",
        "outputId": "2b07a2a7-6118-4299-aab9-a5ba2b14a5f3"
      },
      "execution_count": null,
      "outputs": [
        {
          "output_type": "stream",
          "name": "stdout",
          "text": [
            "Created zip archive 'data_10.zip' containing the folders.\n"
          ]
        }
      ]
    },
    {
      "cell_type": "code",
      "source": [
        "import shutil\n",
        "\n",
        "shutil.rmtree('datasets')\n",
        "shutil.rmtree('buildings')"
      ],
      "metadata": {
        "id": "pBQCJs7fnzjx"
      },
      "execution_count": null,
      "outputs": []
    }
  ]
}