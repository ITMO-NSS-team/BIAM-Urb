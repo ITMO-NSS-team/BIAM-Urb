{
 "cells": [
  {
   "cell_type": "code",
   "execution_count": 12,
   "metadata": {},
   "outputs": [],
   "source": [
    "import geopandas as gpd\n",
    "import pandas as pd"
   ]
  },
  {
   "cell_type": "code",
   "execution_count": 4,
   "metadata": {},
   "outputs": [],
   "source": [
    "buildings = gpd.read_file('buildings.geojson')"
   ]
  },
  {
   "cell_type": "code",
   "execution_count": 5,
   "metadata": {},
   "outputs": [],
   "source": [
    "reports = gpd.read_file('reports.geojson')"
   ]
  },
  {
   "cell_type": "code",
   "execution_count": 6,
   "metadata": {},
   "outputs": [],
   "source": [
    "messages = gpd.read_file('messages.geojson')"
   ]
  },
  {
   "cell_type": "code",
   "execution_count": 4,
   "metadata": {},
   "outputs": [
    {
     "data": {
      "text/html": [
       "<div>\n",
       "<style scoped>\n",
       "    .dataframe tbody tr th:only-of-type {\n",
       "        vertical-align: middle;\n",
       "    }\n",
       "\n",
       "    .dataframe tbody tr th {\n",
       "        vertical-align: top;\n",
       "    }\n",
       "\n",
       "    .dataframe thead th {\n",
       "        text-align: right;\n",
       "    }\n",
       "</style>\n",
       "<table border=\"1\" class=\"dataframe\">\n",
       "  <thead>\n",
       "    <tr style=\"text-align: right;\">\n",
       "      <th></th>\n",
       "      <th>index</th>\n",
       "      <th>building_id</th>\n",
       "      <th>address</th>\n",
       "      <th>project_type</th>\n",
       "      <th>building_year</th>\n",
       "      <th>repair_years</th>\n",
       "      <th>building_area</th>\n",
       "      <th>living_area</th>\n",
       "      <th>storeys_count</th>\n",
       "      <th>central_heating</th>\n",
       "      <th>...</th>\n",
       "      <th>failure</th>\n",
       "      <th>is_living</th>\n",
       "      <th>resident_number</th>\n",
       "      <th>population_balanced</th>\n",
       "      <th>city</th>\n",
       "      <th>administrative_unit</th>\n",
       "      <th>municipality</th>\n",
       "      <th>block_id</th>\n",
       "      <th>kindergartens_provision_value</th>\n",
       "      <th>geometry</th>\n",
       "    </tr>\n",
       "  </thead>\n",
       "  <tbody>\n",
       "    <tr>\n",
       "      <th>0</th>\n",
       "      <td>0</td>\n",
       "      <td>137539</td>\n",
       "      <td>Санкт-Петербург, посёлок Парголово, садоводчес...</td>\n",
       "      <td>NaN</td>\n",
       "      <td>NaN</td>\n",
       "      <td>NaN</td>\n",
       "      <td>93.9880</td>\n",
       "      <td>NaN</td>\n",
       "      <td>NaN</td>\n",
       "      <td>0</td>\n",
       "      <td>...</td>\n",
       "      <td>0</td>\n",
       "      <td>True</td>\n",
       "      <td>NaN</td>\n",
       "      <td>0</td>\n",
       "      <td>Санкт-Петербург</td>\n",
       "      <td>Выборгский район</td>\n",
       "      <td>Парголово</td>\n",
       "      <td>164496.0</td>\n",
       "      <td>NaN</td>\n",
       "      <td>POLYGON ((30.18608 60.11278, 30.18625 60.11275...</td>\n",
       "    </tr>\n",
       "    <tr>\n",
       "      <th>1</th>\n",
       "      <td>1</td>\n",
       "      <td>137585</td>\n",
       "      <td>Санкт-Петербург, посёлок Парголово</td>\n",
       "      <td>NaN</td>\n",
       "      <td>NaN</td>\n",
       "      <td>NaN</td>\n",
       "      <td>37.3141</td>\n",
       "      <td>NaN</td>\n",
       "      <td>NaN</td>\n",
       "      <td>0</td>\n",
       "      <td>...</td>\n",
       "      <td>NaN</td>\n",
       "      <td>False</td>\n",
       "      <td>NaN</td>\n",
       "      <td>0</td>\n",
       "      <td>Санкт-Петербург</td>\n",
       "      <td>Выборгский район</td>\n",
       "      <td>Парголово</td>\n",
       "      <td>164616.0</td>\n",
       "      <td>NaN</td>\n",
       "      <td>POLYGON ((30.23020 60.07636, 30.23033 60.07637...</td>\n",
       "    </tr>\n",
       "    <tr>\n",
       "      <th>2</th>\n",
       "      <td>2</td>\n",
       "      <td>137603</td>\n",
       "      <td>Санкт-Петербург, Успенка, 39а</td>\n",
       "      <td>NaN</td>\n",
       "      <td>NaN</td>\n",
       "      <td>NaN</td>\n",
       "      <td>70.3008</td>\n",
       "      <td>49.2105</td>\n",
       "      <td>1.0</td>\n",
       "      <td>0</td>\n",
       "      <td>...</td>\n",
       "      <td>0</td>\n",
       "      <td>True</td>\n",
       "      <td>NaN</td>\n",
       "      <td>1</td>\n",
       "      <td>Санкт-Петербург</td>\n",
       "      <td>Выборгский район</td>\n",
       "      <td>Парголово</td>\n",
       "      <td>164616.0</td>\n",
       "      <td>NaN</td>\n",
       "      <td>POLYGON ((30.22085 60.07275, 30.22079 60.07279...</td>\n",
       "    </tr>\n",
       "  </tbody>\n",
       "</table>\n",
       "<p>3 rows × 27 columns</p>\n",
       "</div>"
      ],
      "text/plain": [
       "   index  building_id                                            address  \\\n",
       "0      0       137539  Санкт-Петербург, посёлок Парголово, садоводчес...   \n",
       "1      1       137585                 Санкт-Петербург, посёлок Парголово   \n",
       "2      2       137603                      Санкт-Петербург, Успенка, 39а   \n",
       "\n",
       "  project_type  building_year repair_years  building_area  living_area  \\\n",
       "0          NaN            NaN          NaN        93.9880          NaN   \n",
       "1          NaN            NaN          NaN        37.3141          NaN   \n",
       "2          NaN            NaN          NaN        70.3008      49.2105   \n",
       "\n",
       "   storeys_count central_heating  ... failure  is_living resident_number  \\\n",
       "0            NaN               0  ...       0       True             NaN   \n",
       "1            NaN               0  ...     NaN      False             NaN   \n",
       "2            1.0               0  ...       0       True             NaN   \n",
       "\n",
       "  population_balanced             city administrative_unit  municipality  \\\n",
       "0                   0  Санкт-Петербург    Выборгский район     Парголово   \n",
       "1                   0  Санкт-Петербург    Выборгский район     Парголово   \n",
       "2                   1  Санкт-Петербург    Выборгский район     Парголово   \n",
       "\n",
       "   block_id  kindergartens_provision_value  \\\n",
       "0  164496.0                            NaN   \n",
       "1  164616.0                            NaN   \n",
       "2  164616.0                            NaN   \n",
       "\n",
       "                                            geometry  \n",
       "0  POLYGON ((30.18608 60.11278, 30.18625 60.11275...  \n",
       "1  POLYGON ((30.23020 60.07636, 30.23033 60.07637...  \n",
       "2  POLYGON ((30.22085 60.07275, 30.22079 60.07279...  \n",
       "\n",
       "[3 rows x 27 columns]"
      ]
     },
     "execution_count": 4,
     "metadata": {},
     "output_type": "execute_result"
    }
   ],
   "source": [
    "buildings.head(3)"
   ]
  },
  {
   "cell_type": "code",
   "execution_count": 5,
   "metadata": {},
   "outputs": [
    {
     "data": {
      "text/plain": [
       "Index(['index', 'building_id', 'address', 'project_type', 'building_year',\n",
       "       'repair_years', 'building_area', 'living_area', 'storeys_count',\n",
       "       'central_heating', 'central_hotwater', 'central_water',\n",
       "       'central_electro', 'central_gas', 'refusechute', 'ukname', 'lift_count',\n",
       "       'failure', 'is_living', 'resident_number', 'population_balanced',\n",
       "       'city', 'administrative_unit', 'municipality', 'block_id',\n",
       "       'kindergartens_provision_value', 'geometry'],\n",
       "      dtype='object')"
      ]
     },
     "execution_count": 5,
     "metadata": {},
     "output_type": "execute_result"
    }
   ],
   "source": [
    "buildings.columns"
   ]
  },
  {
   "cell_type": "code",
   "execution_count": 7,
   "metadata": {},
   "outputs": [],
   "source": [
    "services = gpd.read_file('services.geojson')"
   ]
  },
  {
   "cell_type": "code",
   "execution_count": 21,
   "metadata": {},
   "outputs": [
    {
     "data": {
      "text/html": [
       "<div>\n",
       "<style scoped>\n",
       "    .dataframe tbody tr th:only-of-type {\n",
       "        vertical-align: middle;\n",
       "    }\n",
       "\n",
       "    .dataframe tbody tr th {\n",
       "        vertical-align: top;\n",
       "    }\n",
       "\n",
       "    .dataframe thead th {\n",
       "        text-align: right;\n",
       "    }\n",
       "</style>\n",
       "<table border=\"1\" class=\"dataframe\">\n",
       "  <thead>\n",
       "    <tr style=\"text-align: right;\">\n",
       "      <th></th>\n",
       "      <th>id</th>\n",
       "      <th>name</th>\n",
       "      <th>website</th>\n",
       "      <th>capacity</th>\n",
       "      <th>municipality</th>\n",
       "      <th>address</th>\n",
       "      <th>opening_hours</th>\n",
       "      <th>city_service_type</th>\n",
       "      <th>administrative_unit</th>\n",
       "      <th>block_id</th>\n",
       "      <th>phone</th>\n",
       "      <th>geometry</th>\n",
       "    </tr>\n",
       "  </thead>\n",
       "  <tbody>\n",
       "    <tr>\n",
       "      <th>0</th>\n",
       "      <td>155966.0</td>\n",
       "      <td>Народная аптека</td>\n",
       "      <td>NaN</td>\n",
       "      <td>292.0</td>\n",
       "      <td>Ланское</td>\n",
       "      <td>Санкт-Петербург, Ланское шоссе, 24 к1</td>\n",
       "      <td>24/7</td>\n",
       "      <td>Аптека</td>\n",
       "      <td>Приморский</td>\n",
       "      <td>944.0</td>\n",
       "      <td>NaN</td>\n",
       "      <td>POINT (30.32163 59.99656)</td>\n",
       "    </tr>\n",
       "    <tr>\n",
       "      <th>1</th>\n",
       "      <td>155829.0</td>\n",
       "      <td>Аптека на Боровой</td>\n",
       "      <td>NaN</td>\n",
       "      <td>706.0</td>\n",
       "      <td>Владимирский округ</td>\n",
       "      <td>NaN</td>\n",
       "      <td>Mo-Fr 09:00-21:00; Sa-Su 11:00-19:00</td>\n",
       "      <td>Аптека</td>\n",
       "      <td>Центральный</td>\n",
       "      <td>330.0</td>\n",
       "      <td>NaN</td>\n",
       "      <td>POINT (30.34591 59.91939)</td>\n",
       "    </tr>\n",
       "    <tr>\n",
       "      <th>2</th>\n",
       "      <td>155830.0</td>\n",
       "      <td>Первая Помощь</td>\n",
       "      <td>https://superapteka.ru/</td>\n",
       "      <td>15.0</td>\n",
       "      <td>Балканский</td>\n",
       "      <td>Санкт-Петербург, Будапештская, 83, Дунайский п...</td>\n",
       "      <td>Mo-Su 09:00-21:00</td>\n",
       "      <td>Аптека</td>\n",
       "      <td>Фрунзенский</td>\n",
       "      <td>587.0</td>\n",
       "      <td>NaN</td>\n",
       "      <td>POINT (30.39644 59.83794)</td>\n",
       "    </tr>\n",
       "  </tbody>\n",
       "</table>\n",
       "</div>"
      ],
      "text/plain": [
       "         id               name                  website  capacity  \\\n",
       "0  155966.0    Народная аптека                      NaN     292.0   \n",
       "1  155829.0  Аптека на Боровой                      NaN     706.0   \n",
       "2  155830.0      Первая Помощь  https://superapteka.ru/      15.0   \n",
       "\n",
       "         municipality                                            address  \\\n",
       "0             Ланское              Санкт-Петербург, Ланское шоссе, 24 к1   \n",
       "1  Владимирский округ                                                NaN   \n",
       "2          Балканский  Санкт-Петербург, Будапештская, 83, Дунайский п...   \n",
       "\n",
       "                          opening_hours city_service_type administrative_unit  \\\n",
       "0                                  24/7            Аптека          Приморский   \n",
       "1  Mo-Fr 09:00-21:00; Sa-Su 11:00-19:00            Аптека         Центральный   \n",
       "2                     Mo-Su 09:00-21:00            Аптека         Фрунзенский   \n",
       "\n",
       "   block_id phone                   geometry  \n",
       "0     944.0   NaN  POINT (30.32163 59.99656)  \n",
       "1     330.0   NaN  POINT (30.34591 59.91939)  \n",
       "2     587.0   NaN  POINT (30.39644 59.83794)  "
      ]
     },
     "execution_count": 21,
     "metadata": {},
     "output_type": "execute_result"
    }
   ],
   "source": [
    "services.head(3)"
   ]
  },
  {
   "cell_type": "code",
   "execution_count": 23,
   "metadata": {},
   "outputs": [
    {
     "data": {
      "text/plain": [
       "array(['Аптека', 'Больница', 'Детский сад', 'Музей',\n",
       "       'Объект культурного наследия', 'Универсам/супермаркет/гипермаркет',\n",
       "       'Школа'], dtype=object)"
      ]
     },
     "execution_count": 23,
     "metadata": {},
     "output_type": "execute_result"
    }
   ],
   "source": [
    "services.city_service_type.unique()"
   ]
  },
  {
   "cell_type": "code",
   "execution_count": 8,
   "metadata": {},
   "outputs": [
    {
     "name": "stdout",
     "output_type": "stream",
     "text": [
      "Q: На что мне обратить внимание по вопросам стратегии развития города?\n",
      "A: В сфере образования наблюдается разрыв между плановым показателем в 100% обеспеченности местами в детских садах и текущим показателем в 35%\n"
     ]
    }
   ],
   "source": [
    "print(\"Q: На что мне обратить внимание по вопросам стратегии развития города?\")\n",
    "MEAN_KINDERGARTEN_PROVISION = int(buildings.kindergartens_provision_value.dropna().mean().round(2) * 100)\n",
    "TARGET_KINDERGARTEN_PROVISION = 100\n",
    "print(f\"A: В сфере образования наблюдается разрыв между плановым показателем в {TARGET_KINDERGARTEN_PROVISION}% обеспеченности местами в детских садах и текущим показателем в {MEAN_KINDERGARTEN_PROVISION}%\")"
   ]
  },
  {
   "cell_type": "code",
   "execution_count": 26,
   "metadata": {},
   "outputs": [
    {
     "name": "stdout",
     "output_type": "stream",
     "text": [
      "Q: Какой на данный момент дефицит мест в детских садах в Московском районе?\n",
      "A: В Московском районе не хватает 22387 мест в детских садах\n"
     ]
    }
   ],
   "source": [
    "print(\"Q: Какой на данный момент дефицит мест в детских садах в Московском районе?\")\n",
    "kindergartens = services[services['city_service_type'] == 'Детский сад']\n",
    "kindergartens = kindergartens[kindergartens['administrative_unit'] == 'Московский']\n",
    "NUMBER_OF_PLACES_IN_KINDERGARTENS = int(kindergartens.capacity.sum()) #fix with true value\n",
    "print(f\"A: В Московском районе не хватает {NUMBER_OF_PLACES_IN_KINDERGARTENS} мест в детских садах\")\n"
   ]
  },
  {
   "cell_type": "code",
   "execution_count": 9,
   "metadata": {},
   "outputs": [
    {
     "name": "stdout",
     "output_type": "stream",
     "text": [
      "Q: В каком районе наиболее активно жалуются на благоустройство?\n",
      "A: Невский район имеет наибольшее количеством жалоб на благоустройство\n"
     ]
    }
   ],
   "source": [
    "print(f\"Q: В каком районе наиболее активно жалуются на благоустройство?\")\n",
    "problem_df = reports[reports['subcategory'] == 'Благоустройство']\n",
    "district_counts = problem_df.groupby('district').size()\n",
    "max_complaint_district = district_counts.idxmax()\n",
    "print(f\"A: {max_complaint_district} район имеет наибольшее количеством жалоб на благоустройство\")"
   ]
  },
  {
   "cell_type": "code",
   "execution_count": 10,
   "metadata": {},
   "outputs": [
    {
     "name": "stdout",
     "output_type": "stream",
     "text": [
      "Q: В каком муниципалитете складыается проблемная ситуация и проблемы в каких сферах в нём присутсвуют?\n",
      "A: Муниципалитет с наибольшим количеством проблем: муниципальный округ Ульянка. Главными проблемами, которые упоминают жители являются:\n",
      "Содержание МКД                                             6399\n",
      "Благоустройство                                            3947\n",
      "Незаконная информационная и (или) рекламная конструкция     169\n",
      "Санитарное состояние                                        118\n",
      "Фасад                                                       109\n"
     ]
    }
   ],
   "source": [
    "print(f'Q: В каком муниципалитете складыается проблемная ситуация и проблемы в каких сферах в нём присутсвуют?')\n",
    "municipality_problems = reports.groupby('municipality')['subcategory'].count()\n",
    "max_problem_municipality = municipality_problems.idxmax()\n",
    "top_problems = reports[reports['municipality'] == max_problem_municipality]['subcategory'].value_counts().nlargest(5)\n",
    "top_problems_str = top_problems.to_string()\n",
    "top_problems_str = '\\n'.join([line for line in top_problems_str.split('\\n') if not line.strip().endswith('int64')])\n",
    "print(f\"A: Муниципалитет с наибольшим количеством проблем: {max_problem_municipality}. Главными проблемами, которые упоминают жители являются:\\n{top_problems_str}\")"
   ]
  },
  {
   "cell_type": "code",
   "execution_count": 13,
   "metadata": {},
   "outputs": [
    {
     "name": "stdout",
     "output_type": "stream",
     "text": [
      "Q: Какие проблемы в городе не решены в течение месяца?\n",
      "A: В течение месяца не решены проблемы в следующих областях:\n"
     ]
    },
    {
     "data": {
      "text/html": [
       "<div>\n",
       "<style scoped>\n",
       "    .dataframe tbody tr th:only-of-type {\n",
       "        vertical-align: middle;\n",
       "    }\n",
       "\n",
       "    .dataframe tbody tr th {\n",
       "        vertical-align: top;\n",
       "    }\n",
       "\n",
       "    .dataframe thead th {\n",
       "        text-align: right;\n",
       "    }\n",
       "</style>\n",
       "<table border=\"1\" class=\"dataframe\">\n",
       "  <thead>\n",
       "    <tr style=\"text-align: right;\">\n",
       "      <th></th>\n",
       "      <th>Область</th>\n",
       "      <th>Количество упоминаний</th>\n",
       "      <th>Первое упоминание</th>\n",
       "      <th>Последнее упоминание</th>\n",
       "    </tr>\n",
       "  </thead>\n",
       "  <tbody>\n",
       "    <tr>\n",
       "      <th>0</th>\n",
       "      <td>Другое</td>\n",
       "      <td>3262</td>\n",
       "      <td>2024-01-01</td>\n",
       "      <td>2024-01-19</td>\n",
       "    </tr>\n",
       "    <tr>\n",
       "      <th>1</th>\n",
       "      <td>Безопасность</td>\n",
       "      <td>1089</td>\n",
       "      <td>2024-01-01</td>\n",
       "      <td>2024-01-19</td>\n",
       "    </tr>\n",
       "    <tr>\n",
       "      <th>2</th>\n",
       "      <td>ЖКХ</td>\n",
       "      <td>880</td>\n",
       "      <td>2024-01-01</td>\n",
       "      <td>2024-01-19</td>\n",
       "    </tr>\n",
       "    <tr>\n",
       "      <th>3</th>\n",
       "      <td>Благоустройство</td>\n",
       "      <td>747</td>\n",
       "      <td>2024-01-01</td>\n",
       "      <td>2024-01-19</td>\n",
       "    </tr>\n",
       "    <tr>\n",
       "      <th>4</th>\n",
       "      <td>Энергетика</td>\n",
       "      <td>678</td>\n",
       "      <td>2024-01-01</td>\n",
       "      <td>2024-01-19</td>\n",
       "    </tr>\n",
       "  </tbody>\n",
       "</table>\n",
       "</div>"
      ],
      "text/plain": [
       "           Область  Количество упоминаний Первое упоминание  \\\n",
       "0           Другое                   3262        2024-01-01   \n",
       "1     Безопасность                   1089        2024-01-01   \n",
       "2              ЖКХ                    880        2024-01-01   \n",
       "3  Благоустройство                    747        2024-01-01   \n",
       "4       Энергетика                    678        2024-01-01   \n",
       "\n",
       "  Последнее упоминание  \n",
       "0           2024-01-19  \n",
       "1           2024-01-19  \n",
       "2           2024-01-19  \n",
       "3           2024-01-19  \n",
       "4           2024-01-19  "
      ]
     },
     "execution_count": 13,
     "metadata": {},
     "output_type": "execute_result"
    }
   ],
   "source": [
    "print(\"Q: Какие проблемы в городе не решены в течение месяца?\")\n",
    "messages['date'] = pd.to_datetime(messages['date'])\n",
    "messages = messages.sort_values(by='date')\n",
    "grouped = messages.groupby('function')\n",
    "result = grouped.agg( count=('function', 'size'), first_date=('date', 'first'), last_date=('date', 'last')).reset_index()\n",
    "result = (result.sort_values(by='count', ascending=False) .reset_index(drop=True) .rename(columns={ 'function': 'Область', 'count': 'Количество упоминаний', 'first_date': 'Первое упоминание', 'last_date': 'Последнее упоминание'}))\n",
    "print(\"A: В течение месяца не решены проблемы в следующих областях:\")\n",
    "result.head(5)"
   ]
  }
 ],
 "metadata": {
  "kernelspec": {
   "display_name": "Python 3",
   "language": "python",
   "name": "python3"
  },
  "language_info": {
   "codemirror_mode": {
    "name": "ipython",
    "version": 3
   },
   "file_extension": ".py",
   "mimetype": "text/x-python",
   "name": "python",
   "nbconvert_exporter": "python",
   "pygments_lexer": "ipython3",
   "version": "3.10.9"
  }
 },
 "nbformat": 4,
 "nbformat_minor": 2
}
