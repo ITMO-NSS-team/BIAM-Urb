{
 "cells": [
  {
   "cell_type": "code",
   "execution_count": 8,
   "metadata": {},
   "outputs": [
    {
     "name": "stdout",
     "output_type": "stream",
     "text": [
      "\u001b[33mWARNING: Running pip as the 'root' user can result in broken permissions and conflicting behaviour with the system package manager. It is recommended to use a virtual environment instead: https://pip.pypa.io/warnings/venv\u001b[0m\u001b[33m\n",
      "\u001b[0m"
     ]
    }
   ],
   "source": [
    "!pip install accelerate -q"
   ]
  },
  {
   "cell_type": "code",
   "execution_count": 1,
   "metadata": {},
   "outputs": [],
   "source": [
    "import pprint\n",
    "\n",
    "import os\n",
    "import pathlib\n",
    "import glob\n",
    "\n",
    "import json\n",
    "import geojson\n",
    "from typing import Any, Dict\n",
    "from dotenv import load_dotenv\n",
    "\n",
    "import torch\n",
    "import transformers\n",
    "from transformers import AutoTokenizer, pipeline, AutoModelForCausalLM, BitsAndBytesConfig, TrainingArguments, AutoConfig\n",
    "from transformers.tokenization_utils import PreTrainedTokenizer\n",
    "from transformers.tokenization_utils_fast import PreTrainedTokenizerFast\n",
    "\n",
    "import langchain\n",
    "import langchain_community\n",
    "import langchain_core"
   ]
  },
  {
   "cell_type": "code",
   "execution_count": 2,
   "metadata": {},
   "outputs": [
    {
     "data": {
      "text/plain": [
       "True"
      ]
     },
     "execution_count": 2,
     "metadata": {},
     "output_type": "execute_result"
    }
   ],
   "source": [
    "load_dotenv('./config.env')"
   ]
  },
  {
   "cell_type": "code",
   "execution_count": 3,
   "metadata": {},
   "outputs": [],
   "source": [
    "MODEL_NAME = 'meta-llama/Meta-Llama-3-8B-Instruct' #\"meta-llama/Meta-Llama-3-8B\"\n",
    "HF_TOKEN: str | None = os.environ.get('HF_TOKEN')\n",
    "SAVE_FOLDER = pathlib.Path('./llama_answers_dataset').resolve()\n",
    "SAVE_FOLDER.mkdir(exist_ok=True, parents=True)"
   ]
  },
  {
   "cell_type": "code",
   "execution_count": 4,
   "metadata": {},
   "outputs": [],
   "source": [
    "def get_prompt(question: str, context: str, *args, **kwargs) -> str:\n",
    "    \"\"\"Function for intialization of LLAMA3 prompt template.\"\"\"\n",
    "\n",
    "    default: str = \"\"\"Ты - умный ассистент. Разработанный для помощи пользователю в его запросах.\"\"\"\n",
    "    default_rules: str = \"\"\"Ответь на вопрос, основываясь на представленном ниже контексте. \n",
    "    Если ты не знаешь ответ, просто скажи, что не знаешь. Для ответа используй максимум три предложения, \n",
    "    дай краткое описание по имеющеся информации. Максимальная длина ответа 300 символов. \n",
    "    Если в описании оснащения здания рядом с каким-то пунктом стоит 0, это значит, \n",
    "    что описанный объект либо отсутствует, либо не исправен. \n",
    "    В тексте 0 - означает нет, 1 - означает да (про аварийное состояние здания). \n",
    "    Если указано значение None, значит информация в базе данных отсутствует. \n",
    "    У ответа должны быть единицы измерения. Если в одном здании несколько организаций, укажи их все. \n",
    "    Адрес здания (улица, номер дома, корпус) в вопросе пользователя должен полностью совпадать \n",
    "    с данными из контекста. \"\"\"\n",
    "    system_prompt: str = kwargs.get('system_prompt', default)\n",
    "    rules: str = kwargs.get('additional_rules', default_rules)\n",
    "    template: str = f\"\"\"\n",
    "            <|begin_of_text|><|start_header_id|>system<|end_header_id|>\n",
    "            {system_prompt}<|eot_id|>\n",
    "            <|start_header_id|>user<|end_header_id|>\n",
    "            {rules} Контекст :{context} Вопрос: {question}<|eot_id|>\n",
    "            <|start_header_id|>assistant<|end_header_id|>\n",
    "            \"\"\"\n",
    "    return template"
   ]
  },
  {
   "cell_type": "code",
   "execution_count": 5,
   "metadata": {},
   "outputs": [],
   "source": [
    "def save_answer_as_json(answer: Dict):\n",
    "    total_files_in_folder = len(glob.glob1(SAVE_FOLDER, '*.json'))\n",
    "    f_pref = 'llama_ans'\n",
    "    with open((SAVE_FOLDER/f'{f_pref}_{total_files_in_folder + 1}.json').resolve(), 'w', encoding='utf-8') as pth:\n",
    "        json.dump(answer, pth)\n",
    "    "
   ]
  },
  {
   "cell_type": "code",
   "execution_count": 6,
   "metadata": {},
   "outputs": [],
   "source": [
    "def get_query(idx: int):\n",
    "    \"\"\"Load set of queries and cintext to them.\"\"\"\n",
    "    with open(f'./data/datasets/data_{idx}.json') as json_data:\n",
    "        questions = json.load(json_data)\n",
    "    with open(f'./data/buildings/buildings_part_{idx}.geojson') as buildings_data:\n",
    "        manual_context = geojson.load(buildings_data)\n",
    "    return questions, manual_context"
   ]
  },
  {
   "cell_type": "code",
   "execution_count": 7,
   "metadata": {},
   "outputs": [],
   "source": [
    "def multi_ans(model: Any, amount: int = 10, **kwargs):\n",
    "    \"\"\"\n",
    "    Get multiple answers from given model.\n",
    "    \"\"\"\n",
    "    generation_temperature = kwargs.get('temperature', .5)\n",
    "    for i in range(amount):\n",
    "        queries, context = get_query(i)\n",
    "        total_questions = list(queries.keys())\n",
    "        for q_id in range(len(total_questions) // 5):\n",
    "            # Pick one query from the list\n",
    "            question_response_pair = queries[total_questions[q_id]]            \n",
    "            query, response = question_response_pair['query'], question_response_pair['response']\n",
    "\n",
    "            #Form a prompt from query and context\n",
    "            prompt = get_prompt(question=query, context=context)\n",
    "            answer = model(prompt, temperature=generation_temperature)\n",
    "\n",
    "            json_ans = {'query': query, \n",
    "                        'llama_answer': answer[0][\"generated_text\"].split(\"<|end_header_id|>\")[-1], \n",
    "                        'ideal_ans': response}\n",
    "            save_answer_as_json(json_ans)\n",
    "    print(f'Answers have been saved to {SAVE_FOLDER}. Amount: {len(glob.glob1(SAVE_FOLDER, \"*.json\"))}')\n",
    "            # pprint.pp(json_ans)\n",
    "            # print(f'Q: {query}')\n",
    "            # print(f'R: {answer}')\n",
    "            # break\n",
    "            \n",
    "        # question_id = list(questions.keys())[-40]\n",
    "        # question_response_pair = questions[question_id]\n",
    "        # manual_question = question_response_pair['query']\n",
    "        # target = question_response_pair['response']\n",
    "        \n",
    "        # print(f'Question: {manual_question}')\n",
    "        # print(f'Desire response: {target}')"
   ]
  },
  {
   "cell_type": "code",
   "execution_count": 8,
   "metadata": {},
   "outputs": [
    {
     "name": "stderr",
     "output_type": "stream",
     "text": [
      "/root/miniconda3/envs/llama3-urbanistic/lib/python3.10/site-packages/huggingface_hub/file_download.py:1132: FutureWarning: `resume_download` is deprecated and will be removed in version 1.0.0. Downloads always resume when possible. If you want to force a new download, use `force_download=True`.\n",
      "  warnings.warn(\n"
     ]
    }
   ],
   "source": [
    "quantization_config = BitsAndBytesConfig(load_in_8bit=True, llm_int8_enable_fp32_cpu_offload=True)\n",
    "model_config = AutoConfig.from_pretrained(MODEL_NAME, trust_remote_code=True, max_new_tokens=12000)"
   ]
  },
  {
   "cell_type": "code",
   "execution_count": 9,
   "metadata": {},
   "outputs": [
    {
     "data": {
      "application/vnd.jupyter.widget-view+json": {
       "model_id": "92bfb1b34b7b4170b10b7dfa3ade788b",
       "version_major": 2,
       "version_minor": 0
      },
      "text/plain": [
       "Loading checkpoint shards:   0%|          | 0/4 [00:00<?, ?it/s]"
      ]
     },
     "metadata": {},
     "output_type": "display_data"
    },
    {
     "name": "stdout",
     "output_type": "stream",
     "text": [
      "Model is ready.\n"
     ]
    }
   ],
   "source": [
    "model = AutoModelForCausalLM.from_pretrained(\n",
    "    MODEL_NAME,\n",
    "    #quantization_config=quantization_config,\n",
    "    torch_dtype=torch.float16,\n",
    "    device_map=\"auto\",\n",
    "    token=HF_TOKEN,\n",
    "    trust_remote_code=True\n",
    ")\n",
    "model.eval()\n",
    "print('Model is ready.')"
   ]
  },
  {
   "cell_type": "code",
   "execution_count": 10,
   "metadata": {},
   "outputs": [
    {
     "name": "stderr",
     "output_type": "stream",
     "text": [
      "/root/miniconda3/envs/llama3-urbanistic/lib/python3.10/site-packages/huggingface_hub/file_download.py:1132: FutureWarning: `resume_download` is deprecated and will be removed in version 1.0.0. Downloads always resume when possible. If you want to force a new download, use `force_download=True`.\n",
      "  warnings.warn(\n",
      "Special tokens have been added in the vocabulary, make sure the associated word embeddings are fine-tuned or trained.\n"
     ]
    }
   ],
   "source": [
    "tokenizer: PreTrainedTokenizer | PreTrainedTokenizerFast = AutoTokenizer.from_pretrained(MODEL_NAME, use_fast=True)"
   ]
  },
  {
   "cell_type": "code",
   "execution_count": 11,
   "metadata": {},
   "outputs": [],
   "source": [
    "pipeline = pipeline(\n",
    "    'text-generation', \n",
    "    model=model,\n",
    "    tokenizer=tokenizer,\n",
    "    max_length=12000,\n",
    "    device_map='auto',\n",
    "    )"
   ]
  },
  {
   "cell_type": "code",
   "execution_count": 12,
   "metadata": {},
   "outputs": [
    {
     "name": "stderr",
     "output_type": "stream",
     "text": [
      "Setting `pad_token_id` to `eos_token_id`:128001 for open-end generation.\n",
      "Setting `pad_token_id` to `eos_token_id`:128001 for open-end generation.\n",
      "Setting `pad_token_id` to `eos_token_id`:128001 for open-end generation.\n",
      "Setting `pad_token_id` to `eos_token_id`:128001 for open-end generation.\n",
      "Setting `pad_token_id` to `eos_token_id`:128001 for open-end generation.\n",
      "Setting `pad_token_id` to `eos_token_id`:128001 for open-end generation.\n",
      "Setting `pad_token_id` to `eos_token_id`:128001 for open-end generation.\n",
      "Setting `pad_token_id` to `eos_token_id`:128001 for open-end generation.\n",
      "Setting `pad_token_id` to `eos_token_id`:128001 for open-end generation.\n",
      "Setting `pad_token_id` to `eos_token_id`:128001 for open-end generation.\n",
      "You seem to be using the pipelines sequentially on GPU. In order to maximize efficiency please use a dataset\n",
      "Setting `pad_token_id` to `eos_token_id`:128001 for open-end generation.\n",
      "Setting `pad_token_id` to `eos_token_id`:128001 for open-end generation.\n",
      "Setting `pad_token_id` to `eos_token_id`:128001 for open-end generation.\n",
      "Setting `pad_token_id` to `eos_token_id`:128001 for open-end generation.\n",
      "Setting `pad_token_id` to `eos_token_id`:128001 for open-end generation.\n",
      "Setting `pad_token_id` to `eos_token_id`:128001 for open-end generation.\n",
      "Setting `pad_token_id` to `eos_token_id`:128001 for open-end generation.\n",
      "Setting `pad_token_id` to `eos_token_id`:128001 for open-end generation.\n",
      "Setting `pad_token_id` to `eos_token_id`:128001 for open-end generation.\n",
      "Setting `pad_token_id` to `eos_token_id`:128001 for open-end generation.\n",
      "Setting `pad_token_id` to `eos_token_id`:128001 for open-end generation.\n",
      "Setting `pad_token_id` to `eos_token_id`:128001 for open-end generation.\n",
      "Setting `pad_token_id` to `eos_token_id`:128001 for open-end generation.\n",
      "Setting `pad_token_id` to `eos_token_id`:128001 for open-end generation.\n",
      "Setting `pad_token_id` to `eos_token_id`:128001 for open-end generation.\n",
      "Setting `pad_token_id` to `eos_token_id`:128001 for open-end generation.\n",
      "Setting `pad_token_id` to `eos_token_id`:128001 for open-end generation.\n",
      "Setting `pad_token_id` to `eos_token_id`:128001 for open-end generation.\n",
      "Setting `pad_token_id` to `eos_token_id`:128001 for open-end generation.\n",
      "Setting `pad_token_id` to `eos_token_id`:128001 for open-end generation.\n",
      "Setting `pad_token_id` to `eos_token_id`:128001 for open-end generation.\n",
      "Setting `pad_token_id` to `eos_token_id`:128001 for open-end generation.\n",
      "Setting `pad_token_id` to `eos_token_id`:128001 for open-end generation.\n",
      "Setting `pad_token_id` to `eos_token_id`:128001 for open-end generation.\n",
      "Setting `pad_token_id` to `eos_token_id`:128001 for open-end generation.\n",
      "Setting `pad_token_id` to `eos_token_id`:128001 for open-end generation.\n",
      "Setting `pad_token_id` to `eos_token_id`:128001 for open-end generation.\n",
      "Setting `pad_token_id` to `eos_token_id`:128001 for open-end generation.\n",
      "Setting `pad_token_id` to `eos_token_id`:128001 for open-end generation.\n",
      "Setting `pad_token_id` to `eos_token_id`:128001 for open-end generation.\n",
      "Setting `pad_token_id` to `eos_token_id`:128001 for open-end generation.\n",
      "Setting `pad_token_id` to `eos_token_id`:128001 for open-end generation.\n",
      "Setting `pad_token_id` to `eos_token_id`:128001 for open-end generation.\n",
      "Setting `pad_token_id` to `eos_token_id`:128001 for open-end generation.\n",
      "Setting `pad_token_id` to `eos_token_id`:128001 for open-end generation.\n",
      "Setting `pad_token_id` to `eos_token_id`:128001 for open-end generation.\n",
      "Setting `pad_token_id` to `eos_token_id`:128001 for open-end generation.\n",
      "Setting `pad_token_id` to `eos_token_id`:128001 for open-end generation.\n",
      "Setting `pad_token_id` to `eos_token_id`:128001 for open-end generation.\n",
      "Setting `pad_token_id` to `eos_token_id`:128001 for open-end generation.\n",
      "Setting `pad_token_id` to `eos_token_id`:128001 for open-end generation.\n",
      "Setting `pad_token_id` to `eos_token_id`:128001 for open-end generation.\n",
      "Setting `pad_token_id` to `eos_token_id`:128001 for open-end generation.\n",
      "Setting `pad_token_id` to `eos_token_id`:128001 for open-end generation.\n",
      "Setting `pad_token_id` to `eos_token_id`:128001 for open-end generation.\n",
      "Setting `pad_token_id` to `eos_token_id`:128001 for open-end generation.\n",
      "Setting `pad_token_id` to `eos_token_id`:128001 for open-end generation.\n",
      "Setting `pad_token_id` to `eos_token_id`:128001 for open-end generation.\n",
      "Setting `pad_token_id` to `eos_token_id`:128001 for open-end generation.\n",
      "Setting `pad_token_id` to `eos_token_id`:128001 for open-end generation.\n",
      "Setting `pad_token_id` to `eos_token_id`:128001 for open-end generation.\n",
      "Setting `pad_token_id` to `eos_token_id`:128001 for open-end generation.\n",
      "Setting `pad_token_id` to `eos_token_id`:128001 for open-end generation.\n",
      "Setting `pad_token_id` to `eos_token_id`:128001 for open-end generation.\n",
      "Setting `pad_token_id` to `eos_token_id`:128001 for open-end generation.\n",
      "Setting `pad_token_id` to `eos_token_id`:128001 for open-end generation.\n",
      "Setting `pad_token_id` to `eos_token_id`:128001 for open-end generation.\n",
      "Setting `pad_token_id` to `eos_token_id`:128001 for open-end generation.\n",
      "Setting `pad_token_id` to `eos_token_id`:128001 for open-end generation.\n",
      "Setting `pad_token_id` to `eos_token_id`:128001 for open-end generation.\n",
      "Setting `pad_token_id` to `eos_token_id`:128001 for open-end generation.\n",
      "Setting `pad_token_id` to `eos_token_id`:128001 for open-end generation.\n",
      "Setting `pad_token_id` to `eos_token_id`:128001 for open-end generation.\n",
      "Setting `pad_token_id` to `eos_token_id`:128001 for open-end generation.\n",
      "Setting `pad_token_id` to `eos_token_id`:128001 for open-end generation.\n",
      "Setting `pad_token_id` to `eos_token_id`:128001 for open-end generation.\n",
      "Setting `pad_token_id` to `eos_token_id`:128001 for open-end generation.\n",
      "Setting `pad_token_id` to `eos_token_id`:128001 for open-end generation.\n",
      "Setting `pad_token_id` to `eos_token_id`:128001 for open-end generation.\n",
      "Setting `pad_token_id` to `eos_token_id`:128001 for open-end generation.\n",
      "Setting `pad_token_id` to `eos_token_id`:128001 for open-end generation.\n",
      "Setting `pad_token_id` to `eos_token_id`:128001 for open-end generation.\n",
      "Setting `pad_token_id` to `eos_token_id`:128001 for open-end generation.\n",
      "Setting `pad_token_id` to `eos_token_id`:128001 for open-end generation.\n",
      "Setting `pad_token_id` to `eos_token_id`:128001 for open-end generation.\n",
      "Setting `pad_token_id` to `eos_token_id`:128001 for open-end generation.\n",
      "Setting `pad_token_id` to `eos_token_id`:128001 for open-end generation.\n",
      "Setting `pad_token_id` to `eos_token_id`:128001 for open-end generation.\n",
      "Setting `pad_token_id` to `eos_token_id`:128001 for open-end generation.\n",
      "Setting `pad_token_id` to `eos_token_id`:128001 for open-end generation.\n",
      "Setting `pad_token_id` to `eos_token_id`:128001 for open-end generation.\n",
      "Setting `pad_token_id` to `eos_token_id`:128001 for open-end generation.\n",
      "Setting `pad_token_id` to `eos_token_id`:128001 for open-end generation.\n",
      "Setting `pad_token_id` to `eos_token_id`:128001 for open-end generation.\n",
      "Setting `pad_token_id` to `eos_token_id`:128001 for open-end generation.\n",
      "Setting `pad_token_id` to `eos_token_id`:128001 for open-end generation.\n",
      "Setting `pad_token_id` to `eos_token_id`:128001 for open-end generation.\n",
      "Setting `pad_token_id` to `eos_token_id`:128001 for open-end generation.\n",
      "Setting `pad_token_id` to `eos_token_id`:128001 for open-end generation.\n",
      "Setting `pad_token_id` to `eos_token_id`:128001 for open-end generation.\n",
      "Setting `pad_token_id` to `eos_token_id`:128001 for open-end generation.\n",
      "Setting `pad_token_id` to `eos_token_id`:128001 for open-end generation.\n",
      "Setting `pad_token_id` to `eos_token_id`:128001 for open-end generation.\n",
      "Setting `pad_token_id` to `eos_token_id`:128001 for open-end generation.\n",
      "Setting `pad_token_id` to `eos_token_id`:128001 for open-end generation.\n",
      "Setting `pad_token_id` to `eos_token_id`:128001 for open-end generation.\n",
      "Setting `pad_token_id` to `eos_token_id`:128001 for open-end generation.\n",
      "Setting `pad_token_id` to `eos_token_id`:128001 for open-end generation.\n",
      "Setting `pad_token_id` to `eos_token_id`:128001 for open-end generation.\n",
      "Setting `pad_token_id` to `eos_token_id`:128001 for open-end generation.\n",
      "Setting `pad_token_id` to `eos_token_id`:128001 for open-end generation.\n",
      "Setting `pad_token_id` to `eos_token_id`:128001 for open-end generation.\n",
      "Setting `pad_token_id` to `eos_token_id`:128001 for open-end generation.\n",
      "Setting `pad_token_id` to `eos_token_id`:128001 for open-end generation.\n",
      "Setting `pad_token_id` to `eos_token_id`:128001 for open-end generation.\n",
      "Setting `pad_token_id` to `eos_token_id`:128001 for open-end generation.\n",
      "Setting `pad_token_id` to `eos_token_id`:128001 for open-end generation.\n",
      "Setting `pad_token_id` to `eos_token_id`:128001 for open-end generation.\n",
      "Setting `pad_token_id` to `eos_token_id`:128001 for open-end generation.\n",
      "Setting `pad_token_id` to `eos_token_id`:128001 for open-end generation.\n",
      "Setting `pad_token_id` to `eos_token_id`:128001 for open-end generation.\n",
      "Setting `pad_token_id` to `eos_token_id`:128001 for open-end generation.\n",
      "Setting `pad_token_id` to `eos_token_id`:128001 for open-end generation.\n",
      "Setting `pad_token_id` to `eos_token_id`:128001 for open-end generation.\n",
      "Setting `pad_token_id` to `eos_token_id`:128001 for open-end generation.\n",
      "Setting `pad_token_id` to `eos_token_id`:128001 for open-end generation.\n",
      "Setting `pad_token_id` to `eos_token_id`:128001 for open-end generation.\n",
      "Setting `pad_token_id` to `eos_token_id`:128001 for open-end generation.\n",
      "Setting `pad_token_id` to `eos_token_id`:128001 for open-end generation.\n",
      "Setting `pad_token_id` to `eos_token_id`:128001 for open-end generation.\n",
      "Setting `pad_token_id` to `eos_token_id`:128001 for open-end generation.\n",
      "Setting `pad_token_id` to `eos_token_id`:128001 for open-end generation.\n",
      "Setting `pad_token_id` to `eos_token_id`:128001 for open-end generation.\n",
      "Setting `pad_token_id` to `eos_token_id`:128001 for open-end generation.\n",
      "Setting `pad_token_id` to `eos_token_id`:128001 for open-end generation.\n",
      "Setting `pad_token_id` to `eos_token_id`:128001 for open-end generation.\n",
      "Setting `pad_token_id` to `eos_token_id`:128001 for open-end generation.\n",
      "Setting `pad_token_id` to `eos_token_id`:128001 for open-end generation.\n",
      "Setting `pad_token_id` to `eos_token_id`:128001 for open-end generation.\n",
      "Setting `pad_token_id` to `eos_token_id`:128001 for open-end generation.\n",
      "Setting `pad_token_id` to `eos_token_id`:128001 for open-end generation.\n",
      "Setting `pad_token_id` to `eos_token_id`:128001 for open-end generation.\n",
      "Setting `pad_token_id` to `eos_token_id`:128001 for open-end generation.\n",
      "Setting `pad_token_id` to `eos_token_id`:128001 for open-end generation.\n",
      "Setting `pad_token_id` to `eos_token_id`:128001 for open-end generation.\n",
      "Setting `pad_token_id` to `eos_token_id`:128001 for open-end generation.\n",
      "Setting `pad_token_id` to `eos_token_id`:128001 for open-end generation.\n",
      "Setting `pad_token_id` to `eos_token_id`:128001 for open-end generation.\n",
      "Setting `pad_token_id` to `eos_token_id`:128001 for open-end generation.\n",
      "Setting `pad_token_id` to `eos_token_id`:128001 for open-end generation.\n",
      "Setting `pad_token_id` to `eos_token_id`:128001 for open-end generation.\n",
      "Setting `pad_token_id` to `eos_token_id`:128001 for open-end generation.\n",
      "Setting `pad_token_id` to `eos_token_id`:128001 for open-end generation.\n",
      "Setting `pad_token_id` to `eos_token_id`:128001 for open-end generation.\n",
      "Setting `pad_token_id` to `eos_token_id`:128001 for open-end generation.\n",
      "Setting `pad_token_id` to `eos_token_id`:128001 for open-end generation.\n",
      "Setting `pad_token_id` to `eos_token_id`:128001 for open-end generation.\n",
      "Setting `pad_token_id` to `eos_token_id`:128001 for open-end generation.\n",
      "Setting `pad_token_id` to `eos_token_id`:128001 for open-end generation.\n",
      "Setting `pad_token_id` to `eos_token_id`:128001 for open-end generation.\n",
      "Setting `pad_token_id` to `eos_token_id`:128001 for open-end generation.\n",
      "Setting `pad_token_id` to `eos_token_id`:128001 for open-end generation.\n",
      "Setting `pad_token_id` to `eos_token_id`:128001 for open-end generation.\n",
      "Setting `pad_token_id` to `eos_token_id`:128001 for open-end generation.\n",
      "Setting `pad_token_id` to `eos_token_id`:128001 for open-end generation.\n",
      "Setting `pad_token_id` to `eos_token_id`:128001 for open-end generation.\n",
      "Setting `pad_token_id` to `eos_token_id`:128001 for open-end generation.\n",
      "Setting `pad_token_id` to `eos_token_id`:128001 for open-end generation.\n",
      "Setting `pad_token_id` to `eos_token_id`:128001 for open-end generation.\n",
      "Setting `pad_token_id` to `eos_token_id`:128001 for open-end generation.\n",
      "Setting `pad_token_id` to `eos_token_id`:128001 for open-end generation.\n",
      "Setting `pad_token_id` to `eos_token_id`:128001 for open-end generation.\n",
      "Setting `pad_token_id` to `eos_token_id`:128001 for open-end generation.\n",
      "Setting `pad_token_id` to `eos_token_id`:128001 for open-end generation.\n",
      "Setting `pad_token_id` to `eos_token_id`:128001 for open-end generation.\n",
      "Setting `pad_token_id` to `eos_token_id`:128001 for open-end generation.\n",
      "Setting `pad_token_id` to `eos_token_id`:128001 for open-end generation.\n",
      "Setting `pad_token_id` to `eos_token_id`:128001 for open-end generation.\n",
      "Setting `pad_token_id` to `eos_token_id`:128001 for open-end generation.\n",
      "Setting `pad_token_id` to `eos_token_id`:128001 for open-end generation.\n",
      "Setting `pad_token_id` to `eos_token_id`:128001 for open-end generation.\n",
      "Setting `pad_token_id` to `eos_token_id`:128001 for open-end generation.\n",
      "Setting `pad_token_id` to `eos_token_id`:128001 for open-end generation.\n",
      "Setting `pad_token_id` to `eos_token_id`:128001 for open-end generation.\n",
      "Setting `pad_token_id` to `eos_token_id`:128001 for open-end generation.\n",
      "Setting `pad_token_id` to `eos_token_id`:128001 for open-end generation.\n",
      "Setting `pad_token_id` to `eos_token_id`:128001 for open-end generation.\n",
      "Setting `pad_token_id` to `eos_token_id`:128001 for open-end generation.\n",
      "Setting `pad_token_id` to `eos_token_id`:128001 for open-end generation.\n",
      "Setting `pad_token_id` to `eos_token_id`:128001 for open-end generation.\n",
      "Setting `pad_token_id` to `eos_token_id`:128001 for open-end generation.\n",
      "Setting `pad_token_id` to `eos_token_id`:128001 for open-end generation.\n",
      "Setting `pad_token_id` to `eos_token_id`:128001 for open-end generation.\n",
      "Setting `pad_token_id` to `eos_token_id`:128001 for open-end generation.\n",
      "Setting `pad_token_id` to `eos_token_id`:128001 for open-end generation.\n",
      "Setting `pad_token_id` to `eos_token_id`:128001 for open-end generation.\n",
      "Setting `pad_token_id` to `eos_token_id`:128001 for open-end generation.\n",
      "Setting `pad_token_id` to `eos_token_id`:128001 for open-end generation.\n",
      "Setting `pad_token_id` to `eos_token_id`:128001 for open-end generation.\n",
      "Setting `pad_token_id` to `eos_token_id`:128001 for open-end generation.\n",
      "Setting `pad_token_id` to `eos_token_id`:128001 for open-end generation.\n",
      "Setting `pad_token_id` to `eos_token_id`:128001 for open-end generation.\n",
      "Setting `pad_token_id` to `eos_token_id`:128001 for open-end generation.\n",
      "Setting `pad_token_id` to `eos_token_id`:128001 for open-end generation.\n",
      "Setting `pad_token_id` to `eos_token_id`:128001 for open-end generation.\n",
      "Setting `pad_token_id` to `eos_token_id`:128001 for open-end generation.\n",
      "Setting `pad_token_id` to `eos_token_id`:128001 for open-end generation.\n",
      "Setting `pad_token_id` to `eos_token_id`:128001 for open-end generation.\n",
      "Setting `pad_token_id` to `eos_token_id`:128001 for open-end generation.\n",
      "Setting `pad_token_id` to `eos_token_id`:128001 for open-end generation.\n",
      "Setting `pad_token_id` to `eos_token_id`:128001 for open-end generation.\n",
      "Setting `pad_token_id` to `eos_token_id`:128001 for open-end generation.\n",
      "Setting `pad_token_id` to `eos_token_id`:128001 for open-end generation.\n",
      "Setting `pad_token_id` to `eos_token_id`:128001 for open-end generation.\n",
      "Setting `pad_token_id` to `eos_token_id`:128001 for open-end generation.\n",
      "Setting `pad_token_id` to `eos_token_id`:128001 for open-end generation.\n",
      "Setting `pad_token_id` to `eos_token_id`:128001 for open-end generation.\n",
      "Setting `pad_token_id` to `eos_token_id`:128001 for open-end generation.\n",
      "Setting `pad_token_id` to `eos_token_id`:128001 for open-end generation.\n",
      "Setting `pad_token_id` to `eos_token_id`:128001 for open-end generation.\n",
      "Setting `pad_token_id` to `eos_token_id`:128001 for open-end generation.\n",
      "Setting `pad_token_id` to `eos_token_id`:128001 for open-end generation.\n",
      "Setting `pad_token_id` to `eos_token_id`:128001 for open-end generation.\n",
      "Setting `pad_token_id` to `eos_token_id`:128001 for open-end generation.\n",
      "Setting `pad_token_id` to `eos_token_id`:128001 for open-end generation.\n",
      "Setting `pad_token_id` to `eos_token_id`:128001 for open-end generation.\n",
      "Setting `pad_token_id` to `eos_token_id`:128001 for open-end generation.\n",
      "Setting `pad_token_id` to `eos_token_id`:128001 for open-end generation.\n",
      "Setting `pad_token_id` to `eos_token_id`:128001 for open-end generation.\n",
      "Setting `pad_token_id` to `eos_token_id`:128001 for open-end generation.\n",
      "Setting `pad_token_id` to `eos_token_id`:128001 for open-end generation.\n",
      "Setting `pad_token_id` to `eos_token_id`:128001 for open-end generation.\n",
      "Setting `pad_token_id` to `eos_token_id`:128001 for open-end generation.\n",
      "Setting `pad_token_id` to `eos_token_id`:128001 for open-end generation.\n",
      "Setting `pad_token_id` to `eos_token_id`:128001 for open-end generation.\n",
      "Setting `pad_token_id` to `eos_token_id`:128001 for open-end generation.\n",
      "Setting `pad_token_id` to `eos_token_id`:128001 for open-end generation.\n",
      "Setting `pad_token_id` to `eos_token_id`:128001 for open-end generation.\n",
      "Setting `pad_token_id` to `eos_token_id`:128001 for open-end generation.\n",
      "Setting `pad_token_id` to `eos_token_id`:128001 for open-end generation.\n",
      "Setting `pad_token_id` to `eos_token_id`:128001 for open-end generation.\n",
      "Setting `pad_token_id` to `eos_token_id`:128001 for open-end generation.\n",
      "Setting `pad_token_id` to `eos_token_id`:128001 for open-end generation.\n",
      "Setting `pad_token_id` to `eos_token_id`:128001 for open-end generation.\n",
      "Setting `pad_token_id` to `eos_token_id`:128001 for open-end generation.\n",
      "Setting `pad_token_id` to `eos_token_id`:128001 for open-end generation.\n",
      "Setting `pad_token_id` to `eos_token_id`:128001 for open-end generation.\n",
      "Setting `pad_token_id` to `eos_token_id`:128001 for open-end generation.\n",
      "Setting `pad_token_id` to `eos_token_id`:128001 for open-end generation.\n",
      "Setting `pad_token_id` to `eos_token_id`:128001 for open-end generation.\n",
      "Setting `pad_token_id` to `eos_token_id`:128001 for open-end generation.\n",
      "Setting `pad_token_id` to `eos_token_id`:128001 for open-end generation.\n",
      "Setting `pad_token_id` to `eos_token_id`:128001 for open-end generation.\n",
      "Setting `pad_token_id` to `eos_token_id`:128001 for open-end generation.\n",
      "Setting `pad_token_id` to `eos_token_id`:128001 for open-end generation.\n",
      "Setting `pad_token_id` to `eos_token_id`:128001 for open-end generation.\n",
      "Setting `pad_token_id` to `eos_token_id`:128001 for open-end generation.\n",
      "Setting `pad_token_id` to `eos_token_id`:128001 for open-end generation.\n",
      "Setting `pad_token_id` to `eos_token_id`:128001 for open-end generation.\n",
      "Setting `pad_token_id` to `eos_token_id`:128001 for open-end generation.\n",
      "Setting `pad_token_id` to `eos_token_id`:128001 for open-end generation.\n",
      "Setting `pad_token_id` to `eos_token_id`:128001 for open-end generation.\n",
      "Setting `pad_token_id` to `eos_token_id`:128001 for open-end generation.\n",
      "Setting `pad_token_id` to `eos_token_id`:128001 for open-end generation.\n",
      "Setting `pad_token_id` to `eos_token_id`:128001 for open-end generation.\n",
      "Setting `pad_token_id` to `eos_token_id`:128001 for open-end generation.\n",
      "Setting `pad_token_id` to `eos_token_id`:128001 for open-end generation.\n",
      "Setting `pad_token_id` to `eos_token_id`:128001 for open-end generation.\n",
      "Setting `pad_token_id` to `eos_token_id`:128001 for open-end generation.\n",
      "Setting `pad_token_id` to `eos_token_id`:128001 for open-end generation.\n",
      "Setting `pad_token_id` to `eos_token_id`:128001 for open-end generation.\n",
      "Setting `pad_token_id` to `eos_token_id`:128001 for open-end generation.\n",
      "Setting `pad_token_id` to `eos_token_id`:128001 for open-end generation.\n",
      "Setting `pad_token_id` to `eos_token_id`:128001 for open-end generation.\n",
      "Setting `pad_token_id` to `eos_token_id`:128001 for open-end generation.\n",
      "Setting `pad_token_id` to `eos_token_id`:128001 for open-end generation.\n",
      "Setting `pad_token_id` to `eos_token_id`:128001 for open-end generation.\n",
      "Setting `pad_token_id` to `eos_token_id`:128001 for open-end generation.\n",
      "Setting `pad_token_id` to `eos_token_id`:128001 for open-end generation.\n",
      "Setting `pad_token_id` to `eos_token_id`:128001 for open-end generation.\n",
      "Setting `pad_token_id` to `eos_token_id`:128001 for open-end generation.\n",
      "Setting `pad_token_id` to `eos_token_id`:128001 for open-end generation.\n",
      "Setting `pad_token_id` to `eos_token_id`:128001 for open-end generation.\n",
      "Setting `pad_token_id` to `eos_token_id`:128001 for open-end generation.\n",
      "Setting `pad_token_id` to `eos_token_id`:128001 for open-end generation.\n",
      "Setting `pad_token_id` to `eos_token_id`:128001 for open-end generation.\n",
      "Setting `pad_token_id` to `eos_token_id`:128001 for open-end generation.\n",
      "Setting `pad_token_id` to `eos_token_id`:128001 for open-end generation.\n",
      "Setting `pad_token_id` to `eos_token_id`:128001 for open-end generation.\n",
      "Setting `pad_token_id` to `eos_token_id`:128001 for open-end generation.\n",
      "Setting `pad_token_id` to `eos_token_id`:128001 for open-end generation.\n",
      "Setting `pad_token_id` to `eos_token_id`:128001 for open-end generation.\n",
      "Setting `pad_token_id` to `eos_token_id`:128001 for open-end generation.\n",
      "Setting `pad_token_id` to `eos_token_id`:128001 for open-end generation.\n",
      "Setting `pad_token_id` to `eos_token_id`:128001 for open-end generation.\n",
      "Setting `pad_token_id` to `eos_token_id`:128001 for open-end generation.\n",
      "Setting `pad_token_id` to `eos_token_id`:128001 for open-end generation.\n",
      "Setting `pad_token_id` to `eos_token_id`:128001 for open-end generation.\n",
      "Setting `pad_token_id` to `eos_token_id`:128001 for open-end generation.\n",
      "Setting `pad_token_id` to `eos_token_id`:128001 for open-end generation.\n",
      "Setting `pad_token_id` to `eos_token_id`:128001 for open-end generation.\n",
      "Setting `pad_token_id` to `eos_token_id`:128001 for open-end generation.\n",
      "Setting `pad_token_id` to `eos_token_id`:128001 for open-end generation.\n",
      "Setting `pad_token_id` to `eos_token_id`:128001 for open-end generation.\n",
      "Setting `pad_token_id` to `eos_token_id`:128001 for open-end generation.\n",
      "Setting `pad_token_id` to `eos_token_id`:128001 for open-end generation.\n",
      "Setting `pad_token_id` to `eos_token_id`:128001 for open-end generation.\n",
      "Setting `pad_token_id` to `eos_token_id`:128001 for open-end generation.\n",
      "Setting `pad_token_id` to `eos_token_id`:128001 for open-end generation.\n",
      "Setting `pad_token_id` to `eos_token_id`:128001 for open-end generation.\n",
      "Setting `pad_token_id` to `eos_token_id`:128001 for open-end generation.\n",
      "Setting `pad_token_id` to `eos_token_id`:128001 for open-end generation.\n",
      "Setting `pad_token_id` to `eos_token_id`:128001 for open-end generation.\n",
      "Setting `pad_token_id` to `eos_token_id`:128001 for open-end generation.\n",
      "Setting `pad_token_id` to `eos_token_id`:128001 for open-end generation.\n",
      "Setting `pad_token_id` to `eos_token_id`:128001 for open-end generation.\n",
      "Setting `pad_token_id` to `eos_token_id`:128001 for open-end generation.\n",
      "Setting `pad_token_id` to `eos_token_id`:128001 for open-end generation.\n",
      "Setting `pad_token_id` to `eos_token_id`:128001 for open-end generation.\n",
      "Setting `pad_token_id` to `eos_token_id`:128001 for open-end generation.\n",
      "Setting `pad_token_id` to `eos_token_id`:128001 for open-end generation.\n",
      "Setting `pad_token_id` to `eos_token_id`:128001 for open-end generation.\n",
      "Setting `pad_token_id` to `eos_token_id`:128001 for open-end generation.\n",
      "Setting `pad_token_id` to `eos_token_id`:128001 for open-end generation.\n",
      "Setting `pad_token_id` to `eos_token_id`:128001 for open-end generation.\n",
      "Setting `pad_token_id` to `eos_token_id`:128001 for open-end generation.\n",
      "Setting `pad_token_id` to `eos_token_id`:128001 for open-end generation.\n",
      "Setting `pad_token_id` to `eos_token_id`:128001 for open-end generation.\n",
      "Setting `pad_token_id` to `eos_token_id`:128001 for open-end generation.\n",
      "Setting `pad_token_id` to `eos_token_id`:128001 for open-end generation.\n",
      "Setting `pad_token_id` to `eos_token_id`:128001 for open-end generation.\n",
      "Setting `pad_token_id` to `eos_token_id`:128001 for open-end generation.\n",
      "Setting `pad_token_id` to `eos_token_id`:128001 for open-end generation.\n",
      "Setting `pad_token_id` to `eos_token_id`:128001 for open-end generation.\n",
      "Setting `pad_token_id` to `eos_token_id`:128001 for open-end generation.\n",
      "Setting `pad_token_id` to `eos_token_id`:128001 for open-end generation.\n",
      "Setting `pad_token_id` to `eos_token_id`:128001 for open-end generation.\n",
      "Setting `pad_token_id` to `eos_token_id`:128001 for open-end generation.\n",
      "Setting `pad_token_id` to `eos_token_id`:128001 for open-end generation.\n",
      "Setting `pad_token_id` to `eos_token_id`:128001 for open-end generation.\n",
      "Setting `pad_token_id` to `eos_token_id`:128001 for open-end generation.\n",
      "Setting `pad_token_id` to `eos_token_id`:128001 for open-end generation.\n",
      "Setting `pad_token_id` to `eos_token_id`:128001 for open-end generation.\n",
      "Setting `pad_token_id` to `eos_token_id`:128001 for open-end generation.\n",
      "Setting `pad_token_id` to `eos_token_id`:128001 for open-end generation.\n",
      "Setting `pad_token_id` to `eos_token_id`:128001 for open-end generation.\n",
      "Setting `pad_token_id` to `eos_token_id`:128001 for open-end generation.\n",
      "Setting `pad_token_id` to `eos_token_id`:128001 for open-end generation.\n",
      "Setting `pad_token_id` to `eos_token_id`:128001 for open-end generation.\n",
      "Setting `pad_token_id` to `eos_token_id`:128001 for open-end generation.\n",
      "Setting `pad_token_id` to `eos_token_id`:128001 for open-end generation.\n",
      "Setting `pad_token_id` to `eos_token_id`:128001 for open-end generation.\n",
      "Setting `pad_token_id` to `eos_token_id`:128001 for open-end generation.\n",
      "Setting `pad_token_id` to `eos_token_id`:128001 for open-end generation.\n",
      "Setting `pad_token_id` to `eos_token_id`:128001 for open-end generation.\n",
      "Setting `pad_token_id` to `eos_token_id`:128001 for open-end generation.\n",
      "Setting `pad_token_id` to `eos_token_id`:128001 for open-end generation.\n",
      "Setting `pad_token_id` to `eos_token_id`:128001 for open-end generation.\n",
      "Setting `pad_token_id` to `eos_token_id`:128001 for open-end generation.\n",
      "Setting `pad_token_id` to `eos_token_id`:128001 for open-end generation.\n",
      "Setting `pad_token_id` to `eos_token_id`:128001 for open-end generation.\n",
      "Setting `pad_token_id` to `eos_token_id`:128001 for open-end generation.\n",
      "Setting `pad_token_id` to `eos_token_id`:128001 for open-end generation.\n",
      "Setting `pad_token_id` to `eos_token_id`:128001 for open-end generation.\n",
      "Setting `pad_token_id` to `eos_token_id`:128001 for open-end generation.\n",
      "Setting `pad_token_id` to `eos_token_id`:128001 for open-end generation.\n",
      "Setting `pad_token_id` to `eos_token_id`:128001 for open-end generation.\n",
      "Setting `pad_token_id` to `eos_token_id`:128001 for open-end generation.\n",
      "Setting `pad_token_id` to `eos_token_id`:128001 for open-end generation.\n",
      "Setting `pad_token_id` to `eos_token_id`:128001 for open-end generation.\n",
      "Setting `pad_token_id` to `eos_token_id`:128001 for open-end generation.\n",
      "Setting `pad_token_id` to `eos_token_id`:128001 for open-end generation.\n",
      "Setting `pad_token_id` to `eos_token_id`:128001 for open-end generation.\n",
      "Setting `pad_token_id` to `eos_token_id`:128001 for open-end generation.\n",
      "Setting `pad_token_id` to `eos_token_id`:128001 for open-end generation.\n",
      "Setting `pad_token_id` to `eos_token_id`:128001 for open-end generation.\n",
      "Setting `pad_token_id` to `eos_token_id`:128001 for open-end generation.\n",
      "Setting `pad_token_id` to `eos_token_id`:128001 for open-end generation.\n",
      "Setting `pad_token_id` to `eos_token_id`:128001 for open-end generation.\n",
      "Setting `pad_token_id` to `eos_token_id`:128001 for open-end generation.\n",
      "Setting `pad_token_id` to `eos_token_id`:128001 for open-end generation.\n",
      "Setting `pad_token_id` to `eos_token_id`:128001 for open-end generation.\n",
      "Setting `pad_token_id` to `eos_token_id`:128001 for open-end generation.\n",
      "Setting `pad_token_id` to `eos_token_id`:128001 for open-end generation.\n",
      "Setting `pad_token_id` to `eos_token_id`:128001 for open-end generation.\n",
      "Setting `pad_token_id` to `eos_token_id`:128001 for open-end generation.\n",
      "Setting `pad_token_id` to `eos_token_id`:128001 for open-end generation.\n",
      "Setting `pad_token_id` to `eos_token_id`:128001 for open-end generation.\n",
      "Setting `pad_token_id` to `eos_token_id`:128001 for open-end generation.\n",
      "Setting `pad_token_id` to `eos_token_id`:128001 for open-end generation.\n",
      "Setting `pad_token_id` to `eos_token_id`:128001 for open-end generation.\n",
      "Setting `pad_token_id` to `eos_token_id`:128001 for open-end generation.\n",
      "Setting `pad_token_id` to `eos_token_id`:128001 for open-end generation.\n",
      "Setting `pad_token_id` to `eos_token_id`:128001 for open-end generation.\n",
      "Setting `pad_token_id` to `eos_token_id`:128001 for open-end generation.\n",
      "Setting `pad_token_id` to `eos_token_id`:128001 for open-end generation.\n",
      "Setting `pad_token_id` to `eos_token_id`:128001 for open-end generation.\n",
      "Setting `pad_token_id` to `eos_token_id`:128001 for open-end generation.\n",
      "Setting `pad_token_id` to `eos_token_id`:128001 for open-end generation.\n",
      "Setting `pad_token_id` to `eos_token_id`:128001 for open-end generation.\n",
      "Setting `pad_token_id` to `eos_token_id`:128001 for open-end generation.\n",
      "Setting `pad_token_id` to `eos_token_id`:128001 for open-end generation.\n",
      "Setting `pad_token_id` to `eos_token_id`:128001 for open-end generation.\n",
      "Setting `pad_token_id` to `eos_token_id`:128001 for open-end generation.\n",
      "Setting `pad_token_id` to `eos_token_id`:128001 for open-end generation.\n",
      "Setting `pad_token_id` to `eos_token_id`:128001 for open-end generation.\n",
      "Setting `pad_token_id` to `eos_token_id`:128001 for open-end generation.\n",
      "Setting `pad_token_id` to `eos_token_id`:128001 for open-end generation.\n",
      "Setting `pad_token_id` to `eos_token_id`:128001 for open-end generation.\n",
      "Setting `pad_token_id` to `eos_token_id`:128001 for open-end generation.\n",
      "Setting `pad_token_id` to `eos_token_id`:128001 for open-end generation.\n",
      "Setting `pad_token_id` to `eos_token_id`:128001 for open-end generation.\n",
      "Setting `pad_token_id` to `eos_token_id`:128001 for open-end generation.\n",
      "Setting `pad_token_id` to `eos_token_id`:128001 for open-end generation.\n",
      "Setting `pad_token_id` to `eos_token_id`:128001 for open-end generation.\n",
      "Setting `pad_token_id` to `eos_token_id`:128001 for open-end generation.\n",
      "Setting `pad_token_id` to `eos_token_id`:128001 for open-end generation.\n",
      "Setting `pad_token_id` to `eos_token_id`:128001 for open-end generation.\n",
      "Setting `pad_token_id` to `eos_token_id`:128001 for open-end generation.\n",
      "Setting `pad_token_id` to `eos_token_id`:128001 for open-end generation.\n",
      "Setting `pad_token_id` to `eos_token_id`:128001 for open-end generation.\n",
      "Setting `pad_token_id` to `eos_token_id`:128001 for open-end generation.\n",
      "Setting `pad_token_id` to `eos_token_id`:128001 for open-end generation.\n",
      "Setting `pad_token_id` to `eos_token_id`:128001 for open-end generation.\n",
      "Setting `pad_token_id` to `eos_token_id`:128001 for open-end generation.\n",
      "Setting `pad_token_id` to `eos_token_id`:128001 for open-end generation.\n",
      "Setting `pad_token_id` to `eos_token_id`:128001 for open-end generation.\n",
      "Setting `pad_token_id` to `eos_token_id`:128001 for open-end generation.\n",
      "Setting `pad_token_id` to `eos_token_id`:128001 for open-end generation.\n",
      "Setting `pad_token_id` to `eos_token_id`:128001 for open-end generation.\n",
      "Setting `pad_token_id` to `eos_token_id`:128001 for open-end generation.\n",
      "Setting `pad_token_id` to `eos_token_id`:128001 for open-end generation.\n",
      "Setting `pad_token_id` to `eos_token_id`:128001 for open-end generation.\n",
      "Setting `pad_token_id` to `eos_token_id`:128001 for open-end generation.\n",
      "Setting `pad_token_id` to `eos_token_id`:128001 for open-end generation.\n",
      "Setting `pad_token_id` to `eos_token_id`:128001 for open-end generation.\n",
      "Setting `pad_token_id` to `eos_token_id`:128001 for open-end generation.\n",
      "Setting `pad_token_id` to `eos_token_id`:128001 for open-end generation.\n",
      "Setting `pad_token_id` to `eos_token_id`:128001 for open-end generation.\n",
      "Setting `pad_token_id` to `eos_token_id`:128001 for open-end generation.\n"
     ]
    },
    {
     "name": "stdout",
     "output_type": "stream",
     "text": [
      "Answers have been saved to /home/hdd/work/llms/BIAM-Urb/llama_answers_dataset. Amount: ['llama_ans_70.json', 'llama_ans_71.json', 'llama_ans_72.json', 'llama_ans_73.json', 'llama_ans_74.json', 'llama_ans_75.json', 'llama_ans_76.json', 'llama_ans_77.json', 'llama_ans_78.json', 'llama_ans_79.json', 'llama_ans_80.json', 'llama_ans_81.json', 'llama_ans_82.json', 'llama_ans_83.json', 'llama_ans_84.json', 'llama_ans_85.json', 'llama_ans_86.json', 'llama_ans_87.json', 'llama_ans_88.json', 'llama_ans_89.json', 'llama_ans_90.json', 'llama_ans_91.json', 'llama_ans_92.json', 'llama_ans_93.json', 'llama_ans_94.json', 'llama_ans_95.json', 'llama_ans_96.json', 'llama_ans_97.json', 'llama_ans_98.json', 'llama_ans_99.json', 'llama_ans_100.json', 'llama_ans_101.json', 'llama_ans_102.json', 'llama_ans_103.json', 'llama_ans_104.json', 'llama_ans_105.json', 'llama_ans_106.json', 'llama_ans_107.json', 'llama_ans_108.json', 'llama_ans_109.json', 'llama_ans_110.json', 'llama_ans_111.json', 'llama_ans_112.json', 'llama_ans_113.json', 'llama_ans_114.json', 'llama_ans_115.json', 'llama_ans_116.json', 'llama_ans_117.json', 'llama_ans_118.json', 'llama_ans_119.json', 'llama_ans_120.json', 'llama_ans_121.json', 'llama_ans_122.json', 'llama_ans_123.json', 'llama_ans_124.json', 'llama_ans_125.json', 'llama_ans_126.json', 'llama_ans_1.json', 'llama_ans_2.json', 'llama_ans_3.json', 'llama_ans_4.json', 'llama_ans_5.json', 'llama_ans_6.json', 'llama_ans_7.json', 'llama_ans_8.json', 'llama_ans_9.json', 'llama_ans_10.json', 'llama_ans_11.json', 'llama_ans_12.json', 'llama_ans_13.json', 'llama_ans_14.json', 'llama_ans_15.json', 'llama_ans_16.json', 'llama_ans_17.json', 'llama_ans_18.json', 'llama_ans_19.json', 'llama_ans_20.json', 'llama_ans_21.json', 'llama_ans_22.json', 'llama_ans_23.json', 'llama_ans_24.json', 'llama_ans_25.json', 'llama_ans_26.json', 'llama_ans_27.json', 'llama_ans_28.json', 'llama_ans_29.json', 'llama_ans_30.json', 'llama_ans_31.json', 'llama_ans_32.json', 'llama_ans_33.json', 'llama_ans_34.json', 'llama_ans_35.json', 'llama_ans_36.json', 'llama_ans_37.json', 'llama_ans_38.json', 'llama_ans_39.json', 'llama_ans_40.json', 'llama_ans_41.json', 'llama_ans_42.json', 'llama_ans_43.json', 'llama_ans_44.json', 'llama_ans_45.json', 'llama_ans_46.json', 'llama_ans_47.json', 'llama_ans_48.json', 'llama_ans_49.json', 'llama_ans_50.json', 'llama_ans_51.json', 'llama_ans_52.json', 'llama_ans_53.json', 'llama_ans_54.json', 'llama_ans_55.json', 'llama_ans_56.json', 'llama_ans_57.json', 'llama_ans_58.json', 'llama_ans_59.json', 'llama_ans_60.json', 'llama_ans_61.json', 'llama_ans_62.json', 'llama_ans_63.json', 'llama_ans_64.json', 'llama_ans_65.json', 'llama_ans_66.json', 'llama_ans_67.json', 'llama_ans_68.json', 'llama_ans_69.json', 'llama_ans_127.json', 'llama_ans_128.json', 'llama_ans_129.json', 'llama_ans_130.json', 'llama_ans_131.json', 'llama_ans_132.json', 'llama_ans_133.json', 'llama_ans_134.json', 'llama_ans_135.json', 'llama_ans_136.json', 'llama_ans_137.json', 'llama_ans_138.json', 'llama_ans_139.json', 'llama_ans_140.json', 'llama_ans_141.json', 'llama_ans_142.json', 'llama_ans_143.json', 'llama_ans_144.json', 'llama_ans_145.json', 'llama_ans_146.json', 'llama_ans_147.json', 'llama_ans_148.json', 'llama_ans_149.json', 'llama_ans_150.json', 'llama_ans_151.json', 'llama_ans_152.json', 'llama_ans_153.json', 'llama_ans_154.json', 'llama_ans_155.json', 'llama_ans_156.json', 'llama_ans_157.json', 'llama_ans_158.json', 'llama_ans_159.json', 'llama_ans_160.json', 'llama_ans_161.json', 'llama_ans_162.json', 'llama_ans_163.json', 'llama_ans_164.json', 'llama_ans_165.json', 'llama_ans_166.json', 'llama_ans_167.json', 'llama_ans_168.json', 'llama_ans_169.json', 'llama_ans_170.json', 'llama_ans_171.json', 'llama_ans_172.json', 'llama_ans_173.json', 'llama_ans_174.json', 'llama_ans_175.json', 'llama_ans_176.json', 'llama_ans_177.json', 'llama_ans_178.json', 'llama_ans_179.json', 'llama_ans_180.json', 'llama_ans_181.json', 'llama_ans_182.json', 'llama_ans_183.json', 'llama_ans_184.json', 'llama_ans_185.json', 'llama_ans_186.json', 'llama_ans_187.json', 'llama_ans_188.json', 'llama_ans_189.json', 'llama_ans_190.json', 'llama_ans_191.json', 'llama_ans_192.json', 'llama_ans_193.json', 'llama_ans_194.json', 'llama_ans_195.json', 'llama_ans_196.json', 'llama_ans_197.json', 'llama_ans_198.json', 'llama_ans_199.json', 'llama_ans_200.json', 'llama_ans_201.json', 'llama_ans_202.json', 'llama_ans_203.json', 'llama_ans_204.json', 'llama_ans_205.json', 'llama_ans_206.json', 'llama_ans_207.json', 'llama_ans_208.json', 'llama_ans_209.json', 'llama_ans_210.json', 'llama_ans_211.json', 'llama_ans_212.json', 'llama_ans_213.json', 'llama_ans_214.json', 'llama_ans_215.json', 'llama_ans_216.json', 'llama_ans_217.json', 'llama_ans_218.json', 'llama_ans_219.json', 'llama_ans_220.json', 'llama_ans_221.json', 'llama_ans_222.json', 'llama_ans_223.json', 'llama_ans_224.json', 'llama_ans_225.json', 'llama_ans_226.json', 'llama_ans_227.json', 'llama_ans_228.json', 'llama_ans_229.json', 'llama_ans_230.json', 'llama_ans_231.json', 'llama_ans_232.json', 'llama_ans_233.json', 'llama_ans_234.json', 'llama_ans_235.json', 'llama_ans_236.json', 'llama_ans_237.json', 'llama_ans_238.json', 'llama_ans_239.json', 'llama_ans_240.json', 'llama_ans_241.json', 'llama_ans_242.json', 'llama_ans_243.json', 'llama_ans_244.json', 'llama_ans_245.json', 'llama_ans_246.json', 'llama_ans_247.json', 'llama_ans_248.json', 'llama_ans_249.json', 'llama_ans_250.json', 'llama_ans_251.json', 'llama_ans_252.json', 'llama_ans_253.json', 'llama_ans_254.json', 'llama_ans_255.json', 'llama_ans_256.json', 'llama_ans_257.json', 'llama_ans_258.json', 'llama_ans_259.json', 'llama_ans_260.json', 'llama_ans_261.json', 'llama_ans_262.json', 'llama_ans_263.json', 'llama_ans_264.json', 'llama_ans_265.json', 'llama_ans_266.json', 'llama_ans_267.json', 'llama_ans_268.json', 'llama_ans_269.json', 'llama_ans_270.json', 'llama_ans_271.json', 'llama_ans_272.json', 'llama_ans_273.json', 'llama_ans_274.json', 'llama_ans_275.json', 'llama_ans_276.json', 'llama_ans_277.json', 'llama_ans_278.json', 'llama_ans_279.json', 'llama_ans_280.json', 'llama_ans_281.json', 'llama_ans_282.json', 'llama_ans_283.json', 'llama_ans_284.json', 'llama_ans_285.json', 'llama_ans_286.json', 'llama_ans_287.json', 'llama_ans_288.json', 'llama_ans_289.json', 'llama_ans_290.json', 'llama_ans_291.json', 'llama_ans_292.json', 'llama_ans_293.json', 'llama_ans_294.json', 'llama_ans_295.json', 'llama_ans_296.json', 'llama_ans_297.json', 'llama_ans_298.json', 'llama_ans_299.json', 'llama_ans_300.json', 'llama_ans_301.json', 'llama_ans_302.json', 'llama_ans_303.json', 'llama_ans_304.json', 'llama_ans_305.json', 'llama_ans_306.json', 'llama_ans_307.json', 'llama_ans_308.json', 'llama_ans_309.json', 'llama_ans_310.json', 'llama_ans_311.json', 'llama_ans_312.json', 'llama_ans_313.json', 'llama_ans_314.json', 'llama_ans_315.json', 'llama_ans_316.json', 'llama_ans_317.json', 'llama_ans_318.json', 'llama_ans_319.json', 'llama_ans_320.json', 'llama_ans_321.json', 'llama_ans_322.json', 'llama_ans_323.json', 'llama_ans_324.json', 'llama_ans_325.json', 'llama_ans_326.json', 'llama_ans_327.json', 'llama_ans_328.json', 'llama_ans_329.json', 'llama_ans_330.json', 'llama_ans_331.json', 'llama_ans_332.json', 'llama_ans_333.json', 'llama_ans_334.json', 'llama_ans_335.json', 'llama_ans_336.json', 'llama_ans_337.json', 'llama_ans_338.json', 'llama_ans_339.json', 'llama_ans_340.json', 'llama_ans_341.json', 'llama_ans_342.json', 'llama_ans_343.json', 'llama_ans_344.json', 'llama_ans_345.json', 'llama_ans_346.json', 'llama_ans_347.json', 'llama_ans_348.json', 'llama_ans_349.json', 'llama_ans_350.json', 'llama_ans_351.json', 'llama_ans_352.json', 'llama_ans_353.json', 'llama_ans_354.json', 'llama_ans_355.json', 'llama_ans_356.json', 'llama_ans_357.json', 'llama_ans_358.json', 'llama_ans_359.json', 'llama_ans_360.json', 'llama_ans_361.json', 'llama_ans_362.json', 'llama_ans_363.json', 'llama_ans_364.json', 'llama_ans_365.json', 'llama_ans_366.json', 'llama_ans_367.json', 'llama_ans_368.json', 'llama_ans_369.json', 'llama_ans_370.json', 'llama_ans_371.json', 'llama_ans_372.json', 'llama_ans_373.json', 'llama_ans_374.json', 'llama_ans_375.json', 'llama_ans_376.json', 'llama_ans_377.json', 'llama_ans_378.json', 'llama_ans_379.json', 'llama_ans_380.json', 'llama_ans_381.json', 'llama_ans_382.json', 'llama_ans_383.json', 'llama_ans_384.json', 'llama_ans_385.json', 'llama_ans_386.json', 'llama_ans_387.json', 'llama_ans_388.json', 'llama_ans_389.json', 'llama_ans_390.json', 'llama_ans_391.json', 'llama_ans_392.json', 'llama_ans_393.json', 'llama_ans_394.json', 'llama_ans_395.json', 'llama_ans_396.json', 'llama_ans_397.json', 'llama_ans_398.json', 'llama_ans_399.json', 'llama_ans_400.json', 'llama_ans_401.json', 'llama_ans_402.json', 'llama_ans_403.json', 'llama_ans_404.json', 'llama_ans_405.json', 'llama_ans_406.json', 'llama_ans_407.json', 'llama_ans_408.json', 'llama_ans_409.json', 'llama_ans_410.json', 'llama_ans_411.json', 'llama_ans_412.json', 'llama_ans_413.json', 'llama_ans_414.json', 'llama_ans_415.json', 'llama_ans_416.json', 'llama_ans_417.json', 'llama_ans_418.json', 'llama_ans_419.json', 'llama_ans_420.json', 'llama_ans_421.json', 'llama_ans_422.json', 'llama_ans_423.json', 'llama_ans_424.json', 'llama_ans_425.json', 'llama_ans_426.json', 'llama_ans_427.json', 'llama_ans_428.json', 'llama_ans_429.json', 'llama_ans_430.json', 'llama_ans_431.json', 'llama_ans_432.json', 'llama_ans_433.json', 'llama_ans_434.json', 'llama_ans_435.json', 'llama_ans_436.json', 'llama_ans_437.json', 'llama_ans_438.json', 'llama_ans_439.json', 'llama_ans_440.json']\n"
     ]
    }
   ],
   "source": [
    "## MULTI ans testing\n",
    "multi_ans(pipeline, amount=10)"
   ]
  },
  {
   "cell_type": "code",
   "execution_count": 10,
   "metadata": {},
   "outputs": [],
   "source": [
    "id = 450\n",
    "\n",
    "with open(f'./data/datasets/data_{id}.json') as json_data:\n",
    "    questions = json.load(json_data)\n",
    "with open(f'./data/buildings/buildings_part_{id}.geojson') as buildings_data:\n",
    "    manual_context = geojson.load(buildings_data)\n",
    "    "
   ]
  },
  {
   "cell_type": "code",
   "execution_count": 11,
   "metadata": {
    "scrolled": true
   },
   "outputs": [
    {
     "name": "stdout",
     "output_type": "stream",
     "text": [
      "Questions:\n",
      "\n",
      "{'4500_0': {'building_id': 117031, 'query': 'Какой идентификатор физического объекта у дома по адресу \"Санкт-Петербург, город Зеленогорск, Овражная улица, дом 29, литера А\"?', 'response': 'Идентификатор дома по адресу \"Санкт-Петербург, город Зеленогорск, Овражная улица, дом 29, литера А\" – 117031.', 'target_value': 117031}, '4500_1': {'building_id': 117031, 'query': 'В каком районе находится дом по адресу \"Санкт-Петербург, город Зеленогорск, Овражная улица, дом 29, литера А\"?', 'response': 'Дом по адресу \"Санкт-Петербург, город Зеленогорск, Овражная улица, дом 29, литера А\" находится в районе \"Курортный\".', 'target_value': 'Курортный'}, '4500_2': {'building_id': 117031, 'query': 'В каком муниципальном образовании находится дом по адресу \"Санкт-Петербург, город Зеленогорск, Овражная улица, дом 29, литера А\"?', 'response': 'Дом по адресу \"Санкт-Петербург, город Зеленогорск, Овражная улица, дом 29, литера А\" находится в муниципальном образовании Зеленогорск.', 'target_value': 'Зеленогорск'}, '4500_3': {'building_id': 117031, 'query': 'Какой тип проекта застройки дома по адресу \"Санкт-Петербург, город Зеленогорск, Овражная улица, дом 29, литера А\"?', 'response': 'Для дома по адресу \"Санкт-Петербург, город Зеленогорск, Овражная улица, дом 29, литера А\" данная информация отсутствует', 'target_value': 'null'}, '4500_4': {'building_id': 117031, 'query': 'Какая площадь основания здания по адресу \"Санкт-Петербург, город Зеленогорск, Овражная улица, дом 29, литера А\"?', 'response': 'Площадь основания здания по адресу \"Санкт-Петербург, город Зеленогорск, Овражная улица, дом 29, литера А\" равна 481 кв. м.', 'target_value': 480.748291015625}, '4500_5': {'building_id': 117031, 'query': 'Какова жилая площадь дома по адресу \"Санкт-Петербург, город Зеленогорск, Овражная улица, дом 29, литера А\"?', 'response': 'Жилкая площадь дома по адресу \"Санкт-Петербург, город Зеленогорск, Овражная улица, дом 29, литера А\" равна 386 кв. м.', 'target_value': 386.04998779296875}, '4500_6': {'building_id': 117031, 'query': 'Сколько этажей в доме по адресу \"Санкт-Петербург, город Зеленогорск, Овражная улица, дом 29, литера А\"?', 'response': 'В доме по адресу \"Санкт-Петербург, город Зеленогорск, Овражная улица, дом 29, литера А\" 2 этажей', 'target_value': 2.0}, '4500_7': {'building_id': 117031, 'query': 'Сколько человек проживает в доме по адресу \"Санкт-Петербург, город Зеленогорск, Овражная улица, дом 29, литера А\"?', 'response': 'В доме по адресу \"Санкт-Петербург, город Зеленогорск, Овражная улица, дом 29, литера А\" проживает 26 человек.', 'target_value': 26.0}, '4500_8': {'building_id': 117031, 'query': 'Каково моделированное число жителей (после балансировки) в доме по адресу \"Санкт-Петербург, город Зеленогорск, Овражная улица, дом 29, литера А\"?', 'response': 'Моделированное число жителей (после балансировки) – 17 человек.', 'target_value': 17.0}, '4500_9': {'building_id': 117031, 'query': 'Есть ли в доме по адресу \"Санкт-Петербург, город Зеленогорск, Овражная улица, дом 29, литера А\" центральное отопление?', 'response': 'В доме по адресу \"Санкт-Петербург, город Зеленогорск, Овражная улица, дом 29, литера А\" есть центральное отопление.', 'target_value': '0'}, '4500_10': {'building_id': 117031, 'query': 'Есть ли в доме по адресу \"Санкт-Петербург, город Зеленогорск, Овражная улица, дом 29, литера А\" центральное водоснабжение (горячая вода)?', 'response': 'В доме по адресу \"Санкт-Петербург, город Зеленогорск, Овражная улица, дом 29, литера А\" есть горячая вода.', 'target_value': '0'}, '4500_11': {'building_id': 117031, 'query': 'Есть ли в доме по адресу \"Санкт-Петербург, город Зеленогорск, Овражная улица, дом 29, литера А\" центральное водоснабжение (холодная вода)?', 'response': 'В доме по адресу \"Санкт-Петербург, город Зеленогорск, Овражная улица, дом 29, литера А\" есть холодная вода.', 'target_value': '1'}, '4500_12': {'building_id': 117031, 'query': 'Есть ли в доме по адресу \"Санкт-Петербург, город Зеленогорск, Овражная улица, дом 29, литера А\" централизованная электрификация (электричество)?', 'response': 'В доме по адресу \"Санкт-Петербург, город Зеленогорск, Овражная улица, дом 29, литера А\" есть централизованное электроснабжение.', 'target_value': '1'}, '4500_13': {'building_id': 117031, 'query': 'Есть ли в доме по адресу \"Санкт-Петербург, город Зеленогорск, Овражная улица, дом 29, литера А\" центральный газопровод (газ)?', 'response': 'В доме по адресу \"Санкт-Петербург, город Зеленогорск, Овражная улица, дом 29, литера А\" есть центральный газопровод.', 'target_value': '0'}, '4500_14': {'building_id': 117031, 'query': 'Есть ли в доме по адресу \"Санкт-Петербург, город Зеленогорск, Овражная улица, дом 29, литера А\" мусоропровод?', 'response': 'В доме по адресу \"Санкт-Петербург, город Зеленогорск, Овражная улица, дом 29, литера А\" есть мусоропровод.', 'target_value': '0'}, '4500_15': {'building_id': 117031, 'query': 'Как называется управляющая компания в доме по адресу \"Санкт-Петербург, город Зеленогорск, Овражная улица, дом 29, литера А\"?', 'response': 'Управляющая компания в доме по адресу \"Санкт-Петербург, город Зеленогорск, Овражная улица, дом 29, литера А\" называется \"ООО \"ЖКС Курортного района\"\".', 'target_value': 'ООО \"ЖКС Курортного района\"'}, '4500_16': {'building_id': 117031, 'query': 'Является ли дом по адресу \"Санкт-Петербург, город Зеленогорск, Овражная улица, дом 29, литера А\" аварийным?', 'response': 'Дом по адресу \"Санкт-Петербург, город Зеленогорск, Овражная улица, дом 29, литера А\" не является аварийным.', 'target_value': '0'}, '4500_17': {'building_id': 117031, 'query': 'Сколько лифтов в доме по адресу \"Санкт-Петербург, город Зеленогорск, Овражная улица, дом 29, литера А\"?', 'response': 'Для дома по адресу \"Санкт-Петербург, город Зеленогорск, Овражная улица, дом 29, литера А\" данная информация отсутствует', 'target_value': 'null'}, '4500_18': {'building_id': 117031, 'query': 'В какие годы производился капремонт дома по адресу \"Санкт-Петербург, город Зеленогорск, Овражная улица, дом 29, литера А\"?', 'response': 'Для дома по адресу \"Санкт-Петербург, город Зеленогорск, Овражная улица, дом 29, литера А\" данная информация отсутствует', 'target_value': 'null'}, '4500_19': {'building_id': 117031, 'query': 'Является ли здание по адресу \"Санкт-Петербург, город Зеленогорск, Овражная улица, дом 29, литера А\" жилым?', 'response': 'Дом по адресу \"Санкт-Петербург, город Зеленогорск, Овражная улица, дом 29, литера А\" является жилым.', 'target_value': 'Жилой дом'}, '4500_20': {'building_id': 117031, 'query': 'Какой год постройки дома по адресу \"Санкт-Петербург, город Зеленогорск, Овражная улица, дом 29, литера А\"?', 'response': 'Дом по адресу \"Санкт-Петербург, город Зеленогорск, Овражная улица, дом 29, литера А\" был построен в 1951 году.', 'target_value': 1951.0}, '4500_21': {'building_id': 117031, 'query': 'Каковы геометрические координаты дома по адресу \"Санкт-Петербург, город Зеленогорск, Овражная улица, дом 29, литера А\"?', 'response': 'Геометрические координаты дома по адресу \"Санкт-Петербург, город Зеленогорск, Овражная улица, дом 29, литера А\" – (29.661779, 60.200155).', 'target_value': [29.661779, 60.200155]}, '4501_0': {'building_id': 117032, 'query': 'Какой идентификатор физического объекта у дома по адресу \"Санкт-Петербург, Центральная, 10\"?', 'response': 'Идентификатор дома по адресу \"Санкт-Петербург, Центральная, 10\" – 117032.', 'target_value': 117032}, '4501_1': {'building_id': 117032, 'query': 'В каком районе находится дом по адресу \"Санкт-Петербург, Центральная, 10\"?', 'response': 'Дом по адресу \"Санкт-Петербург, Центральная, 10\" находится в районе \"Курортный\".', 'target_value': 'Курортный'}, '4501_2': {'building_id': 117032, 'query': 'В каком муниципальном образовании находится дом по адресу \"Санкт-Петербург, Центральная, 10\"?', 'response': 'Дом по адресу \"Санкт-Петербург, Центральная, 10\" находится в муниципальном образовании Песочный.', 'target_value': 'Песочный'}, '4501_3': {'building_id': 117032, 'query': 'Какой тип проекта застройки дома по адресу \"Санкт-Петербург, Центральная, 10\"?', 'response': 'Для дома по адресу \"Санкт-Петербург, Центральная, 10\" данная информация отсутствует', 'target_value': 'null'}, '4501_4': {'building_id': 117032, 'query': 'Какая площадь основания здания по адресу \"Санкт-Петербург, Центральная, 10\"?', 'response': 'Площадь основания здания по адресу \"Санкт-Петербург, Центральная, 10\" равна 220 кв. м.', 'target_value': 219.65988159179688}, '4501_5': {'building_id': 117032, 'query': 'Какова жилая площадь дома по адресу \"Санкт-Петербург, Центральная, 10\"?', 'response': 'Жилкая площадь дома по адресу \"Санкт-Петербург, Центральная, 10\" равна 236 кв. м.', 'target_value': 236.3000030517578}, '4501_6': {'building_id': 117032, 'query': 'Сколько этажей в доме по адресу \"Санкт-Петербург, Центральная, 10\"?', 'response': 'В доме по адресу \"Санкт-Петербург, Центральная, 10\" 1 этажей', 'target_value': 1.0}, '4501_7': {'building_id': 117032, 'query': 'Сколько человек проживает в доме по адресу \"Санкт-Петербург, Центральная, 10\"?', 'response': 'В доме по адресу \"Санкт-Петербург, Центральная, 10\" проживает 18 человек.', 'target_value': 18.0}, '4501_8': {'building_id': 117032, 'query': 'Каково моделированное число жителей (после балансировки) в доме по адресу \"Санкт-Петербург, Центральная, 10\"?', 'response': 'Моделированное число жителей (после балансировки) – 8 человек.', 'target_value': 8.0}, '4501_9': {'building_id': 117032, 'query': 'Есть ли в доме по адресу \"Санкт-Петербург, Центральная, 10\" центральное отопление?', 'response': 'В доме по адресу \"Санкт-Петербург, Центральная, 10\" есть центральное отопление.', 'target_value': '0'}, '4501_10': {'building_id': 117032, 'query': 'Есть ли в доме по адресу \"Санкт-Петербург, Центральная, 10\" центральное водоснабжение (горячая вода)?', 'response': 'В доме по адресу \"Санкт-Петербург, Центральная, 10\" есть горячая вода.', 'target_value': '0'}, '4501_11': {'building_id': 117032, 'query': 'Есть ли в доме по адресу \"Санкт-Петербург, Центральная, 10\" центральное водоснабжение (холодная вода)?', 'response': 'В доме по адресу \"Санкт-Петербург, Центральная, 10\" есть холодная вода.', 'target_value': '1'}, '4501_12': {'building_id': 117032, 'query': 'Есть ли в доме по адресу \"Санкт-Петербург, Центральная, 10\" централизованная электрификация (электричество)?', 'response': 'В доме по адресу \"Санкт-Петербург, Центральная, 10\" есть централизованное электроснабжение.', 'target_value': '1'}, '4501_13': {'building_id': 117032, 'query': 'Есть ли в доме по адресу \"Санкт-Петербург, Центральная, 10\" центральный газопровод (газ)?', 'response': 'В доме по адресу \"Санкт-Петербург, Центральная, 10\" есть центральный газопровод.', 'target_value': '0'}, '4501_14': {'building_id': 117032, 'query': 'Есть ли в доме по адресу \"Санкт-Петербург, Центральная, 10\" мусоропровод?', 'response': 'В доме по адресу \"Санкт-Петербург, Центральная, 10\" есть мусоропровод.', 'target_value': '1'}, '4501_15': {'building_id': 117032, 'query': 'Как называется управляющая компания в доме по адресу \"Санкт-Петербург, Центральная, 10\"?', 'response': 'Управляющая компания в доме по адресу \"Санкт-Петербург, Центральная, 10\" называется \"ООО \"РСУ \"Регион\"\".', 'target_value': 'ООО \"РСУ \"Регион\"'}, '4501_16': {'building_id': 117032, 'query': 'Является ли дом по адресу \"Санкт-Петербург, Центральная, 10\" аварийным?', 'response': 'Дом по адресу \"Санкт-Петербург, Центральная, 10\" не является аварийным.', 'target_value': '1'}, '4501_17': {'building_id': 117032, 'query': 'Сколько лифтов в доме по адресу \"Санкт-Петербург, Центральная, 10\"?', 'response': 'В доме по адресу \"Санкт-Петербург, Центральная, 10\" 0 лифтов.', 'target_value': 0.0}, '4501_18': {'building_id': 117032, 'query': 'В какие годы производился капремонт дома по адресу \"Санкт-Петербург, Центральная, 10\"?', 'response': 'Капремонт в доме по адресу \"Санкт-Петербург, Центральная, 10\" производился в следующие годы: 2010.', 'target_value': '2010'}, '4501_19': {'building_id': 117032, 'query': 'Является ли здание по адресу \"Санкт-Петербург, Центральная, 10\" жилым?', 'response': 'Дом по адресу \"Санкт-Петербург, Центральная, 10\" является жилым.', 'target_value': 'Жилой дом'}, '4501_20': {'building_id': 117032, 'query': 'Какой год постройки дома по адресу \"Санкт-Петербург, Центральная, 10\"?', 'response': 'Дом по адресу \"Санкт-Петербург, Центральная, 10\" был построен в 1905 году.', 'target_value': 1905.0}, '4501_21': {'building_id': 117032, 'query': 'Каковы геометрические координаты дома по адресу \"Санкт-Петербург, Центральная, 10\"?', 'response': 'Геометрические координаты дома по адресу \"Санкт-Петербург, Центральная, 10\" – (30.153159, 60.123333).', 'target_value': [30.153159, 60.123333]}, '4502_0': {'building_id': 117033, 'query': 'Какой идентификатор физического объекта у дома по адресу \"Санкт-Петербург, Приморское шоссе, 535\"?', 'response': 'Идентификатор дома по адресу \"Санкт-Петербург, Приморское шоссе, 535\" – 117033.', 'target_value': 117033}, '4502_1': {'building_id': 117033, 'query': 'В каком районе находится дом по адресу \"Санкт-Петербург, Приморское шоссе, 535\"?', 'response': 'Дом по адресу \"Санкт-Петербург, Приморское шоссе, 535\" находится в районе \"Курортный\".', 'target_value': 'Курортный'}, '4502_2': {'building_id': 117033, 'query': 'В каком муниципальном образовании находится дом по адресу \"Санкт-Петербург, Приморское шоссе, 535\"?', 'response': 'Дом по адресу \"Санкт-Петербург, Приморское шоссе, 535\" находится в муниципальном образовании Зеленогорск.', 'target_value': 'Зеленогорск'}, '4502_3': {'building_id': 117033, 'query': 'Какой тип проекта застройки дома по адресу \"Санкт-Петербург, Приморское шоссе, 535\"?', 'response': 'Для дома по адресу \"Санкт-Петербург, Приморское шоссе, 535\" данная информация отсутствует', 'target_value': 'null'}, '4502_4': {'building_id': 117033, 'query': 'Какая площадь основания здания по адресу \"Санкт-Петербург, Приморское шоссе, 535\"?', 'response': 'Площадь основания здания по адресу \"Санкт-Петербург, Приморское шоссе, 535\" равна 203 кв. м.', 'target_value': 203.1707305908203}, '4502_5': {'building_id': 117033, 'query': 'Какова жилая площадь дома по адресу \"Санкт-Петербург, Приморское шоссе, 535\"?', 'response': 'Жилкая площадь дома по адресу \"Санкт-Петербург, Приморское шоссе, 535\" равна 198 кв. м.', 'target_value': 197.6300048828125}, '4502_6': {'building_id': 117033, 'query': 'Сколько этажей в доме по адресу \"Санкт-Петербург, Приморское шоссе, 535\"?', 'response': 'В доме по адресу \"Санкт-Петербург, Приморское шоссе, 535\" 1 этажей', 'target_value': 1.0}, '4502_7': {'building_id': 117033, 'query': 'Сколько человек проживает в доме по адресу \"Санкт-Петербург, Приморское шоссе, 535\"?', 'response': 'В доме по адресу \"Санкт-Петербург, Приморское шоссе, 535\" проживает 12 человек.', 'target_value': 12.0}, '4502_8': {'building_id': 117033, 'query': 'Каково моделированное число жителей (после балансировки) в доме по адресу \"Санкт-Петербург, Приморское шоссе, 535\"?', 'response': 'Моделированное число жителей (после балансировки) – 9 человек.', 'target_value': 9.0}, '4502_9': {'building_id': 117033, 'query': 'Есть ли в доме по адресу \"Санкт-Петербург, Приморское шоссе, 535\" центральное отопление?', 'response': 'В доме по адресу \"Санкт-Петербург, Приморское шоссе, 535\" есть центральное отопление.', 'target_value': '0'}, '4502_10': {'building_id': 117033, 'query': 'Есть ли в доме по адресу \"Санкт-Петербург, Приморское шоссе, 535\" центральное водоснабжение (горячая вода)?', 'response': 'В доме по адресу \"Санкт-Петербург, Приморское шоссе, 535\" есть горячая вода.', 'target_value': '0'}, '4502_11': {'building_id': 117033, 'query': 'Есть ли в доме по адресу \"Санкт-Петербург, Приморское шоссе, 535\" центральное водоснабжение (холодная вода)?', 'response': 'В доме по адресу \"Санкт-Петербург, Приморское шоссе, 535\" есть холодная вода.', 'target_value': '1'}, '4502_12': {'building_id': 117033, 'query': 'Есть ли в доме по адресу \"Санкт-Петербург, Приморское шоссе, 535\" централизованная электрификация (электричество)?', 'response': 'В доме по адресу \"Санкт-Петербург, Приморское шоссе, 535\" есть централизованное электроснабжение.', 'target_value': '1'}, '4502_13': {'building_id': 117033, 'query': 'Есть ли в доме по адресу \"Санкт-Петербург, Приморское шоссе, 535\" центральный газопровод (газ)?', 'response': 'В доме по адресу \"Санкт-Петербург, Приморское шоссе, 535\" есть центральный газопровод.', 'target_value': '0'}, '4502_14': {'building_id': 117033, 'query': 'Есть ли в доме по адресу \"Санкт-Петербург, Приморское шоссе, 535\" мусоропровод?', 'response': 'В доме по адресу \"Санкт-Петербург, Приморское шоссе, 535\" есть мусоропровод.', 'target_value': '0'}, '4502_15': {'building_id': 117033, 'query': 'Как называется управляющая компания в доме по адресу \"Санкт-Петербург, Приморское шоссе, 535\"?', 'response': 'Управляющая компания в доме по адресу \"Санкт-Петербург, Приморское шоссе, 535\" называется \"ООО \"ЖКС Курортного района\"\".', 'target_value': 'ООО \"ЖКС Курортного района\"'}, '4502_16': {'building_id': 117033, 'query': 'Является ли дом по адресу \"Санкт-Петербург, Приморское шоссе, 535\" аварийным?', 'response': 'Дом по адресу \"Санкт-Петербург, Приморское шоссе, 535\" не является аварийным.', 'target_value': '0'}, '4502_17': {'building_id': 117033, 'query': 'Сколько лифтов в доме по адресу \"Санкт-Петербург, Приморское шоссе, 535\"?', 'response': 'Для дома по адресу \"Санкт-Петербург, Приморское шоссе, 535\" данная информация отсутствует', 'target_value': 'null'}, '4502_18': {'building_id': 117033, 'query': 'В какие годы производился капремонт дома по адресу \"Санкт-Петербург, Приморское шоссе, 535\"?', 'response': 'Для дома по адресу \"Санкт-Петербург, Приморское шоссе, 535\" данная информация отсутствует', 'target_value': 'null'}, '4502_19': {'building_id': 117033, 'query': 'Является ли здание по адресу \"Санкт-Петербург, Приморское шоссе, 535\" жилым?', 'response': 'Дом по адресу \"Санкт-Петербург, Приморское шоссе, 535\" является жилым.', 'target_value': 'Жилой дом'}, '4502_20': {'building_id': 117033, 'query': 'Какой год постройки дома по адресу \"Санкт-Петербург, Приморское шоссе, 535\"?', 'response': 'Дом по адресу \"Санкт-Петербург, Приморское шоссе, 535\" был построен в 1917 году.', 'target_value': 1917.0}, '4502_21': {'building_id': 117033, 'query': 'Каковы геометрические координаты дома по адресу \"Санкт-Петербург, Приморское шоссе, 535\"?', 'response': 'Геометрические координаты дома по адресу \"Санкт-Петербург, Приморское шоссе, 535\" – (29.714038, 60.191614).', 'target_value': [29.714038, 60.191614]}, '4503_0': {'building_id': 117034, 'query': 'Какой идентификатор физического объекта у дома по адресу \"Санкт-Петербург, Приморское шоссе, 302\"?', 'response': 'Идентификатор дома по адресу \"Санкт-Петербург, Приморское шоссе, 302\" – 117034.', 'target_value': 117034}, '4503_1': {'building_id': 117034, 'query': 'В каком районе находится дом по адресу \"Санкт-Петербург, Приморское шоссе, 302\"?', 'response': 'Дом по адресу \"Санкт-Петербург, Приморское шоссе, 302\" находится в районе \"Курортный\".', 'target_value': 'Курортный'}, '4503_2': {'building_id': 117034, 'query': 'В каком муниципальном образовании находится дом по адресу \"Санкт-Петербург, Приморское шоссе, 302\"?', 'response': 'Дом по адресу \"Санкт-Петербург, Приморское шоссе, 302\" находится в муниципальном образовании Сестрорецк.', 'target_value': 'Сестрорецк'}, '4503_3': {'building_id': 117034, 'query': 'Какой тип проекта застройки дома по адресу \"Санкт-Петербург, Приморское шоссе, 302\"?', 'response': 'Дом по адресу \"Санкт-Петербург, Приморское шоссе, 302\" построен по 1-528кп проекту.', 'target_value': '1-528кп'}, '4503_4': {'building_id': 117034, 'query': 'Какая площадь основания здания по адресу \"Санкт-Петербург, Приморское шоссе, 302\"?', 'response': 'Площадь основания здания по адресу \"Санкт-Петербург, Приморское шоссе, 302\" равна 1002 кв. м.', 'target_value': 1001.5562744140625}, '4503_5': {'building_id': 117034, 'query': 'Какова жилая площадь дома по адресу \"Санкт-Петербург, Приморское шоссе, 302\"?', 'response': 'Жилкая площадь дома по адресу \"Санкт-Петербург, Приморское шоссе, 302\" равна 3409 кв. м.', 'target_value': 3409.0}, '4503_6': {'building_id': 117034, 'query': 'Сколько этажей в доме по адресу \"Санкт-Петербург, Приморское шоссе, 302\"?', 'response': 'В доме по адресу \"Санкт-Петербург, Приморское шоссе, 302\" 5 этажей', 'target_value': 5.0}, '4503_7': {'building_id': 117034, 'query': 'Сколько человек проживает в доме по адресу \"Санкт-Петербург, Приморское шоссе, 302\"?', 'response': 'В доме по адресу \"Санкт-Петербург, Приморское шоссе, 302\" проживает 100 человек.', 'target_value': 100.0}, '4503_8': {'building_id': 117034, 'query': 'Каково моделированное число жителей (после балансировки) в доме по адресу \"Санкт-Петербург, Приморское шоссе, 302\"?', 'response': 'Моделированное число жителей (после балансировки) – 111 человек.', 'target_value': 111.0}, '4503_9': {'building_id': 117034, 'query': 'Есть ли в доме по адресу \"Санкт-Петербург, Приморское шоссе, 302\" центральное отопление?', 'response': 'В доме по адресу \"Санкт-Петербург, Приморское шоссе, 302\" есть центральное отопление.', 'target_value': '1'}, '4503_10': {'building_id': 117034, 'query': 'Есть ли в доме по адресу \"Санкт-Петербург, Приморское шоссе, 302\" центральное водоснабжение (горячая вода)?', 'response': 'В доме по адресу \"Санкт-Петербург, Приморское шоссе, 302\" есть горячая вода.', 'target_value': '1'}, '4503_11': {'building_id': 117034, 'query': 'Есть ли в доме по адресу \"Санкт-Петербург, Приморское шоссе, 302\" центральное водоснабжение (холодная вода)?', 'response': 'В доме по адресу \"Санкт-Петербург, Приморское шоссе, 302\" есть холодная вода.', 'target_value': '1'}, '4503_12': {'building_id': 117034, 'query': 'Есть ли в доме по адресу \"Санкт-Петербург, Приморское шоссе, 302\" централизованная электрификация (электричество)?', 'response': 'В доме по адресу \"Санкт-Петербург, Приморское шоссе, 302\" есть централизованное электроснабжение.', 'target_value': '1'}, '4503_13': {'building_id': 117034, 'query': 'Есть ли в доме по адресу \"Санкт-Петербург, Приморское шоссе, 302\" центральный газопровод (газ)?', 'response': 'В доме по адресу \"Санкт-Петербург, Приморское шоссе, 302\" есть центральный газопровод.', 'target_value': '1'}, '4503_14': {'building_id': 117034, 'query': 'Есть ли в доме по адресу \"Санкт-Петербург, Приморское шоссе, 302\" мусоропровод?', 'response': 'В доме по адресу \"Санкт-Петербург, Приморское шоссе, 302\" есть мусоропровод.', 'target_value': '0'}, '4503_15': {'building_id': 117034, 'query': 'Как называется управляющая компания в доме по адресу \"Санкт-Петербург, Приморское шоссе, 302\"?', 'response': 'Управляющая компания в доме по адресу \"Санкт-Петербург, Приморское шоссе, 302\" называется \"ЖСК № 115\".', 'target_value': 'ЖСК № 115'}, '4503_16': {'building_id': 117034, 'query': 'Является ли дом по адресу \"Санкт-Петербург, Приморское шоссе, 302\" аварийным?', 'response': 'Дом по адресу \"Санкт-Петербург, Приморское шоссе, 302\" не является аварийным.', 'target_value': '0'}, '4503_17': {'building_id': 117034, 'query': 'Сколько лифтов в доме по адресу \"Санкт-Петербург, Приморское шоссе, 302\"?', 'response': 'Для дома по адресу \"Санкт-Петербург, Приморское шоссе, 302\" данная информация отсутствует', 'target_value': 'null'}, '4503_18': {'building_id': 117034, 'query': 'В какие годы производился капремонт дома по адресу \"Санкт-Петербург, Приморское шоссе, 302\"?', 'response': 'Для дома по адресу \"Санкт-Петербург, Приморское шоссе, 302\" данная информация отсутствует', 'target_value': 'null'}, '4503_19': {'building_id': 117034, 'query': 'Является ли здание по адресу \"Санкт-Петербург, Приморское шоссе, 302\" жилым?', 'response': 'Дом по адресу \"Санкт-Петербург, Приморское шоссе, 302\" является жилым.', 'target_value': 'Жилой дом'}, '4503_20': {'building_id': 117034, 'query': 'Какой год постройки дома по адресу \"Санкт-Петербург, Приморское шоссе, 302\"?', 'response': 'Дом по адресу \"Санкт-Петербург, Приморское шоссе, 302\" был построен в 1965 году.', 'target_value': 1965.0}, '4503_21': {'building_id': 117034, 'query': 'Каковы геометрические координаты дома по адресу \"Санкт-Петербург, Приморское шоссе, 302\"?', 'response': 'Геометрические координаты дома по адресу \"Санкт-Петербург, Приморское шоссе, 302\" – (29.977148, 60.096485).', 'target_value': [29.977148, 60.096485]}, '4504_0': {'building_id': 117035, 'query': 'Какой идентификатор физического объекта у дома по адресу \"Санкт-Петербург, Жилой городок Красавица, 8\"?', 'response': 'Идентификатор дома по адресу \"Санкт-Петербург, Жилой городок Красавица, 8\" – 117035.', 'target_value': 117035}, '4504_1': {'building_id': 117035, 'query': 'В каком районе находится дом по адресу \"Санкт-Петербург, Жилой городок Красавица, 8\"?', 'response': 'Дом по адресу \"Санкт-Петербург, Жилой городок Красавица, 8\" находится в районе \"Курортный\".', 'target_value': 'Курортный'}, '4504_2': {'building_id': 117035, 'query': 'В каком муниципальном образовании находится дом по адресу \"Санкт-Петербург, Жилой городок Красавица, 8\"?', 'response': 'Дом по адресу \"Санкт-Петербург, Жилой городок Красавица, 8\" находится в муниципальном образовании Зеленогорск.', 'target_value': 'Зеленогорск'}, '4504_3': {'building_id': 117035, 'query': 'Какой тип проекта застройки дома по адресу \"Санкт-Петербург, Жилой городок Красавица, 8\"?', 'response': 'Дом по адресу \"Санкт-Петербург, Жилой городок Красавица, 8\" построен по индивидуальному проекту.', 'target_value': 'Индивидуальный'}, '4504_4': {'building_id': 117035, 'query': 'Какая площадь основания здания по адресу \"Санкт-Петербург, Жилой городок Красавица, 8\"?', 'response': 'Площадь основания здания по адресу \"Санкт-Петербург, Жилой городок Красавица, 8\" равна 1014 кв. м.', 'target_value': 1014.3855590820312}, '4504_5': {'building_id': 117035, 'query': 'Какова жилая площадь дома по адресу \"Санкт-Петербург, Жилой городок Красавица, 8\"?', 'response': 'Жилкая площадь дома по адресу \"Санкт-Петербург, Жилой городок Красавица, 8\" равна 1547 кв. м.', 'target_value': 1546.699951171875}, '4504_6': {'building_id': 117035, 'query': 'Сколько этажей в доме по адресу \"Санкт-Петербург, Жилой городок Красавица, 8\"?', 'response': 'В доме по адресу \"Санкт-Петербург, Жилой городок Красавица, 8\" 3 этажей', 'target_value': 3.0}, '4504_7': {'building_id': 117035, 'query': 'Сколько человек проживает в доме по адресу \"Санкт-Петербург, Жилой городок Красавица, 8\"?', 'response': 'В доме по адресу \"Санкт-Петербург, Жилой городок Красавица, 8\" проживает 93 человек.', 'target_value': 93.0}, '4504_8': {'building_id': 117035, 'query': 'Каково моделированное число жителей (после балансировки) в доме по адресу \"Санкт-Петербург, Жилой городок Красавица, 8\"?', 'response': 'Моделированное число жителей (после балансировки) – 72 человек.', 'target_value': 72.0}, '4504_9': {'building_id': 117035, 'query': 'Есть ли в доме по адресу \"Санкт-Петербург, Жилой городок Красавица, 8\" центральное отопление?', 'response': 'В доме по адресу \"Санкт-Петербург, Жилой городок Красавица, 8\" есть центральное отопление.', 'target_value': '1'}, '4504_10': {'building_id': 117035, 'query': 'Есть ли в доме по адресу \"Санкт-Петербург, Жилой городок Красавица, 8\" центральное водоснабжение (горячая вода)?', 'response': 'В доме по адресу \"Санкт-Петербург, Жилой городок Красавица, 8\" есть горячая вода.', 'target_value': '1'}, '4504_11': {'building_id': 117035, 'query': 'Есть ли в доме по адресу \"Санкт-Петербург, Жилой городок Красавица, 8\" центральное водоснабжение (холодная вода)?', 'response': 'В доме по адресу \"Санкт-Петербург, Жилой городок Красавица, 8\" есть холодная вода.', 'target_value': '1'}, '4504_12': {'building_id': 117035, 'query': 'Есть ли в доме по адресу \"Санкт-Петербург, Жилой городок Красавица, 8\" централизованная электрификация (электричество)?', 'response': 'В доме по адресу \"Санкт-Петербург, Жилой городок Красавица, 8\" есть централизованное электроснабжение.', 'target_value': '1'}, '4504_13': {'building_id': 117035, 'query': 'Есть ли в доме по адресу \"Санкт-Петербург, Жилой городок Красавица, 8\" центральный газопровод (газ)?', 'response': 'В доме по адресу \"Санкт-Петербург, Жилой городок Красавица, 8\" есть центральный газопровод.', 'target_value': '1'}, '4504_14': {'building_id': 117035, 'query': 'Есть ли в доме по адресу \"Санкт-Петербург, Жилой городок Красавица, 8\" мусоропровод?', 'response': 'В доме по адресу \"Санкт-Петербург, Жилой городок Красавица, 8\" есть мусоропровод.', 'target_value': '0'}, '4504_15': {'building_id': 117035, 'query': 'Как называется управляющая компания в доме по адресу \"Санкт-Петербург, Жилой городок Красавица, 8\"?', 'response': 'Управляющая компания в доме по адресу \"Санкт-Петербург, Жилой городок Красавица, 8\" называется \"ООО \"ЖКС Курортного района\"\".', 'target_value': 'ООО \"ЖКС Курортного района\"'}, '4504_16': {'building_id': 117035, 'query': 'Является ли дом по адресу \"Санкт-Петербург, Жилой городок Красавица, 8\" аварийным?', 'response': 'Дом по адресу \"Санкт-Петербург, Жилой городок Красавица, 8\" не является аварийным.', 'target_value': '0'}, '4504_17': {'building_id': 117035, 'query': 'Сколько лифтов в доме по адресу \"Санкт-Петербург, Жилой городок Красавица, 8\"?', 'response': 'Для дома по адресу \"Санкт-Петербург, Жилой городок Красавица, 8\" данная информация отсутствует', 'target_value': 'null'}, '4504_18': {'building_id': 117035, 'query': 'В какие годы производился капремонт дома по адресу \"Санкт-Петербург, Жилой городок Красавица, 8\"?', 'response': 'Капремонт в доме по адресу \"Санкт-Петербург, Жилой городок Красавица, 8\" производился в следующие годы: 2010; 2011.', 'target_value': '2010; 2011'}, '4504_19': {'building_id': 117035, 'query': 'Является ли здание по адресу \"Санкт-Петербург, Жилой городок Красавица, 8\" жилым?', 'response': 'Дом по адресу \"Санкт-Петербург, Жилой городок Красавица, 8\" является жилым.', 'target_value': 'Жилой дом'}, '4504_20': {'building_id': 117035, 'query': 'Какой год постройки дома по адресу \"Санкт-Петербург, Жилой городок Красавица, 8\"?', 'response': 'Дом по адресу \"Санкт-Петербург, Жилой городок Красавица, 8\" был построен в 1958 году.', 'target_value': 1958.0}, '4504_21': {'building_id': 117035, 'query': 'Каковы геометрические координаты дома по адресу \"Санкт-Петербург, Жилой городок Красавица, 8\"?', 'response': 'Геометрические координаты дома по адресу \"Санкт-Петербург, Жилой городок Красавица, 8\" – (29.750382, 60.241838).', 'target_value': [29.750382, 60.241838]}, '4505_0': {'building_id': 117036, 'query': 'Какой идентификатор физического объекта у дома по адресу \"Санкт-Петербург, проспект Ленина, 26\"?', 'response': 'Идентификатор дома по адресу \"Санкт-Петербург, проспект Ленина, 26\" – 117036.', 'target_value': 117036}, '4505_1': {'building_id': 117036, 'query': 'В каком районе находится дом по адресу \"Санкт-Петербург, проспект Ленина, 26\"?', 'response': 'Дом по адресу \"Санкт-Петербург, проспект Ленина, 26\" находится в районе \"Курортный\".', 'target_value': 'Курортный'}, '4505_2': {'building_id': 117036, 'query': 'В каком муниципальном образовании находится дом по адресу \"Санкт-Петербург, проспект Ленина, 26\"?', 'response': 'Дом по адресу \"Санкт-Петербург, проспект Ленина, 26\" находится в муниципальном образовании Зеленогорск.', 'target_value': 'Зеленогорск'}, '4505_3': {'building_id': 117036, 'query': 'Какой тип проекта застройки дома по адресу \"Санкт-Петербург, проспект Ленина, 26\"?', 'response': 'Дом по адресу \"Санкт-Петербург, проспект Ленина, 26\" построен по индивидуальному проекту.', 'target_value': 'Индивидуальный'}, '4505_4': {'building_id': 117036, 'query': 'Какая площадь основания здания по адресу \"Санкт-Петербург, проспект Ленина, 26\"?', 'response': 'Площадь основания здания по адресу \"Санкт-Петербург, проспект Ленина, 26\" равна 1086 кв. м.', 'target_value': 1085.55126953125}, '4505_5': {'building_id': 117036, 'query': 'Какова жилая площадь дома по адресу \"Санкт-Петербург, проспект Ленина, 26\"?', 'response': 'Жилкая площадь дома по адресу \"Санкт-Петербург, проспект Ленина, 26\" равна 1710 кв. м.', 'target_value': 1710.0999755859375}, '4505_6': {'building_id': 117036, 'query': 'Сколько этажей в доме по адресу \"Санкт-Петербург, проспект Ленина, 26\"?', 'response': 'В доме по адресу \"Санкт-Петербург, проспект Ленина, 26\" 3 этажей', 'target_value': 3.0}, '4505_7': {'building_id': 117036, 'query': 'Сколько человек проживает в доме по адресу \"Санкт-Петербург, проспект Ленина, 26\"?', 'response': 'В доме по адресу \"Санкт-Петербург, проспект Ленина, 26\" проживает 85 человек.', 'target_value': 85.0}, '4505_8': {'building_id': 117036, 'query': 'Каково моделированное число жителей (после балансировки) в доме по адресу \"Санкт-Петербург, проспект Ленина, 26\"?', 'response': 'Моделированное число жителей (после балансировки) – 80 человек.', 'target_value': 80.0}, '4505_9': {'building_id': 117036, 'query': 'Есть ли в доме по адресу \"Санкт-Петербург, проспект Ленина, 26\" центральное отопление?', 'response': 'В доме по адресу \"Санкт-Петербург, проспект Ленина, 26\" есть центральное отопление.', 'target_value': '1'}, '4505_10': {'building_id': 117036, 'query': 'Есть ли в доме по адресу \"Санкт-Петербург, проспект Ленина, 26\" центральное водоснабжение (горячая вода)?', 'response': 'В доме по адресу \"Санкт-Петербург, проспект Ленина, 26\" есть горячая вода.', 'target_value': '1'}, '4505_11': {'building_id': 117036, 'query': 'Есть ли в доме по адресу \"Санкт-Петербург, проспект Ленина, 26\" центральное водоснабжение (холодная вода)?', 'response': 'В доме по адресу \"Санкт-Петербург, проспект Ленина, 26\" есть холодная вода.', 'target_value': '1'}, '4505_12': {'building_id': 117036, 'query': 'Есть ли в доме по адресу \"Санкт-Петербург, проспект Ленина, 26\" централизованная электрификация (электричество)?', 'response': 'В доме по адресу \"Санкт-Петербург, проспект Ленина, 26\" есть централизованное электроснабжение.', 'target_value': '1'}, '4505_13': {'building_id': 117036, 'query': 'Есть ли в доме по адресу \"Санкт-Петербург, проспект Ленина, 26\" центральный газопровод (газ)?', 'response': 'В доме по адресу \"Санкт-Петербург, проспект Ленина, 26\" есть центральный газопровод.', 'target_value': '1'}, '4505_14': {'building_id': 117036, 'query': 'Есть ли в доме по адресу \"Санкт-Петербург, проспект Ленина, 26\" мусоропровод?', 'response': 'В доме по адресу \"Санкт-Петербург, проспект Ленина, 26\" есть мусоропровод.', 'target_value': '0'}, '4505_15': {'building_id': 117036, 'query': 'Как называется управляющая компания в доме по адресу \"Санкт-Петербург, проспект Ленина, 26\"?', 'response': 'Управляющая компания в доме по адресу \"Санкт-Петербург, проспект Ленина, 26\" называется \"ООО \"ЖКС Курортного района\"\".', 'target_value': 'ООО \"ЖКС Курортного района\"'}, '4505_16': {'building_id': 117036, 'query': 'Является ли дом по адресу \"Санкт-Петербург, проспект Ленина, 26\" аварийным?', 'response': 'Дом по адресу \"Санкт-Петербург, проспект Ленина, 26\" не является аварийным.', 'target_value': '0'}, '4505_17': {'building_id': 117036, 'query': 'Сколько лифтов в доме по адресу \"Санкт-Петербург, проспект Ленина, 26\"?', 'response': 'Для дома по адресу \"Санкт-Петербург, проспект Ленина, 26\" данная информация отсутствует', 'target_value': 'null'}, '4505_18': {'building_id': 117036, 'query': 'В какие годы производился капремонт дома по адресу \"Санкт-Петербург, проспект Ленина, 26\"?', 'response': 'Для дома по адресу \"Санкт-Петербург, проспект Ленина, 26\" данная информация отсутствует', 'target_value': 'null'}, '4505_19': {'building_id': 117036, 'query': 'Является ли здание по адресу \"Санкт-Петербург, проспект Ленина, 26\" жилым?', 'response': 'Дом по адресу \"Санкт-Петербург, проспект Ленина, 26\" является жилым.', 'target_value': 'Жилой дом'}, '4505_20': {'building_id': 117036, 'query': 'Какой год постройки дома по адресу \"Санкт-Петербург, проспект Ленина, 26\"?', 'response': 'Дом по адресу \"Санкт-Петербург, проспект Ленина, 26\" был построен в 1957 году.', 'target_value': 1957.0}, '4505_21': {'building_id': 117036, 'query': 'Каковы геометрические координаты дома по адресу \"Санкт-Петербург, проспект Ленина, 26\"?', 'response': 'Геометрические координаты дома по адресу \"Санкт-Петербург, проспект Ленина, 26\" – (29.704946, 60.198535).', 'target_value': [29.704946, 60.198535]}, '4506_0': {'building_id': 117037, 'query': 'Какой идентификатор физического объекта у дома по адресу \"Санкт-Петербург, Володарского, 43\"?', 'response': 'Идентификатор дома по адресу \"Санкт-Петербург, Володарского, 43\" – 117037.', 'target_value': 117037}, '4506_1': {'building_id': 117037, 'query': 'В каком районе находится дом по адресу \"Санкт-Петербург, Володарского, 43\"?', 'response': 'Дом по адресу \"Санкт-Петербург, Володарского, 43\" находится в районе \"Курортный\".', 'target_value': 'Курортный'}, '4506_2': {'building_id': 117037, 'query': 'В каком муниципальном образовании находится дом по адресу \"Санкт-Петербург, Володарского, 43\"?', 'response': 'Дом по адресу \"Санкт-Петербург, Володарского, 43\" находится в муниципальном образовании Сестрорецк.', 'target_value': 'Сестрорецк'}, '4506_3': {'building_id': 117037, 'query': 'Какой тип проекта застройки дома по адресу \"Санкт-Петербург, Володарского, 43\"?', 'response': 'Для дома по адресу \"Санкт-Петербург, Володарского, 43\" данная информация отсутствует', 'target_value': 'null'}, '4506_4': {'building_id': 117037, 'query': 'Какая площадь основания здания по адресу \"Санкт-Петербург, Володарского, 43\"?', 'response': 'Площадь основания здания по адресу \"Санкт-Петербург, Володарского, 43\" равна 149 кв. м.', 'target_value': 149.4903106689453}, '4506_5': {'building_id': 117037, 'query': 'Какова жилая площадь дома по адресу \"Санкт-Петербург, Володарского, 43\"?', 'response': 'Жилкая площадь дома по адресу \"Санкт-Петербург, Володарского, 43\" равна 164 кв. м.', 'target_value': 164.0}, '4506_6': {'building_id': 117037, 'query': 'Сколько этажей в доме по адресу \"Санкт-Петербург, Володарского, 43\"?', 'response': 'В доме по адресу \"Санкт-Петербург, Володарского, 43\" 2 этажей', 'target_value': 2.0}, '4506_7': {'building_id': 117037, 'query': 'Сколько человек проживает в доме по адресу \"Санкт-Петербург, Володарского, 43\"?', 'response': 'В доме по адресу \"Санкт-Петербург, Володарского, 43\" проживает 6 человек.', 'target_value': 6.0}, '4506_8': {'building_id': 117037, 'query': 'Каково моделированное число жителей (после балансировки) в доме по адресу \"Санкт-Петербург, Володарского, 43\"?', 'response': 'Моделированное число жителей (после балансировки) – 5 человек.', 'target_value': 5.0}, '4506_9': {'building_id': 117037, 'query': 'Есть ли в доме по адресу \"Санкт-Петербург, Володарского, 43\" центральное отопление?', 'response': 'В доме по адресу \"Санкт-Петербург, Володарского, 43\" есть центральное отопление.', 'target_value': '1'}, '4506_10': {'building_id': 117037, 'query': 'Есть ли в доме по адресу \"Санкт-Петербург, Володарского, 43\" центральное водоснабжение (горячая вода)?', 'response': 'В доме по адресу \"Санкт-Петербург, Володарского, 43\" есть горячая вода.', 'target_value': '1'}, '4506_11': {'building_id': 117037, 'query': 'Есть ли в доме по адресу \"Санкт-Петербург, Володарского, 43\" центральное водоснабжение (холодная вода)?', 'response': 'В доме по адресу \"Санкт-Петербург, Володарского, 43\" есть холодная вода.', 'target_value': '1'}, '4506_12': {'building_id': 117037, 'query': 'Есть ли в доме по адресу \"Санкт-Петербург, Володарского, 43\" централизованная электрификация (электричество)?', 'response': 'В доме по адресу \"Санкт-Петербург, Володарского, 43\" есть централизованное электроснабжение.', 'target_value': '1'}, '4506_13': {'building_id': 117037, 'query': 'Есть ли в доме по адресу \"Санкт-Петербург, Володарского, 43\" центральный газопровод (газ)?', 'response': 'В доме по адресу \"Санкт-Петербург, Володарского, 43\" есть центральный газопровод.', 'target_value': '1'}, '4506_14': {'building_id': 117037, 'query': 'Есть ли в доме по адресу \"Санкт-Петербург, Володарского, 43\" мусоропровод?', 'response': 'В доме по адресу \"Санкт-Петербург, Володарского, 43\" есть мусоропровод.', 'target_value': '0'}, '4506_15': {'building_id': 117037, 'query': 'Как называется управляющая компания в доме по адресу \"Санкт-Петербург, Володарского, 43\"?', 'response': 'Управляющая компания в доме по адресу \"Санкт-Петербург, Володарского, 43\" называется \"ООО \"ЖКС Курортного района\"\".', 'target_value': 'ООО \"ЖКС Курортного района\"'}, '4506_16': {'building_id': 117037, 'query': 'Является ли дом по адресу \"Санкт-Петербург, Володарского, 43\" аварийным?', 'response': 'Дом по адресу \"Санкт-Петербург, Володарского, 43\" не является аварийным.', 'target_value': '0'}, '4506_17': {'building_id': 117037, 'query': 'Сколько лифтов в доме по адресу \"Санкт-Петербург, Володарского, 43\"?', 'response': 'Для дома по адресу \"Санкт-Петербург, Володарского, 43\" данная информация отсутствует', 'target_value': 'null'}, '4506_18': {'building_id': 117037, 'query': 'В какие годы производился капремонт дома по адресу \"Санкт-Петербург, Володарского, 43\"?', 'response': 'Капремонт в доме по адресу \"Санкт-Петербург, Володарского, 43\" производился в следующие годы: 2006; 2007; 2008.', 'target_value': '2006; 2007; 2008'}, '4506_19': {'building_id': 117037, 'query': 'Является ли здание по адресу \"Санкт-Петербург, Володарского, 43\" жилым?', 'response': 'Дом по адресу \"Санкт-Петербург, Володарского, 43\" является жилым.', 'target_value': 'Жилой дом'}, '4506_20': {'building_id': 117037, 'query': 'Какой год постройки дома по адресу \"Санкт-Петербург, Володарского, 43\"?', 'response': 'Дом по адресу \"Санкт-Петербург, Володарского, 43\" был построен в 1955 году.', 'target_value': 1955.0}, '4506_21': {'building_id': 117037, 'query': 'Каковы геометрические координаты дома по адресу \"Санкт-Петербург, Володарского, 43\"?', 'response': 'Геометрические координаты дома по адресу \"Санкт-Петербург, Володарского, 43\" – (29.975095, 60.102805).', 'target_value': [29.975095, 60.102805]}, '4507_0': {'building_id': 117038, 'query': 'Какой идентификатор физического объекта у дома по адресу \"Санкт-Петербург, Ленинградская, 3\"?', 'response': 'Идентификатор дома по адресу \"Санкт-Петербург, Ленинградская, 3\" – 117038.', 'target_value': 117038}, '4507_1': {'building_id': 117038, 'query': 'В каком районе находится дом по адресу \"Санкт-Петербург, Ленинградская, 3\"?', 'response': 'Дом по адресу \"Санкт-Петербург, Ленинградская, 3\" находится в районе \"Курортный\".', 'target_value': 'Курортный'}, '4507_2': {'building_id': 117038, 'query': 'В каком муниципальном образовании находится дом по адресу \"Санкт-Петербург, Ленинградская, 3\"?', 'response': 'Дом по адресу \"Санкт-Петербург, Ленинградская, 3\" находится в муниципальном образовании Песочный.', 'target_value': 'Песочный'}, '4507_3': {'building_id': 117038, 'query': 'Какой тип проекта застройки дома по адресу \"Санкт-Петербург, Ленинградская, 3\"?', 'response': 'Для дома по адресу \"Санкт-Петербург, Ленинградская, 3\" данная информация отсутствует', 'target_value': 'null'}, '4507_4': {'building_id': 117038, 'query': 'Какая площадь основания здания по адресу \"Санкт-Петербург, Ленинградская, 3\"?', 'response': 'Площадь основания здания по адресу \"Санкт-Петербург, Ленинградская, 3\" равна 313 кв. м.', 'target_value': 312.6800231933594}, '4507_5': {'building_id': 117038, 'query': 'Какова жилая площадь дома по адресу \"Санкт-Петербург, Ленинградская, 3\"?', 'response': 'Жилкая площадь дома по адресу \"Санкт-Петербург, Ленинградская, 3\" равна 360 кв. м.', 'target_value': 359.5}, '4507_6': {'building_id': 117038, 'query': 'Сколько этажей в доме по адресу \"Санкт-Петербург, Ленинградская, 3\"?', 'response': 'В доме по адресу \"Санкт-Петербург, Ленинградская, 3\" 1 этажей', 'target_value': 1.0}, '4507_7': {'building_id': 117038, 'query': 'Сколько человек проживает в доме по адресу \"Санкт-Петербург, Ленинградская, 3\"?', 'response': 'В доме по адресу \"Санкт-Петербург, Ленинградская, 3\" проживает 20 человек.', 'target_value': 20.0}, '4507_8': {'building_id': 117038, 'query': 'Каково моделированное число жителей (после балансировки) в доме по адресу \"Санкт-Петербург, Ленинградская, 3\"?', 'response': 'Моделированное число жителей (после балансировки) – 12 человек.', 'target_value': 12.0}, '4507_9': {'building_id': 117038, 'query': 'Есть ли в доме по адресу \"Санкт-Петербург, Ленинградская, 3\" центральное отопление?', 'response': 'В доме по адресу \"Санкт-Петербург, Ленинградская, 3\" есть центральное отопление.', 'target_value': '0'}, '4507_10': {'building_id': 117038, 'query': 'Есть ли в доме по адресу \"Санкт-Петербург, Ленинградская, 3\" центральное водоснабжение (горячая вода)?', 'response': 'В доме по адресу \"Санкт-Петербург, Ленинградская, 3\" есть горячая вода.', 'target_value': '0'}, '4507_11': {'building_id': 117038, 'query': 'Есть ли в доме по адресу \"Санкт-Петербург, Ленинградская, 3\" центральное водоснабжение (холодная вода)?', 'response': 'В доме по адресу \"Санкт-Петербург, Ленинградская, 3\" есть холодная вода.', 'target_value': '1'}, '4507_12': {'building_id': 117038, 'query': 'Есть ли в доме по адресу \"Санкт-Петербург, Ленинградская, 3\" централизованная электрификация (электричество)?', 'response': 'В доме по адресу \"Санкт-Петербург, Ленинградская, 3\" есть централизованное электроснабжение.', 'target_value': '1'}, '4507_13': {'building_id': 117038, 'query': 'Есть ли в доме по адресу \"Санкт-Петербург, Ленинградская, 3\" центральный газопровод (газ)?', 'response': 'В доме по адресу \"Санкт-Петербург, Ленинградская, 3\" есть центральный газопровод.', 'target_value': '0'}, '4507_14': {'building_id': 117038, 'query': 'Есть ли в доме по адресу \"Санкт-Петербург, Ленинградская, 3\" мусоропровод?', 'response': 'В доме по адресу \"Санкт-Петербург, Ленинградская, 3\" есть мусоропровод.', 'target_value': '1'}, '4507_15': {'building_id': 117038, 'query': 'Как называется управляющая компания в доме по адресу \"Санкт-Петербург, Ленинградская, 3\"?', 'response': 'Управляющая компания в доме по адресу \"Санкт-Петербург, Ленинградская, 3\" называется \"ООО \"РСУ \"РЕГИОН\"\".', 'target_value': 'ООО \"РСУ \"РЕГИОН\"'}, '4507_16': {'building_id': 117038, 'query': 'Является ли дом по адресу \"Санкт-Петербург, Ленинградская, 3\" аварийным?', 'response': 'Дом по адресу \"Санкт-Петербург, Ленинградская, 3\" не является аварийным.', 'target_value': '0'}, '4507_17': {'building_id': 117038, 'query': 'Сколько лифтов в доме по адресу \"Санкт-Петербург, Ленинградская, 3\"?', 'response': 'В доме по адресу \"Санкт-Петербург, Ленинградская, 3\" 0 лифтов.', 'target_value': 0.0}, '4507_18': {'building_id': 117038, 'query': 'В какие годы производился капремонт дома по адресу \"Санкт-Петербург, Ленинградская, 3\"?', 'response': 'Капремонт в доме по адресу \"Санкт-Петербург, Ленинградская, 3\" производился в следующие годы: 2004.', 'target_value': '2004'}, '4507_19': {'building_id': 117038, 'query': 'Является ли здание по адресу \"Санкт-Петербург, Ленинградская, 3\" жилым?', 'response': 'Дом по адресу \"Санкт-Петербург, Ленинградская, 3\" является жилым.', 'target_value': 'Жилой дом'}, '4507_20': {'building_id': 117038, 'query': 'Какой год постройки дома по адресу \"Санкт-Петербург, Ленинградская, 3\"?', 'response': 'Дом по адресу \"Санкт-Петербург, Ленинградская, 3\" был построен в 1917 году.', 'target_value': 1917.0}, '4507_21': {'building_id': 117038, 'query': 'Каковы геометрические координаты дома по адресу \"Санкт-Петербург, Ленинградская, 3\"?', 'response': 'Геометрические координаты дома по адресу \"Санкт-Петербург, Ленинградская, 3\" – (30.156538, 60.126073).', 'target_value': [30.156538, 60.126073]}, '4508_0': {'building_id': 117039, 'query': 'Какой идентификатор физического объекта у дома по адресу \"Санкт-Петербург, Володарского, 60\"?', 'response': 'Идентификатор дома по адресу \"Санкт-Петербург, Володарского, 60\" – 117039.', 'target_value': 117039}, '4508_1': {'building_id': 117039, 'query': 'В каком районе находится дом по адресу \"Санкт-Петербург, Володарского, 60\"?', 'response': 'Дом по адресу \"Санкт-Петербург, Володарского, 60\" находится в районе \"Курортный\".', 'target_value': 'Курортный'}, '4508_2': {'building_id': 117039, 'query': 'В каком муниципальном образовании находится дом по адресу \"Санкт-Петербург, Володарского, 60\"?', 'response': 'Дом по адресу \"Санкт-Петербург, Володарского, 60\" находится в муниципальном образовании Сестрорецк.', 'target_value': 'Сестрорецк'}, '4508_3': {'building_id': 117039, 'query': 'Какой тип проекта застройки дома по адресу \"Санкт-Петербург, Володарского, 60\"?', 'response': 'Для дома по адресу \"Санкт-Петербург, Володарского, 60\" данная информация отсутствует', 'target_value': 'null'}, '4508_4': {'building_id': 117039, 'query': 'Какая площадь основания здания по адресу \"Санкт-Петербург, Володарского, 60\"?', 'response': 'Площадь основания здания по адресу \"Санкт-Петербург, Володарского, 60\" равна 1352 кв. м.', 'target_value': 1351.758544921875}, '4508_5': {'building_id': 117039, 'query': 'Какова жилая площадь дома по адресу \"Санкт-Петербург, Володарского, 60\"?', 'response': 'Жилкая площадь дома по адресу \"Санкт-Петербург, Володарского, 60\" равна 4365 кв. м.', 'target_value': 4365.10009765625}, '4508_6': {'building_id': 117039, 'query': 'Сколько этажей в доме по адресу \"Санкт-Петербург, Володарского, 60\"?', 'response': 'В доме по адресу \"Санкт-Петербург, Володарского, 60\" 5 этажей', 'target_value': 5.0}, '4508_7': {'building_id': 117039, 'query': 'Сколько человек проживает в доме по адресу \"Санкт-Петербург, Володарского, 60\"?', 'response': 'В доме по адресу \"Санкт-Петербург, Володарского, 60\" проживает 103 человек.', 'target_value': 103.0}, '4508_8': {'building_id': 117039, 'query': 'Каково моделированное число жителей (после балансировки) в доме по адресу \"Санкт-Петербург, Володарского, 60\"?', 'response': 'Моделированное число жителей (после балансировки) – 142 человек.', 'target_value': 142.0}, '4508_9': {'building_id': 117039, 'query': 'Есть ли в доме по адресу \"Санкт-Петербург, Володарского, 60\" центральное отопление?', 'response': 'В доме по адресу \"Санкт-Петербург, Володарского, 60\" есть центральное отопление.', 'target_value': '1'}, '4508_10': {'building_id': 117039, 'query': 'Есть ли в доме по адресу \"Санкт-Петербург, Володарского, 60\" центральное водоснабжение (горячая вода)?', 'response': 'В доме по адресу \"Санкт-Петербург, Володарского, 60\" есть горячая вода.', 'target_value': '1'}, '4508_11': {'building_id': 117039, 'query': 'Есть ли в доме по адресу \"Санкт-Петербург, Володарского, 60\" центральное водоснабжение (холодная вода)?', 'response': 'В доме по адресу \"Санкт-Петербург, Володарского, 60\" есть холодная вода.', 'target_value': '1'}, '4508_12': {'building_id': 117039, 'query': 'Есть ли в доме по адресу \"Санкт-Петербург, Володарского, 60\" централизованная электрификация (электричество)?', 'response': 'В доме по адресу \"Санкт-Петербург, Володарского, 60\" есть централизованное электроснабжение.', 'target_value': '1'}, '4508_13': {'building_id': 117039, 'query': 'Есть ли в доме по адресу \"Санкт-Петербург, Володарского, 60\" центральный газопровод (газ)?', 'response': 'В доме по адресу \"Санкт-Петербург, Володарского, 60\" есть центральный газопровод.', 'target_value': '1'}, '4508_14': {'building_id': 117039, 'query': 'Есть ли в доме по адресу \"Санкт-Петербург, Володарского, 60\" мусоропровод?', 'response': 'В доме по адресу \"Санкт-Петербург, Володарского, 60\" есть мусоропровод.', 'target_value': '1'}, '4508_15': {'building_id': 117039, 'query': 'Как называется управляющая компания в доме по адресу \"Санкт-Петербург, Володарского, 60\"?', 'response': 'Управляющая компания в доме по адресу \"Санкт-Петербург, Володарского, 60\" называется \"ООО \"ЖКС Курортного района\"\".', 'target_value': 'ООО \"ЖКС Курортного района\"'}, '4508_16': {'building_id': 117039, 'query': 'Является ли дом по адресу \"Санкт-Петербург, Володарского, 60\" аварийным?', 'response': 'Дом по адресу \"Санкт-Петербург, Володарского, 60\" не является аварийным.', 'target_value': '0'}, '4508_17': {'building_id': 117039, 'query': 'Сколько лифтов в доме по адресу \"Санкт-Петербург, Володарского, 60\"?', 'response': 'Для дома по адресу \"Санкт-Петербург, Володарского, 60\" данная информация отсутствует', 'target_value': 'null'}, '4508_18': {'building_id': 117039, 'query': 'В какие годы производился капремонт дома по адресу \"Санкт-Петербург, Володарского, 60\"?', 'response': 'Капремонт в доме по адресу \"Санкт-Петербург, Володарского, 60\" производился в следующие годы: 2002; 2008.', 'target_value': '2002; 2008'}, '4508_19': {'building_id': 117039, 'query': 'Является ли здание по адресу \"Санкт-Петербург, Володарского, 60\" жилым?', 'response': 'Дом по адресу \"Санкт-Петербург, Володарского, 60\" является жилым.', 'target_value': 'Жилой дом'}, '4508_20': {'building_id': 117039, 'query': 'Какой год постройки дома по адресу \"Санкт-Петербург, Володарского, 60\"?', 'response': 'Дом по адресу \"Санкт-Петербург, Володарского, 60\" был построен в 1983 году.', 'target_value': 1983.0}, '4508_21': {'building_id': 117039, 'query': 'Каковы геометрические координаты дома по адресу \"Санкт-Петербург, Володарского, 60\"?', 'response': 'Геометрические координаты дома по адресу \"Санкт-Петербург, Володарского, 60\" – (29.969805, 60.106095).', 'target_value': [29.969805, 60.106095]}, '4509_0': {'building_id': 117040, 'query': 'Какой идентификатор физического объекта у дома по адресу \"Санкт-Петербург, Ленинградская, 70 к3\"?', 'response': 'Идентификатор дома по адресу \"Санкт-Петербург, Ленинградская, 70 к3\" – 117040.', 'target_value': 117040}, '4509_1': {'building_id': 117040, 'query': 'В каком районе находится дом по адресу \"Санкт-Петербург, Ленинградская, 70 к3\"?', 'response': 'Дом по адресу \"Санкт-Петербург, Ленинградская, 70 к3\" находится в районе \"Курортный\".', 'target_value': 'Курортный'}, '4509_2': {'building_id': 117040, 'query': 'В каком муниципальном образовании находится дом по адресу \"Санкт-Петербург, Ленинградская, 70 к3\"?', 'response': 'Дом по адресу \"Санкт-Петербург, Ленинградская, 70 к3\" находится в муниципальном образовании Песочный.', 'target_value': 'Песочный'}, '4509_3': {'building_id': 117040, 'query': 'Какой тип проекта застройки дома по адресу \"Санкт-Петербург, Ленинградская, 70 к3\"?', 'response': 'Для дома по адресу \"Санкт-Петербург, Ленинградская, 70 к3\" данная информация отсутствует', 'target_value': 'null'}, '4509_4': {'building_id': 117040, 'query': 'Какая площадь основания здания по адресу \"Санкт-Петербург, Ленинградская, 70 к3\"?', 'response': 'Площадь основания здания по адресу \"Санкт-Петербург, Ленинградская, 70 к3\" равна 1095 кв. м.', 'target_value': 1095.4322509765625}, '4509_5': {'building_id': 117040, 'query': 'Какова жилая площадь дома по адресу \"Санкт-Петербург, Ленинградская, 70 к3\"?', 'response': 'Жилкая площадь дома по адресу \"Санкт-Петербург, Ленинградская, 70 к3\" равна 3455 кв. м.', 'target_value': 3454.699951171875}, '4509_6': {'building_id': 117040, 'query': 'Сколько этажей в доме по адресу \"Санкт-Петербург, Ленинградская, 70 к3\"?', 'response': 'В доме по адресу \"Санкт-Петербург, Ленинградская, 70 к3\" 5 этажей', 'target_value': 5.0}, '4509_7': {'building_id': 117040, 'query': 'Сколько человек проживает в доме по адресу \"Санкт-Петербург, Ленинградская, 70 к3\"?', 'response': 'В доме по адресу \"Санкт-Петербург, Ленинградская, 70 к3\" проживает 185 человек.', 'target_value': 185.0}, '4509_8': {'building_id': 117040, 'query': 'Каково моделированное число жителей (после балансировки) в доме по адресу \"Санкт-Петербург, Ленинградская, 70 к3\"?', 'response': 'Моделированное число жителей (после балансировки) – 123 человек.', 'target_value': 123.0}, '4509_9': {'building_id': 117040, 'query': 'Есть ли в доме по адресу \"Санкт-Петербург, Ленинградская, 70 к3\" центральное отопление?', 'response': 'В доме по адресу \"Санкт-Петербург, Ленинградская, 70 к3\" есть центральное отопление.', 'target_value': '1'}, '4509_10': {'building_id': 117040, 'query': 'Есть ли в доме по адресу \"Санкт-Петербург, Ленинградская, 70 к3\" центральное водоснабжение (горячая вода)?', 'response': 'В доме по адресу \"Санкт-Петербург, Ленинградская, 70 к3\" есть горячая вода.', 'target_value': '1'}, '4509_11': {'building_id': 117040, 'query': 'Есть ли в доме по адресу \"Санкт-Петербург, Ленинградская, 70 к3\" центральное водоснабжение (холодная вода)?', 'response': 'В доме по адресу \"Санкт-Петербург, Ленинградская, 70 к3\" есть холодная вода.', 'target_value': '1'}, '4509_12': {'building_id': 117040, 'query': 'Есть ли в доме по адресу \"Санкт-Петербург, Ленинградская, 70 к3\" централизованная электрификация (электричество)?', 'response': 'В доме по адресу \"Санкт-Петербург, Ленинградская, 70 к3\" есть централизованное электроснабжение.', 'target_value': '1'}, '4509_13': {'building_id': 117040, 'query': 'Есть ли в доме по адресу \"Санкт-Петербург, Ленинградская, 70 к3\" центральный газопровод (газ)?', 'response': 'В доме по адресу \"Санкт-Петербург, Ленинградская, 70 к3\" есть центральный газопровод.', 'target_value': '1'}, '4509_14': {'building_id': 117040, 'query': 'Есть ли в доме по адресу \"Санкт-Петербург, Ленинградская, 70 к3\" мусоропровод?', 'response': 'В доме по адресу \"Санкт-Петербург, Ленинградская, 70 к3\" есть мусоропровод.', 'target_value': '0'}, '4509_15': {'building_id': 117040, 'query': 'Как называется управляющая компания в доме по адресу \"Санкт-Петербург, Ленинградская, 70 к3\"?', 'response': 'Управляющая компания в доме по адресу \"Санкт-Петербург, Ленинградская, 70 к3\" называется \"ООО \"РСУ \"Регион\"\".', 'target_value': 'ООО \"РСУ \"Регион\"'}, '4509_16': {'building_id': 117040, 'query': 'Является ли дом по адресу \"Санкт-Петербург, Ленинградская, 70 к3\" аварийным?', 'response': 'Дом по адресу \"Санкт-Петербург, Ленинградская, 70 к3\" не является аварийным.', 'target_value': '0'}, '4509_17': {'building_id': 117040, 'query': 'Сколько лифтов в доме по адресу \"Санкт-Петербург, Ленинградская, 70 к3\"?', 'response': 'В доме по адресу \"Санкт-Петербург, Ленинградская, 70 к3\" 0 лифтов.', 'target_value': 0.0}, '4509_18': {'building_id': 117040, 'query': 'В какие годы производился капремонт дома по адресу \"Санкт-Петербург, Ленинградская, 70 к3\"?', 'response': 'Капремонт в доме по адресу \"Санкт-Петербург, Ленинградская, 70 к3\" производился в следующие годы: 2000; 2007; 2008; 2011.', 'target_value': '2000; 2007; 2008; 2011'}, '4509_19': {'building_id': 117040, 'query': 'Является ли здание по адресу \"Санкт-Петербург, Ленинградская, 70 к3\" жилым?', 'response': 'Дом по адресу \"Санкт-Петербург, Ленинградская, 70 к3\" является жилым.', 'target_value': 'Жилой дом'}, '4509_20': {'building_id': 117040, 'query': 'Какой год постройки дома по адресу \"Санкт-Петербург, Ленинградская, 70 к3\"?', 'response': 'Дом по адресу \"Санкт-Петербург, Ленинградская, 70 к3\" был построен в 1963 году.', 'target_value': 1963.0}, '4509_21': {'building_id': 117040, 'query': 'Каковы геометрические координаты дома по адресу \"Санкт-Петербург, Ленинградская, 70 к3\"?', 'response': 'Геометрические координаты дома по адресу \"Санкт-Петербург, Ленинградская, 70 к3\" – (30.187631, 60.117958).', 'target_value': [30.187631, 60.117958]}}\n",
      "\n",
      "\n",
      "Context:\n",
      "\n",
      "{\"crs\": {\"properties\": {\"name\": \"urn:ogc:def:crs:OGC:1.3:CRS84\"}, \"type\": \"name\"}, \"features\": [{\"geometry\": {\"coordinates\": [29.661779, 60.200155], \"type\": \"Point\"}, \"properties\": {\"address\": \"Санкт-Петербург, город Зеленогорск, Овражная улица, дом 29, литера А\", \"administrative_unit\": \"Курортный\", \"block_id\": 5831, \"building_area\": 480.748291015625, \"building_year\": 1951.0, \"capacity\": 9447, \"central_electricity\": \"1\", \"central_gas\": \"0\", \"central_heating\": \"0\", \"central_hot_water\": \"0\", \"central_water\": \"1\", \"failure\": \"0\", \"id\": 117031, \"lift_count\": null, \"living_area\": 386.04998779296875, \"municipality\": \"Зеленогорск\", \"name\": \"Жилой дом\", \"population_balanced\": 17.0, \"project_type\": null, \"refusechute\": \"0\", \"repair_years\": null, \"resident_number\": 26.0, \"storeys_count\": 2.0, \"ukname\": \"ООО \\\"ЖКС Курортного района\\\"\"}, \"type\": \"Feature\"}, {\"geometry\": {\"coordinates\": [30.153159, 60.123333], \"type\": \"Point\"}, \"properties\": {\"address\": \"Санкт-Петербург, Центральная, 10\", \"administrative_unit\": \"Курортный\", \"block_id\": 4323, \"building_area\": 219.65988159179688, \"building_year\": 1905.0, \"capacity\": 5578, \"central_electricity\": \"1\", \"central_gas\": \"0\", \"central_heating\": \"0\", \"central_hot_water\": \"0\", \"central_water\": \"1\", \"failure\": \"1\", \"id\": 117032, \"lift_count\": 0.0, \"living_area\": 236.3000030517578, \"municipality\": \"Песочный\", \"name\": \"Жилой дом\", \"population_balanced\": 8.0, \"project_type\": null, \"refusechute\": \"1\", \"repair_years\": \"2010\", \"resident_number\": 18.0, \"storeys_count\": 1.0, \"ukname\": \"ООО \\\"РСУ \\\"Регион\\\"\"}, \"type\": \"Feature\"}, {\"geometry\": {\"coordinates\": [29.714038, 60.191614], \"type\": \"Point\"}, \"properties\": {\"address\": \"Санкт-Петербург, Приморское шоссе, 535\", \"administrative_unit\": \"Курортный\", \"block_id\": 6036, \"building_area\": 203.1707305908203, \"building_year\": 1917.0, \"capacity\": 8436, \"central_electricity\": \"1\", \"central_gas\": \"0\", \"central_heating\": \"0\", \"central_hot_water\": \"0\", \"central_water\": \"1\", \"failure\": \"0\", \"id\": 117033, \"lift_count\": null, \"living_area\": 197.6300048828125, \"municipality\": \"Зеленогорск\", \"name\": \"Жилой дом\", \"population_balanced\": 9.0, \"project_type\": null, \"refusechute\": \"0\", \"repair_years\": null, \"resident_number\": 12.0, \"storeys_count\": 1.0, \"ukname\": \"ООО \\\"ЖКС Курортного района\\\"\"}, \"type\": \"Feature\"}, {\"geometry\": {\"coordinates\": [29.977148, 60.096485], \"type\": \"Point\"}, \"properties\": {\"address\": \"Санкт-Петербург, Приморское шоссе, 302\", \"administrative_unit\": \"Курортный\", \"block_id\": 6241, \"building_area\": 1001.5562744140625, \"building_year\": 1965.0, \"capacity\": 6809, \"central_electricity\": \"1\", \"central_gas\": \"1\", \"central_heating\": \"1\", \"central_hot_water\": \"1\", \"central_water\": \"1\", \"failure\": \"0\", \"id\": 117034, \"lift_count\": null, \"living_area\": 3409.0, \"municipality\": \"Сестрорецк\", \"name\": \"Жилой дом\", \"population_balanced\": 111.0, \"project_type\": \"1-528кп\", \"refusechute\": \"0\", \"repair_years\": null, \"resident_number\": 100.0, \"storeys_count\": 5.0, \"ukname\": \"ЖСК № 115\"}, \"type\": \"Feature\"}, {\"geometry\": {\"coordinates\": [29.750382, 60.241838], \"type\": \"Point\"}, \"properties\": {\"address\": \"Санкт-Петербург, Жилой городок Красавица, 8\", \"administrative_unit\": \"Курортный\", \"block_id\": 5853, \"building_area\": 1014.3855590820312, \"building_year\": 1958.0, \"capacity\": 860, \"central_electricity\": \"1\", \"central_gas\": \"1\", \"central_heating\": \"1\", \"central_hot_water\": \"1\", \"central_water\": \"1\", \"failure\": \"0\", \"id\": 117035, \"lift_count\": null, \"living_area\": 1546.699951171875, \"municipality\": \"Зеленогорск\", \"name\": \"Жилой дом\", \"population_balanced\": 72.0, \"project_type\": \"Индивидуальный\", \"refusechute\": \"0\", \"repair_years\": \"2010; 2011\", \"resident_number\": 93.0, \"storeys_count\": 3.0, \"ukname\": \"ООО \\\"ЖКС Курортного района\\\"\"}, \"type\": \"Feature\"}, {\"geometry\": {\"coordinates\": [29.704946, 60.198535], \"type\": \"Point\"}, \"properties\": {\"address\": \"Санкт-Петербург, проспект Ленина, 26\", \"administrative_unit\": \"Курортный\", \"block_id\": 5959, \"building_area\": 1085.55126953125, \"building_year\": 1957.0, \"capacity\": 440, \"central_electricity\": \"1\", \"central_gas\": \"1\", \"central_heating\": \"1\", \"central_hot_water\": \"1\", \"central_water\": \"1\", \"failure\": \"0\", \"id\": 117036, \"lift_count\": null, \"living_area\": 1710.0999755859375, \"municipality\": \"Зеленогорск\", \"name\": \"Жилой дом\", \"population_balanced\": 80.0, \"project_type\": \"Индивидуальный\", \"refusechute\": \"0\", \"repair_years\": null, \"resident_number\": 85.0, \"storeys_count\": 3.0, \"ukname\": \"ООО \\\"ЖКС Курортного района\\\"\"}, \"type\": \"Feature\"}, {\"geometry\": {\"coordinates\": [29.975095, 60.102805], \"type\": \"Point\"}, \"properties\": {\"address\": \"Санкт-Петербург, Володарского, 43\", \"administrative_unit\": \"Курортный\", \"block_id\": 6241, \"building_area\": 149.4903106689453, \"building_year\": 1955.0, \"capacity\": 5, \"central_electricity\": \"1\", \"central_gas\": \"1\", \"central_heating\": \"1\", \"central_hot_water\": \"1\", \"central_water\": \"1\", \"failure\": \"0\", \"id\": 117037, \"lift_count\": null, \"living_area\": 164.0, \"municipality\": \"Сестрорецк\", \"name\": \"Жилой дом\", \"population_balanced\": 5.0, \"project_type\": null, \"refusechute\": \"0\", \"repair_years\": \"2006; 2007; 2008\", \"resident_number\": 6.0, \"storeys_count\": 2.0, \"ukname\": \"ООО \\\"ЖКС Курортного района\\\"\"}, \"type\": \"Feature\"}, {\"geometry\": {\"coordinates\": [30.156538, 60.126073], \"type\": \"Point\"}, \"properties\": {\"address\": \"Санкт-Петербург, Ленинградская, 3\", \"administrative_unit\": \"Курортный\", \"block_id\": 4601, \"building_area\": 312.6800231933594, \"building_year\": 1917.0, \"capacity\": 464, \"central_electricity\": \"1\", \"central_gas\": \"0\", \"central_heating\": \"0\", \"central_hot_water\": \"0\", \"central_water\": \"1\", \"failure\": \"0\", \"id\": 117038, \"lift_count\": 0.0, \"living_area\": 359.5, \"municipality\": \"Песочный\", \"name\": \"Жилой дом\", \"population_balanced\": 12.0, \"project_type\": null, \"refusechute\": \"1\", \"repair_years\": \"2004\", \"resident_number\": 20.0, \"storeys_count\": 1.0, \"ukname\": \"ООО \\\"РСУ \\\"РЕГИОН\\\"\"}, \"type\": \"Feature\"}, {\"geometry\": {\"coordinates\": [29.969805, 60.106095], \"type\": \"Point\"}, \"properties\": {\"address\": \"Санкт-Петербург, Володарского, 60\", \"administrative_unit\": \"Курортный\", \"block_id\": 5268, \"building_area\": 1351.758544921875, \"building_year\": 1983.0, \"capacity\": 295, \"central_electricity\": \"1\", \"central_gas\": \"1\", \"central_heating\": \"1\", \"central_hot_water\": \"1\", \"central_water\": \"1\", \"failure\": \"0\", \"id\": 117039, \"lift_count\": null, \"living_area\": 4365.10009765625, \"municipality\": \"Сестрорецк\", \"name\": \"Жилой дом\", \"population_balanced\": 142.0, \"project_type\": null, \"refusechute\": \"1\", \"repair_years\": \"2002; 2008\", \"resident_number\": 103.0, \"storeys_count\": 5.0, \"ukname\": \"ООО \\\"ЖКС Курортного района\\\"\"}, \"type\": \"Feature\"}, {\"geometry\": {\"coordinates\": [30.187631, 60.117958], \"type\": \"Point\"}, \"properties\": {\"address\": \"Санкт-Петербург, Ленинградская, 70 к3\", \"administrative_unit\": \"Курортный\", \"block_id\": 4644, \"building_area\": 1095.4322509765625, \"building_year\": 1963.0, \"capacity\": 78, \"central_electricity\": \"1\", \"central_gas\": \"1\", \"central_heating\": \"1\", \"central_hot_water\": \"1\", \"central_water\": \"1\", \"failure\": \"0\", \"id\": 117040, \"lift_count\": 0.0, \"living_area\": 3454.699951171875, \"municipality\": \"Песочный\", \"name\": \"Жилой дом\", \"population_balanced\": 123.0, \"project_type\": null, \"refusechute\": \"0\", \"repair_years\": \"2000; 2007; 2008; 2011\", \"resident_number\": 185.0, \"storeys_count\": 5.0, \"ukname\": \"ООО \\\"РСУ \\\"Регион\\\"\"}, \"type\": \"Feature\"}], \"type\": \"FeatureCollection\"}\n",
      "\n",
      "\n"
     ]
    }
   ],
   "source": [
    "print(f'Questions:\\n\\n{questions}\\n\\n')\n",
    "print(f'Context:\\n\\n{manual_context}\\n\\n')"
   ]
  },
  {
   "cell_type": "code",
   "execution_count": 12,
   "metadata": {},
   "outputs": [
    {
     "name": "stdout",
     "output_type": "stream",
     "text": [
      "Question: Какая площадь основания здания по адресу \"Санкт-Петербург, Володарского, 60\"?\n",
      "Desire response: Площадь основания здания по адресу \"Санкт-Петербург, Володарского, 60\" равна 1352 кв. м.\n"
     ]
    }
   ],
   "source": [
    "# File in question has multiple varinats of questions, we have to pick one\n",
    "question_id = list(questions.keys())[-40]\n",
    "question_response_pair = questions[question_id]\n",
    "manual_question = question_response_pair['query']\n",
    "target = question_response_pair['response']\n",
    "\n",
    "print(f'Question: {manual_question}')\n",
    "print(f'Desire response: {target}')\n"
   ]
  },
  {
   "cell_type": "code",
   "execution_count": 11,
   "metadata": {},
   "outputs": [],
   "source": [
    "# query_1 = \"\"\"Ответь на вопрос, основываясь на представленном ниже контексте. Если ты не знаешь ответ, просто скажи, что не знаешь. Для ответа используй максимум три предложения, дай краткое описание по имеющеся информации. Максимальная длина ответа 300 символов. Если в описании оснащения здания рядом с каким-то пунктом стоит 0, это значит, что описанный объект либо отсутствует, либо не исправен. В тексте 0 - означает нет, 1 - означает да (про аварийное состояние здания). Если указано значение None, значит информация в базе данных отсутствует. У ответа должны быть единицы измерения. Если в одном здании несколько организаций, укажи их все. Адрес здания (улица, номер дома, корпус) в вопросе пользователя должен полностью совпадать с данными из контекста. \n",
    "#               Контекст :{\"crs\": {\"properties\": {\"name\": \"urn:ogc:def:crs:OGC:1.3:CRS84\"}, \"type\": \"name\"}, \"features\": [{\"geometry\": {\"coordinates\": [30.413192, 59.931727], \"type\": \"Point\"}, \"properties\": {\"address\": \"Санкт-Петербург, Перевозный переулок, 19 к1\", \"administrative_unit\": \"Красногвардейский\", \"block_id\": 966, \"building_area\": 544.9767456054688, \"building_year\": 1970.0, \"capacity\": 104, \"central_electricity\": \"1\", \"central_gas\": \"1\", \"central_heating\": \"1\", \"central_hot_water\": \"1\", \"central_water\": \"1\", \"failure\": \"0\", \"id\": 112667, \"lift_count\": 2.0, \"living_area\": 4253.52978515625, \"municipality\": \"Малая Охта\", \"name\": \"Жилой дом\", \"population_balanced\": 182.0, \"project_type\": \"1-528\", \"refusechute\": \"1\", \"repair_years\": \"2008; 2009; 2013\", \"resident_number\": 137.0, \"storeys_count\": 12.0, \"ukname\": \"ЖСК №351\"}, \"type\": \"Feature\"}, {\"geometry\": {\"coordinates\": [30.446375, 60.002483], \"type\": \"Point\"}, \"properties\": {\"address\": \"Санкт-Петербург, Пискарёвский проспект, 143\", \"administrative_unit\": \"Красногвардейский\", \"block_id\": 209, \"building_area\": 625.3032836914062, \"building_year\": 1963.0, \"capacity\": 979, \"central_electricity\": \"1\", \"central_gas\": \"1\", \"central_heating\": \"1\", \"central_hot_water\": \"1\", \"central_water\": \"1\", \"failure\": \"0\", \"id\": 112668, \"lift_count\": null, \"living_area\": 1988.5999755859375, \"municipality\": \"Полюстрово\", \"name\": \"Жилой дом\", \"population_balanced\": 44.0, \"project_type\": \"Типовой\", \"refusechute\": \"0\", \"repair_years\": \"2003; 2007\", \"resident_number\": 127.0, \"storeys_count\": 4.0, \"ukname\": \"ООО \\\"Жилкомсервис  №2 Красногвардейского района\\\"\"}, \"type\": \"Feature\"}, {\"geometry\": {\"coordinates\": [30.478519, 59.942259], \"type\": \"Point\"}, \"properties\": {\"address\": \"Санкт-Петербург, Индустриальный проспект, 15\", \"administrative_unit\": \"Красногвардейский\", \"block_id\": 514, \"building_area\": 2208.093994140625, \"building_year\": 1987.0, \"capacity\": 38, \"central_electricity\": \"1\", \"central_gas\": \"0\", \"central_heating\": \"1\", \"central_hot_water\": \"1\", \"central_water\": \"1\", \"failure\": \"0\", \"id\": 112669, \"lift_count\": 10.0, \"living_area\": 15714.0, \"municipality\": \"Пороховые\", \"name\": \"Жилой дом\", \"population_balanced\": 786.0, \"project_type\": \"137 инд. 1эт\", \"refusechute\": \"1\", \"repair_years\": \"2006; 2011\", \"resident_number\": 890.0, \"storeys_count\": 12.0, \"ukname\": \"ООО \\\"Жилкомсервис №2 Красногвардейского района\\\"\"}, \"type\": \"Feature\"}, {\"geometry\": {\"coordinates\": [30.474802, 59.950229], \"type\": \"Point\"}, \"properties\": {\"address\": \"Санкт-Петербург, Индустриальный проспект, 29\", \"administrative_unit\": \"Красногвардейский\", \"block_id\": 1000, \"building_area\": 1654.4703369140625, \"building_year\": 1981.0, \"capacity\": 132, \"central_electricity\": \"1\", \"central_gas\": \"0\", \"central_heating\": \"1\", \"central_hot_water\": \"1\", \"central_water\": \"1\", \"failure\": \"0\", \"id\": 112670, \"lift_count\": 6.0, \"living_area\": 14881.900390625, \"municipality\": \"Пороховые\", \"name\": \"Жилой дом\", \"population_balanced\": 744.0, \"project_type\": \"137\", \"refusechute\": \"1\", \"repair_years\": \"2007; 2008; 2009; 2010; 2012\", \"resident_number\": 768.0, \"storeys_count\": 16.0, \"ukname\": \"ООО \\\"Жилкомсервис  №2 Красногвардейского района\\\"\"}, \"type\": \"Feature\"}, {\"geometry\": {\"coordinates\": [30.412829, 59.957531], \"type\": \"Point\"}, \"properties\": {\"address\": \"Санкт-Петербург, Синявинская, 3\", \"administrative_unit\": \"Красногвардейский\", \"block_id\": 1513, \"building_area\": 920.9356079101562, \"building_year\": 1955.0, \"capacity\": 4026, \"central_electricity\": \"1\", \"central_gas\": \"1\", \"central_heating\": \"1\", \"central_hot_water\": \"1\", \"central_water\": \"1\", \"failure\": \"0\", \"id\": 112671, \"lift_count\": null, \"living_area\": 2921.7900390625, \"municipality\": \"Большая Охта\", \"name\": \"Жилой дом\", \"population_balanced\": 109.0, \"project_type\": \"Индивидуальный\", \"refusechute\": \"0\", \"repair_years\": \"2005; 2008\", \"resident_number\": 151.0, \"storeys_count\": 5.0, \"ukname\": \"ООО \\\"Жилкомсервис  №1 Красногвардейского района\\\"\"}, \"type\": \"Feature\"}, {\"geometry\": {\"coordinates\": [30.412394, 59.930392], \"type\": \"Point\"}, \"properties\": {\"address\": \"Санкт-Петербург, Новочеркасский проспект, 24\", \"administrative_unit\": \"Красногвардейский\", \"block_id\": 966, \"building_area\": 1029.1322021484375, \"building_year\": 1961.0, \"capacity\": 11541, \"central_electricity\": \"1\", \"central_gas\": \"1\", \"central_heating\": \"1\", \"central_hot_water\": \"1\", \"central_water\": \"1\", \"failure\": \"0\", \"id\": 112672, \"lift_count\": null, \"living_area\": 3446.81005859375, \"municipality\": \"Малая Охта\", \"name\": \"Жилой дом\", \"population_balanced\": 147.0, \"project_type\": \"1-335\", \"refusechute\": \"0\", \"repair_years\": \"2005; 2007; 2008\", \"resident_number\": 157.0, \"storeys_count\": 5.0, \"ukname\": \"ООО \\\"Жилкомсервис  №1 Красногвардейского района\\\"\"}, \"type\": \"Feature\"}, {\"geometry\": {\"coordinates\": [30.482305, 59.9406], \"type\": \"Point\"}, \"properties\": {\"address\": \"Санкт-Петербург, Ленская, 5\", \"administrative_unit\": \"Красногвардейский\", \"block_id\": 584, \"building_area\": 842.4454345703125, \"building_year\": 1983.0, \"capacity\": 208, \"central_electricity\": \"1\", \"central_gas\": \"0\", \"central_heating\": \"1\", \"central_hot_water\": \"1\", \"central_water\": \"1\", \"failure\": \"0\", \"id\": 112673, \"lift_count\": 3.0, \"living_area\": 5957.89990234375, \"municipality\": \"Пороховые\", \"name\": \"Жилой дом\", \"population_balanced\": 298.0, \"project_type\": \"9664\", \"refusechute\": \"1\", \"repair_years\": \"2019\", \"resident_number\": 316.0, \"storeys_count\": 15.0, \"ukname\": \"ООО \\\"Жилкомсервис №2  Красногвардейского района\\\"\"}, \"type\": \"Feature\"}, {\"geometry\": {\"coordinates\": [30.413381, 59.951406], \"type\": \"Point\"}, \"properties\": {\"address\": \"Санкт-Петербург, Малыгина, 6\", \"administrative_unit\": \"Красногвардейский\", \"block_id\": 1245, \"building_area\": 608.9186401367188, \"building_year\": 1902.0, \"capacity\": 191, \"central_electricity\": \"1\", \"central_gas\": \"1\", \"central_heating\": \"1\", \"central_hot_water\": \"1\", \"central_water\": \"1\", \"failure\": \"0\", \"id\": 112674, \"lift_count\": null, \"living_area\": 1585.199951171875, \"municipality\": \"Большая Охта\", \"name\": \"Жилой дом\", \"population_balanced\": 59.0, \"project_type\": \"Индивидуальный\", \"refusechute\": \"0\", \"repair_years\": \"2004; 2005; 2011; 2012\", \"resident_number\": 96.0, \"storeys_count\": 4.0, \"ukname\": \"ООО \\\"Жилкомсервис № 1 Красногвардейского района\\\"\"}, \"type\": \"Feature\"}, {\"geometry\": {\"coordinates\": [30.497059, 59.952257], \"type\": \"Point\"}, \"properties\": {\"address\": \"Санкт-Петербург, проспект Энтузиастов, 53, Коммуны, 38\", \"administrative_unit\": \"Красногвардейский\", \"block_id\": 454, \"building_area\": 4079.040283203125, \"building_year\": 1982.0, \"capacity\": 205, \"central_electricity\": \"1\", \"central_gas\": \"0\", \"central_heating\": \"1\", \"central_hot_water\": \"1\", \"central_water\": \"1\", \"failure\": \"0\", \"id\": 112675, \"lift_count\": 15.0, \"living_area\": 28484.900390625, \"municipality\": \"Ржевка\", \"name\": \"Жилой дом\", \"population_balanced\": 1369.0, \"project_type\": \"1ЛГ-504Д\", \"refusechute\": \"1\", \"repair_years\": \"2002; 2007; 2008; 2018\", \"resident_number\": 1721.0, \"storeys_count\": 9.0, \"ukname\": \"ООО \\\"Жилкомсервис  №2 Красногвардейского района\\\"\"}, \"type\": \"Feature\"}, {\"geometry\": {\"coordinates\": [30.489192, 59.959992], \"type\": \"Point\"}, \"properties\": {\"address\": \"Санкт-Петербург, Коммуны, 54 к2\", \"administrative_unit\": \"Красногвардейский\", \"block_id\": 404, \"building_area\": 569.5244750976562, \"building_year\": 1950.0, \"capacity\": 4884, \"central_electricity\": \"1\", \"central_gas\": \"1\", \"central_heating\": \"1\", \"central_hot_water\": \"0\", \"central_water\": \"1\", \"failure\": \"0\", \"id\": 112677, \"lift_count\": null, \"living_area\": 689.7899780273438, \"municipality\": \"Ржевка\", \"name\": \"Жилой дом\", \"population_balanced\": 33.0, \"project_type\": \"Индивидуальный\", \"refusechute\": \"0\", \"repair_years\": \"2004; 2011\", \"resident_number\": 41.0, \"storeys_count\": 2.0, \"ukname\": \"ООО \\\"Жилкомсервис №2 Красногвардейского района\\\"\"}, \"type\": \"Feature\"}], \"type\": \"FeatureCollection\"}\n",
    "#               Вопрос: Есть ли в доме по адресу \"Санкт-Петербург, Перевозный переулок, 19 к1\" централизованная электрификация (электричество)?\"\"\"\n",
    "# answer_1 = pipeline(query_1)\n"
   ]
  },
  {
   "cell_type": "code",
   "execution_count": 12,
   "metadata": {},
   "outputs": [],
   "source": [
    "# print(answer_1[0]['generated_text'])"
   ]
  },
  {
   "cell_type": "code",
   "execution_count": 14,
   "metadata": {},
   "outputs": [],
   "source": [
    "query: str = get_prompt(question=manual_question, context=manual_context)\n",
    "# print(query)"
   ]
  },
  {
   "cell_type": "code",
   "execution_count": 15,
   "metadata": {},
   "outputs": [
    {
     "name": "stderr",
     "output_type": "stream",
     "text": [
      "Setting `pad_token_id` to `eos_token_id`:128001 for open-end generation.\n"
     ]
    }
   ],
   "source": [
    "answer: Any = pipeline(query, temperature=0.2)\n"
   ]
  },
  {
   "cell_type": "code",
   "execution_count": 16,
   "metadata": {},
   "outputs": [
    {
     "name": "stdout",
     "output_type": "stream",
     "text": [
      "Вопрос: Какая площадь основания здания по адресу \"Санкт-Петербург, Володарского, 60\"?\n",
      "Верный ответ: Площадь основания здания по адресу \"Санкт-Петербург, Володарского, 60\" равна 1352 кв. м.\n",
      "Ответ: \n",
      "             По адресу \"Санкт-Петербург, Володарского, 60\" здание с площадью основания 1351.758544921875 квадратных метров.\n"
     ]
    }
   ],
   "source": [
    "print(f'Вопрос: {manual_question}')\n",
    "print(f'Верный ответ: {target}')\n",
    "print(f'Ответ: {answer[0][\"generated_text\"].split(\"<|end_header_id|>\")[-1]}')"
   ]
  },
  {
   "cell_type": "code",
   "execution_count": 18,
   "metadata": {},
   "outputs": [],
   "source": [
    "json_ans = {'query': manual_question, \n",
    "            'llama_answer': answer[0][\"generated_text\"].split(\"<|end_header_id|>\")[-1], \n",
    "            'ideal_ans': target}"
   ]
  },
  {
   "cell_type": "code",
   "execution_count": 27,
   "metadata": {},
   "outputs": [],
   "source": [
    "save_path = pathlib.Path('./llama_answers_dataset')\n",
    "save_path.mkdir(exist_ok=True, parents=True)\n",
    "f_pref = 'llama_ans'\n",
    "idx = 0\n",
    "\n",
    "with open((save_path/f'{f_pref}_{idx}.json').resolve(), 'w') as pth:\n",
    "    json.dump(json_ans, pth)\n"
   ]
  },
  {
   "cell_type": "code",
   "execution_count": 25,
   "metadata": {},
   "outputs": [
    {
     "data": {
      "text/plain": [
       "PosixPath('/home/hdd/work/llms/BIAM-Urb/llama_answers_dataset/llama_ans_0.json')"
      ]
     },
     "execution_count": 25,
     "metadata": {},
     "output_type": "execute_result"
    }
   ],
   "source": [
    "(save_path/f'{f_pref}_{idx}.json').resolve()"
   ]
  },
  {
   "cell_type": "code",
   "execution_count": null,
   "metadata": {},
   "outputs": [],
   "source": []
  }
 ],
 "metadata": {
  "kernelspec": {
   "display_name": "llama3-urbanistic",
   "language": "python",
   "name": "llama3-urbanistic"
  },
  "language_info": {
   "codemirror_mode": {
    "name": "ipython",
    "version": 3
   },
   "file_extension": ".py",
   "mimetype": "text/x-python",
   "name": "python",
   "nbconvert_exporter": "python",
   "pygments_lexer": "ipython3",
   "version": "3.10.14"
  }
 },
 "nbformat": 4,
 "nbformat_minor": 4
}
